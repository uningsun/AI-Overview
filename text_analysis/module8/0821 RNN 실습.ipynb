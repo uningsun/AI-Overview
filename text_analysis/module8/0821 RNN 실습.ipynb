{
 "cells": [
  {
   "cell_type": "markdown",
   "metadata": {},
   "source": [
    "https://wikidocs.net/22886"
   ]
  },
  {
   "cell_type": "code",
   "execution_count": 1,
   "metadata": {},
   "outputs": [],
   "source": [
    "import numpy as np\n",
    "import tensorflow as tf\n",
    "from tensorflow import keras\n",
    "from tensorflow.keras.layers import SimpleRNN\n",
    "\n",
    "tf.enable_eager_execution()"
   ]
  },
  {
   "cell_type": "markdown",
   "metadata": {},
   "source": [
    "### RNN"
   ]
  },
  {
   "cell_type": "code",
   "execution_count": 6,
   "metadata": {},
   "outputs": [
    {
     "data": {
      "image/png": "[encoded data removed]",
      "text/plain": [
       "<IPython.core.display.Image object>"
      ]
     },
     "execution_count": 6,
     "metadata": {},
     "output_type": "execute_result"
    }
   ],
   "source": [
    "from IPython.display import Image\n",
    "Image('https://wikidocs.net/images/page/22886/rnn_image6between7.PNG')"
   ]
  },
  {
   "cell_type": "code",
   "execution_count": 1,
   "metadata": {},
   "outputs": [
    {
     "name": "stderr",
     "output_type": "stream",
     "text": [
      "Using TensorFlow backend.\n"
     ]
    }
   ],
   "source": [
    "from keras.models import Sequential\n",
    "from keras.layers import SimpleRNN"
   ]
  },
  {
   "cell_type": "code",
   "execution_count": 2,
   "metadata": {
    "scrolled": true
   },
   "outputs": [
    {
     "name": "stdout",
     "output_type": "stream",
     "text": [
      "WARNING:tensorflow:From C:\\Users\\Affinity\\.conda\\envs\\keras\\lib\\site-packages\\tensorflow\\python\\framework\\op_def_library.py:263: colocate_with (from tensorflow.python.framework.ops) is deprecated and will be removed in a future version.\n",
      "Instructions for updating:\n",
      "Colocations handled automatically by placer.\n",
      "_________________________________________________________________\n",
      "Layer (type)                 Output Shape              Param #   \n",
      "=================================================================\n",
      "simple_rnn_1 (SimpleRNN)     (None, 3)                 42        \n",
      "=================================================================\n",
      "Total params: 42\n",
      "Trainable params: 42\n",
      "Non-trainable params: 0\n",
      "_________________________________________________________________\n"
     ]
    }
   ],
   "source": [
    "model = Sequential()\n",
    "model.add(SimpleRNN(3, input_shape = (2,10)))\n",
    "#model.add(SimpleRNN(3, input_length = 2, input_dim=10))과 동일\n",
    "model.summary()"
   ]
  },
  {
   "cell_type": "markdown",
   "metadata": {},
   "source": [
    "헷갈리지 말아야할 점은 위의 코드는 출력층까지 포함한 하나의 완성된 인공 신경망 코드가 아니라 은닉층. 즉, RNN 층에 대한 코드라는 점입니다. 해당 코드가 리턴하는 결과값은 출력층의 결과가 아니라 하나의 은닉 상태 또는 정의하기에 따라 다수의 은닉 상태 입니다. 아래의 그림은 앞서 배운 출력층을 포함한 완성된 인공 신경망 그림과 은닉층까지만 표현한 그림의 차이를 보여줍니다."
   ]
  },
  {
   "cell_type": "code",
   "execution_count": 7,
   "metadata": {},
   "outputs": [
    {
     "data": {
      "image/png": "[encoded data removed]",
      "text/plain": [
       "<IPython.core.display.Image object>"
      ]
     },
     "execution_count": 7,
     "metadata": {},
     "output_type": "execute_result"
    }
   ],
   "source": [
    "Image('https://wikidocs.net/images/page/22886/rnn_image7_ver2.PNG')"
   ]
  },
  {
   "cell_type": "markdown",
   "metadata": {},
   "source": [
    "그렇다면 RNN 층은 위에서 설명한 입력 3D 텐서를 입력받아서 어떻게 은닉 상태를 출력할까요? RNN 층은 사용자의 설정에 따라 두 가지 종류의 출력을 내보냅니다. 메모리 셀의 최종 시점의 은닉 상태만을 리턴하고자 한다면 (batch_size, output_dim) 크기의 2D 텐서를 리턴합니다. 하지만, 메모리 셀의 각 시점(time-step)의 은닉 상태값들을 모아서 전체 시퀀스를 리턴하고자 한다면 (batch_size, timesteps, output_dim) 크기의 3D 텐서를 리턴합니다. 이는 RNN 층의 return_sequences 매개 변수에 True를 설정하여 설정이 가능합니다. (output_dim은 앞서 코드에서 정의한 hidden_size의 값으로 설정됩니다.)\n",
    "\n"
   ]
  },
  {
   "cell_type": "code",
   "execution_count": 8,
   "metadata": {},
   "outputs": [
    {
     "data": {
      "image/png": "[encoded data removed]",
      "text/plain": [
       "<IPython.core.display.Image object>"
      ]
     },
     "execution_count": 8,
     "metadata": {},
     "output_type": "execute_result"
    }
   ],
   "source": [
    "Image('https://wikidocs.net/images/page/22886/rnn_image8_ver2.PNG')"
   ]
  },
  {
   "cell_type": "markdown",
   "metadata": {},
   "source": [
    "batch size를 미리 정의하지 않았기 때문에 (None, 3)"
   ]
  },
  {
   "cell_type": "code",
   "execution_count": 3,
   "metadata": {},
   "outputs": [
    {
     "name": "stdout",
     "output_type": "stream",
     "text": [
      "_________________________________________________________________\n",
      "Layer (type)                 Output Shape              Param #   \n",
      "=================================================================\n",
      "simple_rnn_2 (SimpleRNN)     (8, 3)                    42        \n",
      "=================================================================\n",
      "Total params: 42\n",
      "Trainable params: 42\n",
      "Non-trainable params: 0\n",
      "_________________________________________________________________\n"
     ]
    }
   ],
   "source": [
    "#batch_size를 미리 정의\n",
    "model = Sequential()\n",
    "model.add(SimpleRNN(3, batch_input_shape = (8,2,10)))\n",
    "model.summary()"
   ]
  },
  {
   "cell_type": "markdown",
   "metadata": {},
   "source": [
    "return_sequences=True를 선택하면 메모리 셀이 모든 시점(time-step)에 대해서 은닉 상태값을 출력하며, 별도 기재하지 않거나 return_sequences=False로 선택할 경우에는 메모리 셀은 하나의 은닉 상태값만을 출력합니다. 그리고 이 하나의 값은 마지막 시점(time-step)의 메모리 셀의 은닉 상태값입니다.\n",
    "\n",
    "마지막 은닉 상태만 전달하도록 하면 many-to-one 문제를 풀 수 있고, 모든 시점의 은닉 상태를 전달하도록 하면, 다음층에 은닉층이 하나 더 있는 경우이거나 many-to-many 문제를 풀 수 있습니다."
   ]
  },
  {
   "cell_type": "code",
   "execution_count": 4,
   "metadata": {},
   "outputs": [
    {
     "name": "stdout",
     "output_type": "stream",
     "text": [
      "_________________________________________________________________\n",
      "Layer (type)                 Output Shape              Param #   \n",
      "=================================================================\n",
      "simple_rnn_3 (SimpleRNN)     (8, 2, 3)                 42        \n",
      "=================================================================\n",
      "Total params: 42\n",
      "Trainable params: 42\n",
      "Non-trainable params: 0\n",
      "_________________________________________________________________\n"
     ]
    }
   ],
   "source": [
    "# 출력값으로 (batch_size, timesteps, output_dim) 크기의 3D 텐서를 리턴\n",
    "model = Sequential()\n",
    "model.add(SimpleRNN(3, batch_input_shape = (8,2,10), return_sequences = True))\n",
    "model.summary()"
   ]
  },
  {
   "cell_type": "markdown",
   "metadata": {},
   "source": [
    "### 양방향 순환 신경망 Bidirectional Recurrent Neural Network)"
   ]
  },
  {
   "cell_type": "markdown",
   "metadata": {},
   "source": [
    "양방향 RNN은 하나의 출력값을 예측하기 위해 기본적으로 두 개의 메모리 셀을 사용합니다. 첫번째 메모리 셀은 앞에서 배운 것처럼 앞 시점의 은닉 상태(Forward States)를 전달받아 현재의 은닉 상태를 계산합니다. 두번째 메모리 셀은 앞에서 배운 것과는 다릅니다. 앞 시점의 은닉 상태가 아니라 뒤 시점의 은닉 상태(Backward States)를 전달 받아 현재의 은닉 상태를 계산합니다. 그리고 이 두 개의 값 모두가 하나의 출력값을 예측하기 위해 사용됩니다."
   ]
  },
  {
   "cell_type": "code",
   "execution_count": 5,
   "metadata": {},
   "outputs": [
    {
     "data": {
      "image/png": "[encoded data removed]",
      "text/plain": [
       "<IPython.core.display.Image object>"
      ]
     },
     "execution_count": 5,
     "metadata": {},
     "output_type": "execute_result"
    }
   ],
   "source": [
    "\n",
    "Image('https://wikidocs.net/images/page/22886/rnn_image5_ver2.PNG')"
   ]
  },
  {
   "cell_type": "markdown",
   "metadata": {},
   "source": [
    "#### 가벼운 실습. 실제 모델 구현 목적보다는 모델링 이해를 위한 실습"
   ]
  },
  {
   "cell_type": "code",
   "execution_count": 2,
   "metadata": {},
   "outputs": [],
   "source": [
    "import numpy as np\n",
    "import tensorflow as tf\n",
    "from tensorflow import keras\n",
    "from tensorflow.keras.layers import SimpleRNN\n",
    "# tf.enable_eager_execution() 시작 때 수행되어야 함"
   ]
  },
  {
   "cell_type": "code",
   "execution_count": 8,
   "metadata": {},
   "outputs": [
    {
     "data": {
      "text/plain": [
       "(4, 5)"
      ]
     },
     "execution_count": 8,
     "metadata": {},
     "output_type": "execute_result"
    }
   ],
   "source": [
    "train_X=[[0.1,4.2,1.5,1.1,2.8],[1.0,3.1,2.5,0.7,1.1],[0.3,2.1,1.5,.1,2],[2.2,1.4,.5,.9,1.1]]\n",
    "np.shape(train_X)"
   ]
  },
  {
   "cell_type": "markdown",
   "metadata": {},
   "source": [
    "(input_length, input_dim)의 크기에 해당됨. 여기서 input_length는 곧 시점(timestep)"
   ]
  },
  {
   "cell_type": "code",
   "execution_count": 9,
   "metadata": {},
   "outputs": [
    {
     "data": {
      "text/plain": [
       "(1, 4, 5)"
      ]
     },
     "execution_count": 9,
     "metadata": {},
     "output_type": "execute_result"
    }
   ],
   "source": [
    "#RNN은 3D 텐서를 입력받기 때문에 3D텐서로 변경\n",
    "train_X = [train_X]\n",
    "train_X = np.array(train_X, dtype = np.float32)\n",
    "train_X.shape"
   ]
  },
  {
   "cell_type": "markdown",
   "metadata": {},
   "source": [
    "(batch_size(문장 개수), timesteps, input_dim)에 해당되는 (1,4,5) 의 크기를 가지는 3D 텐서 생성"
   ]
  },
  {
   "cell_type": "code",
   "execution_count": 27,
   "metadata": {},
   "outputs": [
    {
     "data": {
      "text/plain": [
       "[<tf.Tensor: id=2542, shape=(1, 4, 3), dtype=float32, numpy=\n",
       " array([[[-0.9998839 , -0.9504982 , -0.9998037 ],\n",
       "         [-0.9796907 , -0.9817744 , -0.9999917 ],\n",
       "         [-0.8708688 , -0.244085  , -0.99963355],\n",
       "         [-0.8093793 , -0.99007994, -0.9997992 ]]], dtype=float32)>,\n",
       " <tf.Tensor: id=2528, shape=(1, 3), dtype=float32, numpy=array([[-0.8093793 , -0.99007994, -0.9997992 ]], dtype=float32)>]"
      ]
     },
     "execution_count": 27,
     "metadata": {},
     "output_type": "execute_result"
    }
   ],
   "source": [
    "rnn =SimpleRNN(3, return_sequences= True, return_state= True) # return_state : 마지막 은닉 상태를 리턴 / return_sequences : 모든 시점에 대해 을 리턴\n",
    "hidden_states, last_states = rnn(train_X)\n",
    "rnn(train_X)"
   ]
  },
  {
   "cell_type": "code",
   "execution_count": 13,
   "metadata": {},
   "outputs": [
    {
     "data": {
      "text/plain": [
       "<tf.Tensor: id=515, shape=(1, 3), dtype=float32, numpy=array([[-0.68355626, -0.617126  , -0.94395345]], dtype=float32)>"
      ]
     },
     "execution_count": 13,
     "metadata": {},
     "output_type": "execute_result"
    }
   ],
   "source": [
    "rnn =SimpleRNN(3)\n",
    "rnn(train_X)"
   ]
  },
  {
   "cell_type": "code",
   "execution_count": 16,
   "metadata": {},
   "outputs": [
    {
     "data": {
      "text/plain": [
       "<tf.Tensor: id=689, shape=(1, 4, 3), dtype=float32, numpy=\n",
       "array([[[0.9891739 , 0.9999545 , 0.99795514],\n",
       "        [0.9962509 , 0.9999231 , 0.98900497],\n",
       "        [0.93906444, 0.99960136, 0.8675098 ],\n",
       "        [0.9980718 , 0.9992328 , 0.946656  ]]], dtype=float32)>"
      ]
     },
     "execution_count": 16,
     "metadata": {},
     "output_type": "execute_result"
    }
   ],
   "source": [
    "rnn=SimpleRNN(3, return_sequences= True)\n",
    "rnn(train_X)"
   ]
  },
  {
   "cell_type": "code",
   "execution_count": 23,
   "metadata": {
    "scrolled": true
   },
   "outputs": [
    {
     "data": {
      "text/plain": [
       "<tf.Tensor: id=1896, shape=(1, 3), dtype=float32, numpy=array([[ 0.14483131, -0.8721752 , -0.41330364]], dtype=float32)>"
      ]
     },
     "execution_count": 23,
     "metadata": {},
     "output_type": "execute_result"
    }
   ],
   "source": [
    "rnn2=SimpleRNN(3, return_sequences=False)\n",
    "rnn2(train_X)"
   ]
  },
  {
   "cell_type": "markdown",
   "metadata": {},
   "source": [
    "### RNN을 이용한 언어 모델링"
   ]
  },
  {
   "cell_type": "code",
   "execution_count": 48,
   "metadata": {},
   "outputs": [],
   "source": [
    "#한국어 문장을 선언\n",
    "text = \"나랑 점심 먹으러 갈래 메뉴는 햄버거 점심 메뉴 좋지\""
   ]
  },
  {
   "cell_type": "code",
   "execution_count": 49,
   "metadata": {},
   "outputs": [],
   "source": [
    "#토큰화와 정수 인코딩\n",
    "from keras_preprocessing.text import Tokenizer\n",
    "t = Tokenizer()\n",
    "t.fit_on_texts([text])\n",
    "encoded = t.texts_to_sequences([text])[0] \n",
    "# [0]을 해주지 않으면 [[contents]]와 같이 리스트 안 리스트로 저장 됨 / [0]을 하면 [content]로 하나의 원소를 가진 리스트로 저장됨"
   ]
  },
  {
   "cell_type": "code",
   "execution_count": 50,
   "metadata": {},
   "outputs": [],
   "source": [
    "vocab_size = len(t.word_index) + 1\n",
    "#케라스 토크나이저의 정수 인코딩은 인덱스가 1부터 시작하지만, 원-핫 인코딩에서 배열의 인덱스가 0부터 시작하기 때문에\n",
    "#배열의 크기를 실제 단어 집합 크기보다 +1로 생성해야 하므로 미리 +1 선언\n"
   ]
  },
  {
   "cell_type": "code",
   "execution_count": 51,
   "metadata": {},
   "outputs": [
    {
     "data": {
      "text/plain": [
       "{'점심': 1, '나랑': 2, '먹으러': 3, '갈래': 4, '메뉴는': 5, '햄버거': 6, '메뉴': 7, '좋지': 8}"
      ]
     },
     "execution_count": 51,
     "metadata": {},
     "output_type": "execute_result"
    }
   ],
   "source": [
    "t.word_index"
   ]
  },
  {
   "cell_type": "code",
   "execution_count": 52,
   "metadata": {},
   "outputs": [],
   "source": [
    "#문장에서 두 개 단어씩 묶어주기 - 문장의 bigram을 추출한다고 봐도 무방함\n",
    "sequences = list()\n",
    "for c in range(1,len(encoded)) :\n",
    "    sequence = encoded[c-1:c+1] # X, Y 관계를 구성하기 위해 단어를 두 개씩 묶어서 저장해줌\n",
    "    sequences.append(sequence)"
   ]
  },
  {
   "cell_type": "code",
   "execution_count": 53,
   "metadata": {},
   "outputs": [
    {
     "data": {
      "text/plain": [
       "[[2, 1], [1, 3], [3, 4], [4, 5], [5, 6], [6, 1], [1, 7], [7, 8]]"
      ]
     },
     "execution_count": 53,
     "metadata": {},
     "output_type": "execute_result"
    }
   ],
   "source": [
    "#출력\n",
    "sequences"
   ]
  },
  {
   "cell_type": "code",
   "execution_count": 54,
   "metadata": {},
   "outputs": [],
   "source": [
    "#첫번째 열과 두번째 열을 X와 y에 저장하는 코드\n",
    "import numpy as np\n",
    "X, y = zip(*sequences) # 1st 열 : X, 2nd 열 : y  / 세 개 이상 원소를 가지는 경우, 각 열마다 하나의 리스트로 뭉쳐짐\n",
    "X = np.array(X)\n",
    "y = np.array(y)"
   ]
  },
  {
   "cell_type": "code",
   "execution_count": 55,
   "metadata": {},
   "outputs": [
    {
     "data": {
      "text/plain": [
       "array([[0., 1., 0., 0., 0., 0., 0., 0., 0.],\n",
       "       [0., 0., 0., 1., 0., 0., 0., 0., 0.],\n",
       "       [0., 0., 0., 0., 1., 0., 0., 0., 0.],\n",
       "       [0., 0., 0., 0., 0., 1., 0., 0., 0.],\n",
       "       [0., 0., 0., 0., 0., 0., 1., 0., 0.],\n",
       "       [0., 1., 0., 0., 0., 0., 0., 0., 0.],\n",
       "       [0., 0., 0., 0., 0., 0., 0., 1., 0.],\n",
       "       [0., 0., 0., 0., 0., 0., 0., 0., 1.]], dtype=float32)"
      ]
     },
     "execution_count": 55,
     "metadata": {},
     "output_type": "execute_result"
    }
   ],
   "source": [
    "from keras.utils import to_categorical\n",
    "y = to_categorical(y, num_classes = vocab_size) # 원-핫 인코딩\n",
    "y"
   ]
  },
  {
   "cell_type": "code",
   "execution_count": 56,
   "metadata": {},
   "outputs": [],
   "source": [
    "import tensorflow as tf\n",
    "from keras.layers import Embedding, Dense, SimpleRNN\n",
    "from keras.models import Sequential\n",
    "tf.compat.v1.disable_eager_execution()\n",
    "\n",
    "model = Sequential()\n",
    "model.add(Embedding(vocab_size, 9, input_length = 1))\n",
    "#단어 집합 크기 : 9,, 임베딩 벡터 크기 : 9 (크지 않아 동일하게 설정. 보통 더 적게 설정), 각 sample의 길이는 단어 한 개이므로 길이 1\n",
    "model.add(SimpleRNN(5))\n",
    "#RNN 결과값도 차원 9. 더 크게 해줘도 상관 없음\n",
    "model.add(Dense(vocab_size, activation='softmax'))\n",
    "#출력층을 지나 나오는 벡터의 크기도 9로 한다.\n",
    "\n",
    "\n",
    "# SimpleRNN에 하나의 값을 인자로 줄 때, 이 값은 time-step이 아니라 hidden-size의 값, 즉 outuput_dim을 정의해준 숫자"
   ]
  },
  {
   "cell_type": "code",
   "execution_count": 57,
   "metadata": {},
   "outputs": [
    {
     "name": "stdout",
     "output_type": "stream",
     "text": [
      "Epoch 1/500\n",
      " - 1s - loss: 2.1992 - acc: 0.1250\n",
      "Epoch 2/500\n",
      " - 0s - loss: 2.1963 - acc: 0.2500\n",
      "Epoch 3/500\n",
      " - 0s - loss: 2.1934 - acc: 0.1250\n",
      "Epoch 4/500\n",
      " - 0s - loss: 2.1905 - acc: 0.2500\n",
      "Epoch 5/500\n",
      " - 0s - loss: 2.1876 - acc: 0.2500\n",
      "Epoch 6/500\n",
      " - 0s - loss: 2.1848 - acc: 0.2500\n",
      "Epoch 7/500\n",
      " - 0s - loss: 2.1819 - acc: 0.2500\n",
      "Epoch 8/500\n",
      " - 0s - loss: 2.1791 - acc: 0.2500\n",
      "Epoch 9/500\n",
      " - 0s - loss: 2.1762 - acc: 0.2500\n",
      "Epoch 10/500\n",
      " - 0s - loss: 2.1733 - acc: 0.2500\n",
      "Epoch 11/500\n",
      " - 0s - loss: 2.1705 - acc: 0.2500\n",
      "Epoch 12/500\n",
      " - 0s - loss: 2.1676 - acc: 0.2500\n",
      "Epoch 13/500\n",
      " - 0s - loss: 2.1647 - acc: 0.3750\n",
      "Epoch 14/500\n",
      " - 0s - loss: 2.1618 - acc: 0.3750\n",
      "Epoch 15/500\n",
      " - 0s - loss: 2.1589 - acc: 0.3750\n",
      "Epoch 16/500\n",
      " - 0s - loss: 2.1559 - acc: 0.3750\n",
      "Epoch 17/500\n",
      " - 0s - loss: 2.1530 - acc: 0.3750\n",
      "Epoch 18/500\n",
      " - 0s - loss: 2.1500 - acc: 0.3750\n",
      "Epoch 19/500\n",
      " - 0s - loss: 2.1470 - acc: 0.3750\n",
      "Epoch 20/500\n",
      " - 0s - loss: 2.1440 - acc: 0.3750\n",
      "Epoch 21/500\n",
      " - 0s - loss: 2.1410 - acc: 0.3750\n",
      "Epoch 22/500\n",
      " - 0s - loss: 2.1379 - acc: 0.3750\n",
      "Epoch 23/500\n",
      " - 0s - loss: 2.1348 - acc: 0.3750\n",
      "Epoch 24/500\n",
      " - 0s - loss: 2.1317 - acc: 0.3750\n",
      "Epoch 25/500\n",
      " - 0s - loss: 2.1286 - acc: 0.3750\n",
      "Epoch 26/500\n",
      " - 0s - loss: 2.1254 - acc: 0.3750\n",
      "Epoch 27/500\n",
      " - 0s - loss: 2.1222 - acc: 0.3750\n",
      "Epoch 28/500\n",
      " - 0s - loss: 2.1190 - acc: 0.3750\n",
      "Epoch 29/500\n",
      " - 0s - loss: 2.1158 - acc: 0.3750\n",
      "Epoch 30/500\n",
      " - 0s - loss: 2.1125 - acc: 0.3750\n",
      "Epoch 31/500\n",
      " - 0s - loss: 2.1091 - acc: 0.5000\n",
      "Epoch 32/500\n",
      " - 0s - loss: 2.1058 - acc: 0.5000\n",
      "Epoch 33/500\n",
      " - 0s - loss: 2.1024 - acc: 0.5000\n",
      "Epoch 34/500\n",
      " - 0s - loss: 2.0990 - acc: 0.5000\n",
      "Epoch 35/500\n",
      " - 0s - loss: 2.0955 - acc: 0.5000\n",
      "Epoch 36/500\n",
      " - 0s - loss: 2.0921 - acc: 0.5000\n",
      "Epoch 37/500\n",
      " - 0s - loss: 2.0885 - acc: 0.5000\n",
      "Epoch 38/500\n",
      " - 0s - loss: 2.0850 - acc: 0.5000\n",
      "Epoch 39/500\n",
      " - 0s - loss: 2.0814 - acc: 0.5000\n",
      "Epoch 40/500\n",
      " - 0s - loss: 2.0777 - acc: 0.5000\n",
      "Epoch 41/500\n",
      " - 0s - loss: 2.0741 - acc: 0.5000\n",
      "Epoch 42/500\n",
      " - 0s - loss: 2.0704 - acc: 0.5000\n",
      "Epoch 43/500\n",
      " - 0s - loss: 2.0666 - acc: 0.5000\n",
      "Epoch 44/500\n",
      " - 0s - loss: 2.0628 - acc: 0.5000\n",
      "Epoch 45/500\n",
      " - 0s - loss: 2.0590 - acc: 0.5000\n",
      "Epoch 46/500\n",
      " - 0s - loss: 2.0551 - acc: 0.5000\n",
      "Epoch 47/500\n",
      " - 0s - loss: 2.0512 - acc: 0.5000\n",
      "Epoch 48/500\n",
      " - 0s - loss: 2.0473 - acc: 0.5000\n",
      "Epoch 49/500\n",
      " - 0s - loss: 2.0433 - acc: 0.5000\n",
      "Epoch 50/500\n",
      " - 0s - loss: 2.0393 - acc: 0.5000\n",
      "Epoch 51/500\n",
      " - 0s - loss: 2.0352 - acc: 0.5000\n",
      "Epoch 52/500\n",
      " - 0s - loss: 2.0311 - acc: 0.5000\n",
      "Epoch 53/500\n",
      " - 0s - loss: 2.0270 - acc: 0.5000\n",
      "Epoch 54/500\n",
      " - 0s - loss: 2.0228 - acc: 0.5000\n",
      "Epoch 55/500\n",
      " - 0s - loss: 2.0186 - acc: 0.5000\n",
      "Epoch 56/500\n",
      " - 0s - loss: 2.0144 - acc: 0.5000\n",
      "Epoch 57/500\n",
      " - 0s - loss: 2.0101 - acc: 0.5000\n",
      "Epoch 58/500\n",
      " - 0s - loss: 2.0057 - acc: 0.5000\n",
      "Epoch 59/500\n",
      " - 0s - loss: 2.0014 - acc: 0.5000\n",
      "Epoch 60/500\n",
      " - 0s - loss: 1.9969 - acc: 0.5000\n",
      "Epoch 61/500\n",
      " - 0s - loss: 1.9925 - acc: 0.5000\n",
      "Epoch 62/500\n",
      " - 0s - loss: 1.9880 - acc: 0.5000\n",
      "Epoch 63/500\n",
      " - 0s - loss: 1.9835 - acc: 0.5000\n",
      "Epoch 64/500\n",
      " - 0s - loss: 1.9789 - acc: 0.5000\n",
      "Epoch 65/500\n",
      " - 0s - loss: 1.9743 - acc: 0.5000\n",
      "Epoch 66/500\n",
      " - 0s - loss: 1.9697 - acc: 0.5000\n",
      "Epoch 67/500\n",
      " - 0s - loss: 1.9650 - acc: 0.5000\n",
      "Epoch 68/500\n",
      " - 0s - loss: 1.9603 - acc: 0.5000\n",
      "Epoch 69/500\n",
      " - 0s - loss: 1.9555 - acc: 0.5000\n",
      "Epoch 70/500\n",
      " - 0s - loss: 1.9507 - acc: 0.5000\n",
      "Epoch 71/500\n",
      " - 0s - loss: 1.9459 - acc: 0.5000\n",
      "Epoch 72/500\n",
      " - 0s - loss: 1.9410 - acc: 0.5000\n",
      "Epoch 73/500\n",
      " - 0s - loss: 1.9361 - acc: 0.5000\n",
      "Epoch 74/500\n",
      " - 0s - loss: 1.9312 - acc: 0.5000\n",
      "Epoch 75/500\n",
      " - 0s - loss: 1.9262 - acc: 0.5000\n",
      "Epoch 76/500\n",
      " - 0s - loss: 1.9213 - acc: 0.5000\n",
      "Epoch 77/500\n",
      " - 0s - loss: 1.9162 - acc: 0.5000\n",
      "Epoch 78/500\n",
      " - 0s - loss: 1.9112 - acc: 0.5000\n",
      "Epoch 79/500\n",
      " - 0s - loss: 1.9061 - acc: 0.5000\n",
      "Epoch 80/500\n",
      " - 0s - loss: 1.9009 - acc: 0.5000\n",
      "Epoch 81/500\n",
      " - 0s - loss: 1.8958 - acc: 0.5000\n",
      "Epoch 82/500\n",
      " - 0s - loss: 1.8906 - acc: 0.5000\n",
      "Epoch 83/500\n",
      " - 0s - loss: 1.8854 - acc: 0.5000\n",
      "Epoch 84/500\n",
      " - 0s - loss: 1.8802 - acc: 0.5000\n",
      "Epoch 85/500\n",
      " - 0s - loss: 1.8749 - acc: 0.5000\n",
      "Epoch 86/500\n",
      " - 0s - loss: 1.8696 - acc: 0.5000\n",
      "Epoch 87/500\n",
      " - 0s - loss: 1.8643 - acc: 0.5000\n",
      "Epoch 88/500\n",
      " - 0s - loss: 1.8589 - acc: 0.5000\n",
      "Epoch 89/500\n",
      " - 0s - loss: 1.8536 - acc: 0.5000\n",
      "Epoch 90/500\n",
      " - 0s - loss: 1.8482 - acc: 0.5000\n",
      "Epoch 91/500\n",
      " - 0s - loss: 1.8427 - acc: 0.5000\n",
      "Epoch 92/500\n",
      " - 0s - loss: 1.8373 - acc: 0.5000\n",
      "Epoch 93/500\n",
      " - 0s - loss: 1.8318 - acc: 0.5000\n",
      "Epoch 94/500\n",
      " - 0s - loss: 1.8264 - acc: 0.5000\n",
      "Epoch 95/500\n",
      " - 0s - loss: 1.8209 - acc: 0.5000\n",
      "Epoch 96/500\n",
      " - 0s - loss: 1.8153 - acc: 0.5000\n",
      "Epoch 97/500\n",
      " - 0s - loss: 1.8098 - acc: 0.5000\n",
      "Epoch 98/500\n",
      " - 0s - loss: 1.8042 - acc: 0.5000\n",
      "Epoch 99/500\n",
      " - 0s - loss: 1.7987 - acc: 0.5000\n",
      "Epoch 100/500\n",
      " - 0s - loss: 1.7931 - acc: 0.5000\n",
      "Epoch 101/500\n",
      " - 0s - loss: 1.7874 - acc: 0.5000\n",
      "Epoch 102/500\n",
      " - 0s - loss: 1.7818 - acc: 0.5000\n",
      "Epoch 103/500\n",
      " - 0s - loss: 1.7762 - acc: 0.5000\n",
      "Epoch 104/500\n",
      " - 0s - loss: 1.7705 - acc: 0.5000\n",
      "Epoch 105/500\n",
      " - 0s - loss: 1.7649 - acc: 0.5000\n",
      "Epoch 106/500\n",
      " - 0s - loss: 1.7592 - acc: 0.5000\n",
      "Epoch 107/500\n",
      " - 0s - loss: 1.7535 - acc: 0.5000\n",
      "Epoch 108/500\n",
      " - 0s - loss: 1.7478 - acc: 0.5000\n",
      "Epoch 109/500\n",
      " - 0s - loss: 1.7421 - acc: 0.5000\n",
      "Epoch 110/500\n",
      " - 0s - loss: 1.7364 - acc: 0.5000\n",
      "Epoch 111/500\n",
      " - 0s - loss: 1.7307 - acc: 0.5000\n",
      "Epoch 112/500\n",
      " - 0s - loss: 1.7249 - acc: 0.5000\n",
      "Epoch 113/500\n",
      " - 0s - loss: 1.7192 - acc: 0.5000\n",
      "Epoch 114/500\n",
      " - 0s - loss: 1.7135 - acc: 0.5000\n",
      "Epoch 115/500\n",
      " - 0s - loss: 1.7077 - acc: 0.5000\n",
      "Epoch 116/500\n",
      " - 0s - loss: 1.7020 - acc: 0.5000\n",
      "Epoch 117/500\n",
      " - 0s - loss: 1.6962 - acc: 0.5000\n",
      "Epoch 118/500\n",
      " - 0s - loss: 1.6904 - acc: 0.5000\n",
      "Epoch 119/500\n",
      " - 0s - loss: 1.6847 - acc: 0.5000\n",
      "Epoch 120/500\n",
      " - 0s - loss: 1.6789 - acc: 0.5000\n",
      "Epoch 121/500\n",
      " - 0s - loss: 1.6732 - acc: 0.5000\n",
      "Epoch 122/500\n",
      " - 0s - loss: 1.6674 - acc: 0.5000\n",
      "Epoch 123/500\n",
      " - 0s - loss: 1.6616 - acc: 0.5000\n",
      "Epoch 124/500\n",
      " - 0s - loss: 1.6559 - acc: 0.5000\n",
      "Epoch 125/500\n",
      " - 0s - loss: 1.6501 - acc: 0.5000\n",
      "Epoch 126/500\n",
      " - 0s - loss: 1.6444 - acc: 0.5000\n",
      "Epoch 127/500\n",
      " - 0s - loss: 1.6386 - acc: 0.5000\n",
      "Epoch 128/500\n",
      " - 0s - loss: 1.6329 - acc: 0.5000\n",
      "Epoch 129/500\n",
      " - 0s - loss: 1.6271 - acc: 0.5000\n",
      "Epoch 130/500\n",
      " - 0s - loss: 1.6214 - acc: 0.5000\n",
      "Epoch 131/500\n",
      " - 0s - loss: 1.6156 - acc: 0.5000\n",
      "Epoch 132/500\n",
      " - 0s - loss: 1.6099 - acc: 0.6250\n",
      "Epoch 133/500\n",
      " - 0s - loss: 1.6042 - acc: 0.6250\n",
      "Epoch 134/500\n",
      " - 0s - loss: 1.5984 - acc: 0.6250\n",
      "Epoch 135/500\n",
      " - 0s - loss: 1.5927 - acc: 0.6250\n",
      "Epoch 136/500\n",
      " - 0s - loss: 1.5870 - acc: 0.6250\n",
      "Epoch 137/500\n",
      " - 0s - loss: 1.5813 - acc: 0.6250\n",
      "Epoch 138/500\n",
      " - 0s - loss: 1.5756 - acc: 0.6250\n",
      "Epoch 139/500\n",
      " - 0s - loss: 1.5700 - acc: 0.6250\n",
      "Epoch 140/500\n",
      " - 0s - loss: 1.5643 - acc: 0.6250\n",
      "Epoch 141/500\n",
      " - 0s - loss: 1.5586 - acc: 0.6250\n",
      "Epoch 142/500\n",
      " - 0s - loss: 1.5530 - acc: 0.6250\n",
      "Epoch 143/500\n",
      " - 0s - loss: 1.5474 - acc: 0.6250\n",
      "Epoch 144/500\n",
      " - 0s - loss: 1.5417 - acc: 0.6250\n",
      "Epoch 145/500\n",
      " - 0s - loss: 1.5361 - acc: 0.6250\n",
      "Epoch 146/500\n",
      " - 0s - loss: 1.5305 - acc: 0.6250\n",
      "Epoch 147/500\n",
      " - 0s - loss: 1.5249 - acc: 0.6250\n",
      "Epoch 148/500\n",
      " - 0s - loss: 1.5193 - acc: 0.6250\n",
      "Epoch 149/500\n",
      " - 0s - loss: 1.5138 - acc: 0.6250\n",
      "Epoch 150/500\n",
      " - 0s - loss: 1.5082 - acc: 0.6250\n",
      "Epoch 151/500\n",
      " - 0s - loss: 1.5027 - acc: 0.6250\n",
      "Epoch 152/500\n",
      " - 0s - loss: 1.4972 - acc: 0.7500\n",
      "Epoch 153/500\n",
      " - 0s - loss: 1.4916 - acc: 0.7500\n",
      "Epoch 154/500\n",
      " - 0s - loss: 1.4861 - acc: 0.7500\n",
      "Epoch 155/500\n",
      " - 0s - loss: 1.4807 - acc: 0.7500\n",
      "Epoch 156/500\n",
      " - 0s - loss: 1.4752 - acc: 0.7500\n",
      "Epoch 157/500\n",
      " - 0s - loss: 1.4698 - acc: 0.7500\n",
      "Epoch 158/500\n",
      " - 0s - loss: 1.4643 - acc: 0.7500\n",
      "Epoch 159/500\n",
      " - 0s - loss: 1.4589 - acc: 0.7500\n",
      "Epoch 160/500\n",
      " - 0s - loss: 1.4535 - acc: 0.7500\n",
      "Epoch 161/500\n",
      " - 0s - loss: 1.4481 - acc: 0.7500\n",
      "Epoch 162/500\n",
      " - 0s - loss: 1.4428 - acc: 0.7500\n",
      "Epoch 163/500\n",
      " - 0s - loss: 1.4374 - acc: 0.7500\n",
      "Epoch 164/500\n",
      " - 0s - loss: 1.4321 - acc: 0.7500\n",
      "Epoch 165/500\n",
      " - 0s - loss: 1.4268 - acc: 0.7500\n",
      "Epoch 166/500\n",
      " - 0s - loss: 1.4215 - acc: 0.7500\n",
      "Epoch 167/500\n",
      " - 0s - loss: 1.4162 - acc: 0.7500\n",
      "Epoch 168/500\n",
      " - 0s - loss: 1.4109 - acc: 0.7500\n",
      "Epoch 169/500\n",
      " - 0s - loss: 1.4057 - acc: 0.7500\n",
      "Epoch 170/500\n",
      " - 0s - loss: 1.4005 - acc: 0.7500\n"
     ]
    },
    {
     "name": "stdout",
     "output_type": "stream",
     "text": [
      "Epoch 171/500\n",
      " - 0s - loss: 1.3953 - acc: 0.7500\n",
      "Epoch 172/500\n",
      " - 0s - loss: 1.3901 - acc: 0.7500\n",
      "Epoch 173/500\n",
      " - 0s - loss: 1.3849 - acc: 0.7500\n",
      "Epoch 174/500\n",
      " - 0s - loss: 1.3797 - acc: 0.7500\n",
      "Epoch 175/500\n",
      " - 0s - loss: 1.3746 - acc: 0.7500\n",
      "Epoch 176/500\n",
      " - 0s - loss: 1.3695 - acc: 0.7500\n",
      "Epoch 177/500\n",
      " - 0s - loss: 1.3644 - acc: 0.7500\n",
      "Epoch 178/500\n",
      " - 0s - loss: 1.3593 - acc: 0.7500\n",
      "Epoch 179/500\n",
      " - 0s - loss: 1.3543 - acc: 0.7500\n",
      "Epoch 180/500\n",
      " - 0s - loss: 1.3493 - acc: 0.7500\n",
      "Epoch 181/500\n",
      " - 0s - loss: 1.3442 - acc: 0.7500\n",
      "Epoch 182/500\n",
      " - 0s - loss: 1.3393 - acc: 0.7500\n",
      "Epoch 183/500\n",
      " - 0s - loss: 1.3343 - acc: 0.7500\n",
      "Epoch 184/500\n",
      " - 0s - loss: 1.3293 - acc: 0.7500\n",
      "Epoch 185/500\n",
      " - 0s - loss: 1.3244 - acc: 0.7500\n",
      "Epoch 186/500\n",
      " - 0s - loss: 1.3195 - acc: 0.7500\n",
      "Epoch 187/500\n",
      " - 0s - loss: 1.3146 - acc: 0.7500\n",
      "Epoch 188/500\n",
      " - 0s - loss: 1.3097 - acc: 0.7500\n",
      "Epoch 189/500\n",
      " - 0s - loss: 1.3048 - acc: 0.7500\n",
      "Epoch 190/500\n",
      " - 0s - loss: 1.3000 - acc: 0.7500\n",
      "Epoch 191/500\n",
      " - 0s - loss: 1.2952 - acc: 0.7500\n",
      "Epoch 192/500\n",
      " - 0s - loss: 1.2904 - acc: 0.7500\n",
      "Epoch 193/500\n",
      " - 0s - loss: 1.2856 - acc: 0.7500\n",
      "Epoch 194/500\n",
      " - 0s - loss: 1.2808 - acc: 0.7500\n",
      "Epoch 195/500\n",
      " - 0s - loss: 1.2761 - acc: 0.7500\n",
      "Epoch 196/500\n",
      " - 0s - loss: 1.2714 - acc: 0.7500\n",
      "Epoch 197/500\n",
      " - 0s - loss: 1.2667 - acc: 0.7500\n",
      "Epoch 198/500\n",
      " - 0s - loss: 1.2620 - acc: 0.7500\n",
      "Epoch 199/500\n",
      " - 0s - loss: 1.2573 - acc: 0.7500\n",
      "Epoch 200/500\n",
      " - 0s - loss: 1.2527 - acc: 0.7500\n",
      "Epoch 201/500\n",
      " - 0s - loss: 1.2480 - acc: 0.7500\n",
      "Epoch 202/500\n",
      " - 0s - loss: 1.2434 - acc: 0.7500\n",
      "Epoch 203/500\n",
      " - 0s - loss: 1.2388 - acc: 0.7500\n",
      "Epoch 204/500\n",
      " - 0s - loss: 1.2342 - acc: 0.7500\n",
      "Epoch 205/500\n",
      " - 0s - loss: 1.2297 - acc: 0.7500\n",
      "Epoch 206/500\n",
      " - 0s - loss: 1.2251 - acc: 0.7500\n",
      "Epoch 207/500\n",
      " - 0s - loss: 1.2206 - acc: 0.7500\n",
      "Epoch 208/500\n",
      " - 0s - loss: 1.2161 - acc: 0.7500\n",
      "Epoch 209/500\n",
      " - 0s - loss: 1.2116 - acc: 0.7500\n",
      "Epoch 210/500\n",
      " - 0s - loss: 1.2071 - acc: 0.7500\n",
      "Epoch 211/500\n",
      " - 0s - loss: 1.2027 - acc: 0.7500\n",
      "Epoch 212/500\n",
      " - 0s - loss: 1.1982 - acc: 0.7500\n",
      "Epoch 213/500\n",
      " - 0s - loss: 1.1938 - acc: 0.7500\n",
      "Epoch 214/500\n",
      " - 0s - loss: 1.1894 - acc: 0.7500\n",
      "Epoch 215/500\n",
      " - 0s - loss: 1.1850 - acc: 0.7500\n",
      "Epoch 216/500\n",
      " - 0s - loss: 1.1806 - acc: 0.7500\n",
      "Epoch 217/500\n",
      " - 0s - loss: 1.1763 - acc: 0.7500\n",
      "Epoch 218/500\n",
      " - 0s - loss: 1.1719 - acc: 0.7500\n",
      "Epoch 219/500\n",
      " - 0s - loss: 1.1676 - acc: 0.7500\n",
      "Epoch 220/500\n",
      " - 0s - loss: 1.1633 - acc: 0.7500\n",
      "Epoch 221/500\n",
      " - 0s - loss: 1.1590 - acc: 0.7500\n",
      "Epoch 222/500\n",
      " - 0s - loss: 1.1547 - acc: 0.7500\n",
      "Epoch 223/500\n",
      " - 0s - loss: 1.1504 - acc: 0.7500\n",
      "Epoch 224/500\n",
      " - 0s - loss: 1.1461 - acc: 0.7500\n",
      "Epoch 225/500\n",
      " - 0s - loss: 1.1419 - acc: 0.7500\n",
      "Epoch 226/500\n",
      " - 0s - loss: 1.1377 - acc: 0.7500\n",
      "Epoch 227/500\n",
      " - 0s - loss: 1.1335 - acc: 0.7500\n",
      "Epoch 228/500\n",
      " - 0s - loss: 1.1292 - acc: 0.7500\n",
      "Epoch 229/500\n",
      " - 0s - loss: 1.1251 - acc: 0.7500\n",
      "Epoch 230/500\n",
      " - 0s - loss: 1.1209 - acc: 0.7500\n",
      "Epoch 231/500\n",
      " - 0s - loss: 1.1167 - acc: 0.7500\n",
      "Epoch 232/500\n",
      " - 0s - loss: 1.1126 - acc: 0.7500\n",
      "Epoch 233/500\n",
      " - 0s - loss: 1.1084 - acc: 0.7500\n",
      "Epoch 234/500\n",
      " - 0s - loss: 1.1043 - acc: 0.7500\n",
      "Epoch 235/500\n",
      " - 0s - loss: 1.1002 - acc: 0.7500\n",
      "Epoch 236/500\n",
      " - 0s - loss: 1.0961 - acc: 0.7500\n",
      "Epoch 237/500\n",
      " - 0s - loss: 1.0920 - acc: 0.7500\n",
      "Epoch 238/500\n",
      " - 0s - loss: 1.0879 - acc: 0.7500\n",
      "Epoch 239/500\n",
      " - 0s - loss: 1.0838 - acc: 0.7500\n",
      "Epoch 240/500\n",
      " - 0s - loss: 1.0798 - acc: 0.7500\n",
      "Epoch 241/500\n",
      " - 0s - loss: 1.0757 - acc: 0.7500\n",
      "Epoch 242/500\n",
      " - 0s - loss: 1.0717 - acc: 0.7500\n",
      "Epoch 243/500\n",
      " - 0s - loss: 1.0677 - acc: 0.7500\n",
      "Epoch 244/500\n",
      " - 0s - loss: 1.0636 - acc: 0.7500\n",
      "Epoch 245/500\n",
      " - 0s - loss: 1.0596 - acc: 0.7500\n",
      "Epoch 246/500\n",
      " - 0s - loss: 1.0556 - acc: 0.7500\n",
      "Epoch 247/500\n",
      " - 0s - loss: 1.0517 - acc: 0.7500\n",
      "Epoch 248/500\n",
      " - 0s - loss: 1.0477 - acc: 0.7500\n",
      "Epoch 249/500\n",
      " - 0s - loss: 1.0437 - acc: 0.7500\n",
      "Epoch 250/500\n",
      " - 0s - loss: 1.0398 - acc: 0.7500\n",
      "Epoch 251/500\n",
      " - 0s - loss: 1.0358 - acc: 0.7500\n",
      "Epoch 252/500\n",
      " - 0s - loss: 1.0319 - acc: 0.7500\n",
      "Epoch 253/500\n",
      " - 0s - loss: 1.0280 - acc: 0.7500\n",
      "Epoch 254/500\n",
      " - 0s - loss: 1.0241 - acc: 0.7500\n",
      "Epoch 255/500\n",
      " - 0s - loss: 1.0202 - acc: 0.7500\n",
      "Epoch 256/500\n",
      " - 0s - loss: 1.0163 - acc: 0.7500\n",
      "Epoch 257/500\n",
      " - 0s - loss: 1.0124 - acc: 0.7500\n",
      "Epoch 258/500\n",
      " - 0s - loss: 1.0085 - acc: 0.7500\n",
      "Epoch 259/500\n",
      " - 0s - loss: 1.0047 - acc: 0.7500\n",
      "Epoch 260/500\n",
      " - 0s - loss: 1.0008 - acc: 0.7500\n",
      "Epoch 261/500\n",
      " - 0s - loss: 0.9970 - acc: 0.7500\n",
      "Epoch 262/500\n",
      " - 0s - loss: 0.9931 - acc: 0.7500\n",
      "Epoch 263/500\n",
      " - 0s - loss: 0.9893 - acc: 0.7500\n",
      "Epoch 264/500\n",
      " - 0s - loss: 0.9855 - acc: 0.8750\n",
      "Epoch 265/500\n",
      " - 0s - loss: 0.9817 - acc: 0.8750\n",
      "Epoch 266/500\n",
      " - 0s - loss: 0.9779 - acc: 0.8750\n",
      "Epoch 267/500\n",
      " - 0s - loss: 0.9741 - acc: 0.8750\n",
      "Epoch 268/500\n",
      " - 0s - loss: 0.9703 - acc: 0.8750\n",
      "Epoch 269/500\n",
      " - 0s - loss: 0.9666 - acc: 0.8750\n",
      "Epoch 270/500\n",
      " - 0s - loss: 0.9628 - acc: 0.8750\n",
      "Epoch 271/500\n",
      " - 0s - loss: 0.9590 - acc: 0.8750\n",
      "Epoch 272/500\n",
      " - 0s - loss: 0.9553 - acc: 0.8750\n",
      "Epoch 273/500\n",
      " - 0s - loss: 0.9516 - acc: 0.8750\n",
      "Epoch 274/500\n",
      " - 0s - loss: 0.9479 - acc: 0.8750\n",
      "Epoch 275/500\n",
      " - 0s - loss: 0.9442 - acc: 0.8750\n",
      "Epoch 276/500\n",
      " - 0s - loss: 0.9405 - acc: 0.8750\n",
      "Epoch 277/500\n",
      " - 0s - loss: 0.9368 - acc: 0.8750\n",
      "Epoch 278/500\n",
      " - 0s - loss: 0.9331 - acc: 0.8750\n",
      "Epoch 279/500\n",
      " - 0s - loss: 0.9294 - acc: 0.8750\n",
      "Epoch 280/500\n",
      " - 0s - loss: 0.9258 - acc: 0.8750\n",
      "Epoch 281/500\n",
      " - 0s - loss: 0.9221 - acc: 0.8750\n",
      "Epoch 282/500\n",
      " - 0s - loss: 0.9185 - acc: 0.8750\n",
      "Epoch 283/500\n",
      " - 0s - loss: 0.9149 - acc: 0.8750\n",
      "Epoch 284/500\n",
      " - 0s - loss: 0.9112 - acc: 0.8750\n",
      "Epoch 285/500\n",
      " - 0s - loss: 0.9076 - acc: 0.8750\n",
      "Epoch 286/500\n",
      " - 0s - loss: 0.9040 - acc: 0.8750\n",
      "Epoch 287/500\n",
      " - 0s - loss: 0.9005 - acc: 0.8750\n",
      "Epoch 288/500\n",
      " - 0s - loss: 0.8969 - acc: 0.8750\n",
      "Epoch 289/500\n",
      " - 0s - loss: 0.8933 - acc: 0.8750\n",
      "Epoch 290/500\n",
      " - 0s - loss: 0.8898 - acc: 0.8750\n",
      "Epoch 291/500\n",
      " - 0s - loss: 0.8862 - acc: 0.8750\n",
      "Epoch 292/500\n",
      " - 0s - loss: 0.8827 - acc: 0.8750\n",
      "Epoch 293/500\n",
      " - 0s - loss: 0.8792 - acc: 0.8750\n",
      "Epoch 294/500\n",
      " - 0s - loss: 0.8757 - acc: 0.8750\n",
      "Epoch 295/500\n",
      " - 0s - loss: 0.8722 - acc: 0.8750\n",
      "Epoch 296/500\n",
      " - 0s - loss: 0.8687 - acc: 0.8750\n",
      "Epoch 297/500\n",
      " - 0s - loss: 0.8653 - acc: 0.8750\n",
      "Epoch 298/500\n",
      " - 0s - loss: 0.8618 - acc: 0.8750\n",
      "Epoch 299/500\n",
      " - 0s - loss: 0.8584 - acc: 0.8750\n",
      "Epoch 300/500\n",
      " - 0s - loss: 0.8549 - acc: 0.8750\n",
      "Epoch 301/500\n",
      " - 0s - loss: 0.8515 - acc: 0.8750\n",
      "Epoch 302/500\n",
      " - 0s - loss: 0.8481 - acc: 0.8750\n",
      "Epoch 303/500\n",
      " - 0s - loss: 0.8447 - acc: 0.8750\n",
      "Epoch 304/500\n",
      " - 0s - loss: 0.8413 - acc: 0.8750\n",
      "Epoch 305/500\n",
      " - 0s - loss: 0.8380 - acc: 0.8750\n",
      "Epoch 306/500\n",
      " - 0s - loss: 0.8346 - acc: 0.8750\n",
      "Epoch 307/500\n",
      " - 0s - loss: 0.8313 - acc: 0.8750\n",
      "Epoch 308/500\n",
      " - 0s - loss: 0.8280 - acc: 0.8750\n",
      "Epoch 309/500\n",
      " - 0s - loss: 0.8246 - acc: 0.8750\n",
      "Epoch 310/500\n",
      " - 0s - loss: 0.8213 - acc: 0.8750\n",
      "Epoch 311/500\n",
      " - 0s - loss: 0.8181 - acc: 0.8750\n",
      "Epoch 312/500\n",
      " - 0s - loss: 0.8148 - acc: 0.8750\n",
      "Epoch 313/500\n",
      " - 0s - loss: 0.8115 - acc: 0.8750\n",
      "Epoch 314/500\n",
      " - 0s - loss: 0.8083 - acc: 0.8750\n",
      "Epoch 315/500\n",
      " - 0s - loss: 0.8050 - acc: 0.8750\n",
      "Epoch 316/500\n",
      " - 0s - loss: 0.8018 - acc: 0.8750\n",
      "Epoch 317/500\n",
      " - 0s - loss: 0.7986 - acc: 0.8750\n",
      "Epoch 318/500\n",
      " - 0s - loss: 0.7954 - acc: 0.8750\n",
      "Epoch 319/500\n",
      " - 0s - loss: 0.7923 - acc: 0.8750\n",
      "Epoch 320/500\n",
      " - 0s - loss: 0.7891 - acc: 0.8750\n",
      "Epoch 321/500\n",
      " - 0s - loss: 0.7860 - acc: 0.8750\n",
      "Epoch 322/500\n",
      " - 0s - loss: 0.7828 - acc: 0.8750\n",
      "Epoch 323/500\n",
      " - 0s - loss: 0.7797 - acc: 0.8750\n",
      "Epoch 324/500\n",
      " - 0s - loss: 0.7766 - acc: 0.8750\n",
      "Epoch 325/500\n",
      " - 0s - loss: 0.7735 - acc: 0.8750\n",
      "Epoch 326/500\n",
      " - 0s - loss: 0.7705 - acc: 0.8750\n",
      "Epoch 327/500\n",
      " - 0s - loss: 0.7674 - acc: 0.8750\n",
      "Epoch 328/500\n",
      " - 0s - loss: 0.7644 - acc: 0.8750\n",
      "Epoch 329/500\n",
      " - 0s - loss: 0.7613 - acc: 0.8750\n",
      "Epoch 330/500\n",
      " - 0s - loss: 0.7583 - acc: 0.8750\n",
      "Epoch 331/500\n",
      " - 0s - loss: 0.7553 - acc: 0.8750\n",
      "Epoch 332/500\n",
      " - 0s - loss: 0.7523 - acc: 0.8750\n",
      "Epoch 333/500\n",
      " - 0s - loss: 0.7494 - acc: 0.8750\n",
      "Epoch 334/500\n",
      " - 0s - loss: 0.7464 - acc: 0.8750\n",
      "Epoch 335/500\n",
      " - 0s - loss: 0.7435 - acc: 0.8750\n",
      "Epoch 336/500\n",
      " - 0s - loss: 0.7406 - acc: 0.8750\n",
      "Epoch 337/500\n",
      " - 0s - loss: 0.7377 - acc: 0.8750\n",
      "Epoch 338/500\n",
      " - 0s - loss: 0.7348 - acc: 0.8750\n"
     ]
    },
    {
     "name": "stdout",
     "output_type": "stream",
     "text": [
      "Epoch 339/500\n",
      " - 0s - loss: 0.7319 - acc: 0.8750\n",
      "Epoch 340/500\n",
      " - 0s - loss: 0.7290 - acc: 0.8750\n",
      "Epoch 341/500\n",
      " - 0s - loss: 0.7262 - acc: 0.8750\n",
      "Epoch 342/500\n",
      " - 0s - loss: 0.7234 - acc: 0.8750\n",
      "Epoch 343/500\n",
      " - 0s - loss: 0.7205 - acc: 0.8750\n",
      "Epoch 344/500\n",
      " - 0s - loss: 0.7178 - acc: 0.8750\n",
      "Epoch 345/500\n",
      " - 0s - loss: 0.7150 - acc: 0.8750\n",
      "Epoch 346/500\n",
      " - 0s - loss: 0.7122 - acc: 0.8750\n",
      "Epoch 347/500\n",
      " - 0s - loss: 0.7095 - acc: 0.8750\n",
      "Epoch 348/500\n",
      " - 0s - loss: 0.7067 - acc: 0.8750\n",
      "Epoch 349/500\n",
      " - 0s - loss: 0.7040 - acc: 0.8750\n",
      "Epoch 350/500\n",
      " - 0s - loss: 0.7013 - acc: 0.8750\n",
      "Epoch 351/500\n",
      " - 0s - loss: 0.6986 - acc: 0.8750\n",
      "Epoch 352/500\n",
      " - 0s - loss: 0.6959 - acc: 0.8750\n",
      "Epoch 353/500\n",
      " - 0s - loss: 0.6933 - acc: 0.8750\n",
      "Epoch 354/500\n",
      " - 0s - loss: 0.6906 - acc: 0.8750\n",
      "Epoch 355/500\n",
      " - 0s - loss: 0.6880 - acc: 0.8750\n",
      "Epoch 356/500\n",
      " - 0s - loss: 0.6854 - acc: 0.8750\n",
      "Epoch 357/500\n",
      " - 0s - loss: 0.6828 - acc: 0.8750\n",
      "Epoch 358/500\n",
      " - 0s - loss: 0.6802 - acc: 0.8750\n",
      "Epoch 359/500\n",
      " - 0s - loss: 0.6777 - acc: 0.8750\n",
      "Epoch 360/500\n",
      " - 0s - loss: 0.6751 - acc: 0.8750\n",
      "Epoch 361/500\n",
      " - 0s - loss: 0.6726 - acc: 0.8750\n",
      "Epoch 362/500\n",
      " - 0s - loss: 0.6701 - acc: 0.8750\n",
      "Epoch 363/500\n",
      " - 0s - loss: 0.6675 - acc: 0.8750\n",
      "Epoch 364/500\n",
      " - 0s - loss: 0.6651 - acc: 0.8750\n",
      "Epoch 365/500\n",
      " - 0s - loss: 0.6626 - acc: 0.8750\n",
      "Epoch 366/500\n",
      " - 0s - loss: 0.6601 - acc: 0.8750\n",
      "Epoch 367/500\n",
      " - 0s - loss: 0.6577 - acc: 0.8750\n",
      "Epoch 368/500\n",
      " - 0s - loss: 0.6553 - acc: 0.8750\n",
      "Epoch 369/500\n",
      " - 0s - loss: 0.6528 - acc: 0.8750\n",
      "Epoch 370/500\n",
      " - 0s - loss: 0.6505 - acc: 0.8750\n",
      "Epoch 371/500\n",
      " - 0s - loss: 0.6481 - acc: 0.8750\n",
      "Epoch 372/500\n",
      " - 0s - loss: 0.6457 - acc: 0.8750\n",
      "Epoch 373/500\n",
      " - 0s - loss: 0.6433 - acc: 0.8750\n",
      "Epoch 374/500\n",
      " - 0s - loss: 0.6410 - acc: 0.8750\n",
      "Epoch 375/500\n",
      " - 0s - loss: 0.6387 - acc: 0.8750\n",
      "Epoch 376/500\n",
      " - 0s - loss: 0.6364 - acc: 0.8750\n",
      "Epoch 377/500\n",
      " - 0s - loss: 0.6341 - acc: 0.8750\n",
      "Epoch 378/500\n",
      " - 0s - loss: 0.6318 - acc: 0.8750\n",
      "Epoch 379/500\n",
      " - 0s - loss: 0.6295 - acc: 0.8750\n",
      "Epoch 380/500\n",
      " - 0s - loss: 0.6273 - acc: 0.8750\n",
      "Epoch 381/500\n",
      " - 0s - loss: 0.6251 - acc: 0.8750\n",
      "Epoch 382/500\n",
      " - 0s - loss: 0.6228 - acc: 0.8750\n",
      "Epoch 383/500\n",
      " - 0s - loss: 0.6206 - acc: 0.8750\n",
      "Epoch 384/500\n",
      " - 0s - loss: 0.6184 - acc: 0.8750\n",
      "Epoch 385/500\n",
      " - 0s - loss: 0.6162 - acc: 0.8750\n",
      "Epoch 386/500\n",
      " - 0s - loss: 0.6141 - acc: 0.8750\n",
      "Epoch 387/500\n",
      " - 0s - loss: 0.6119 - acc: 0.8750\n",
      "Epoch 388/500\n",
      " - 0s - loss: 0.6098 - acc: 0.8750\n",
      "Epoch 389/500\n",
      " - 0s - loss: 0.6077 - acc: 0.8750\n",
      "Epoch 390/500\n",
      " - 0s - loss: 0.6056 - acc: 0.8750\n",
      "Epoch 391/500\n",
      " - 0s - loss: 0.6035 - acc: 0.8750\n",
      "Epoch 392/500\n",
      " - 0s - loss: 0.6014 - acc: 0.8750\n",
      "Epoch 393/500\n",
      " - 0s - loss: 0.5993 - acc: 0.8750\n",
      "Epoch 394/500\n",
      " - 0s - loss: 0.5973 - acc: 0.8750\n",
      "Epoch 395/500\n",
      " - 0s - loss: 0.5952 - acc: 0.8750\n",
      "Epoch 396/500\n",
      " - 0s - loss: 0.5932 - acc: 0.8750\n",
      "Epoch 397/500\n",
      " - 0s - loss: 0.5912 - acc: 0.8750\n",
      "Epoch 398/500\n",
      " - 0s - loss: 0.5892 - acc: 0.8750\n",
      "Epoch 399/500\n",
      " - 0s - loss: 0.5872 - acc: 0.8750\n",
      "Epoch 400/500\n",
      " - 0s - loss: 0.5852 - acc: 0.8750\n",
      "Epoch 401/500\n",
      " - 0s - loss: 0.5833 - acc: 0.8750\n",
      "Epoch 402/500\n",
      " - 0s - loss: 0.5813 - acc: 0.8750\n",
      "Epoch 403/500\n",
      " - 0s - loss: 0.5794 - acc: 0.8750\n",
      "Epoch 404/500\n",
      " - 0s - loss: 0.5774 - acc: 0.8750\n",
      "Epoch 405/500\n",
      " - 0s - loss: 0.5755 - acc: 0.8750\n",
      "Epoch 406/500\n",
      " - 0s - loss: 0.5736 - acc: 0.8750\n",
      "Epoch 407/500\n",
      " - 0s - loss: 0.5717 - acc: 0.8750\n",
      "Epoch 408/500\n",
      " - 0s - loss: 0.5699 - acc: 0.8750\n",
      "Epoch 409/500\n",
      " - 0s - loss: 0.5680 - acc: 0.8750\n",
      "Epoch 410/500\n",
      " - 0s - loss: 0.5662 - acc: 0.8750\n",
      "Epoch 411/500\n",
      " - 0s - loss: 0.5643 - acc: 0.8750\n",
      "Epoch 412/500\n",
      " - 0s - loss: 0.5625 - acc: 0.8750\n",
      "Epoch 413/500\n",
      " - 0s - loss: 0.5607 - acc: 0.8750\n",
      "Epoch 414/500\n",
      " - 0s - loss: 0.5589 - acc: 0.8750\n",
      "Epoch 415/500\n",
      " - 0s - loss: 0.5571 - acc: 0.8750\n",
      "Epoch 416/500\n",
      " - 0s - loss: 0.5553 - acc: 0.8750\n",
      "Epoch 417/500\n",
      " - 0s - loss: 0.5536 - acc: 0.8750\n",
      "Epoch 418/500\n",
      " - 0s - loss: 0.5518 - acc: 0.8750\n",
      "Epoch 419/500\n",
      " - 0s - loss: 0.5501 - acc: 0.8750\n",
      "Epoch 420/500\n",
      " - 0s - loss: 0.5483 - acc: 0.8750\n",
      "Epoch 421/500\n",
      " - 0s - loss: 0.5466 - acc: 0.8750\n",
      "Epoch 422/500\n",
      " - 0s - loss: 0.5449 - acc: 0.8750\n",
      "Epoch 423/500\n",
      " - 0s - loss: 0.5432 - acc: 0.8750\n",
      "Epoch 424/500\n",
      " - 0s - loss: 0.5415 - acc: 0.8750\n",
      "Epoch 425/500\n",
      " - 0s - loss: 0.5399 - acc: 0.8750\n",
      "Epoch 426/500\n",
      " - 0s - loss: 0.5382 - acc: 0.8750\n",
      "Epoch 427/500\n",
      " - 0s - loss: 0.5366 - acc: 0.8750\n",
      "Epoch 428/500\n",
      " - 0s - loss: 0.5349 - acc: 0.8750\n",
      "Epoch 429/500\n",
      " - 0s - loss: 0.5333 - acc: 0.8750\n",
      "Epoch 430/500\n",
      " - 0s - loss: 0.5317 - acc: 0.8750\n",
      "Epoch 431/500\n",
      " - 0s - loss: 0.5301 - acc: 0.8750\n",
      "Epoch 432/500\n",
      " - 0s - loss: 0.5285 - acc: 0.8750\n",
      "Epoch 433/500\n",
      " - 0s - loss: 0.5269 - acc: 0.8750\n",
      "Epoch 434/500\n",
      " - 0s - loss: 0.5253 - acc: 0.8750\n",
      "Epoch 435/500\n",
      " - 0s - loss: 0.5237 - acc: 0.8750\n",
      "Epoch 436/500\n",
      " - 0s - loss: 0.5222 - acc: 0.8750\n",
      "Epoch 437/500\n",
      " - 0s - loss: 0.5206 - acc: 0.8750\n",
      "Epoch 438/500\n",
      " - 0s - loss: 0.5191 - acc: 0.8750\n",
      "Epoch 439/500\n",
      " - 0s - loss: 0.5176 - acc: 0.8750\n",
      "Epoch 440/500\n",
      " - 0s - loss: 0.5161 - acc: 0.8750\n",
      "Epoch 441/500\n",
      " - 0s - loss: 0.5146 - acc: 0.8750\n",
      "Epoch 442/500\n",
      " - 0s - loss: 0.5131 - acc: 0.8750\n",
      "Epoch 443/500\n",
      " - 0s - loss: 0.5116 - acc: 0.8750\n",
      "Epoch 444/500\n",
      " - 0s - loss: 0.5101 - acc: 0.8750\n",
      "Epoch 445/500\n",
      " - 0s - loss: 0.5087 - acc: 0.8750\n",
      "Epoch 446/500\n",
      " - 0s - loss: 0.5072 - acc: 0.8750\n",
      "Epoch 447/500\n",
      " - 0s - loss: 0.5058 - acc: 0.8750\n",
      "Epoch 448/500\n",
      " - 0s - loss: 0.5043 - acc: 0.8750\n",
      "Epoch 449/500\n",
      " - 0s - loss: 0.5029 - acc: 0.8750\n",
      "Epoch 450/500\n",
      " - 0s - loss: 0.5015 - acc: 0.8750\n",
      "Epoch 451/500\n",
      " - 0s - loss: 0.5001 - acc: 0.8750\n",
      "Epoch 452/500\n",
      " - 0s - loss: 0.4987 - acc: 0.8750\n",
      "Epoch 453/500\n",
      " - 0s - loss: 0.4973 - acc: 0.8750\n",
      "Epoch 454/500\n",
      " - 0s - loss: 0.4959 - acc: 0.8750\n",
      "Epoch 455/500\n",
      " - 0s - loss: 0.4945 - acc: 0.8750\n",
      "Epoch 456/500\n",
      " - 0s - loss: 0.4932 - acc: 0.8750\n",
      "Epoch 457/500\n",
      " - 0s - loss: 0.4918 - acc: 0.8750\n",
      "Epoch 458/500\n",
      " - 0s - loss: 0.4905 - acc: 0.8750\n",
      "Epoch 459/500\n",
      " - 0s - loss: 0.4891 - acc: 0.8750\n",
      "Epoch 460/500\n",
      " - 0s - loss: 0.4878 - acc: 0.8750\n",
      "Epoch 461/500\n",
      " - 0s - loss: 0.4865 - acc: 0.8750\n",
      "Epoch 462/500\n",
      " - 0s - loss: 0.4852 - acc: 0.8750\n",
      "Epoch 463/500\n",
      " - 0s - loss: 0.4839 - acc: 0.8750\n",
      "Epoch 464/500\n",
      " - 0s - loss: 0.4826 - acc: 0.8750\n",
      "Epoch 465/500\n",
      " - 0s - loss: 0.4813 - acc: 0.8750\n",
      "Epoch 466/500\n",
      " - 0s - loss: 0.4800 - acc: 0.8750\n",
      "Epoch 467/500\n",
      " - 0s - loss: 0.4788 - acc: 0.8750\n",
      "Epoch 468/500\n",
      " - 0s - loss: 0.4775 - acc: 0.8750\n",
      "Epoch 469/500\n",
      " - 0s - loss: 0.4763 - acc: 0.8750\n",
      "Epoch 470/500\n",
      " - 0s - loss: 0.4750 - acc: 0.8750\n",
      "Epoch 471/500\n",
      " - 0s - loss: 0.4738 - acc: 0.8750\n",
      "Epoch 472/500\n",
      " - 0s - loss: 0.4726 - acc: 0.8750\n",
      "Epoch 473/500\n",
      " - 0s - loss: 0.4713 - acc: 0.8750\n",
      "Epoch 474/500\n",
      " - 0s - loss: 0.4701 - acc: 0.8750\n",
      "Epoch 475/500\n",
      " - 0s - loss: 0.4689 - acc: 0.8750\n",
      "Epoch 476/500\n",
      " - 0s - loss: 0.4677 - acc: 0.8750\n",
      "Epoch 477/500\n",
      " - 0s - loss: 0.4665 - acc: 0.8750\n",
      "Epoch 478/500\n",
      " - 0s - loss: 0.4654 - acc: 0.8750\n",
      "Epoch 479/500\n",
      " - 0s - loss: 0.4642 - acc: 0.8750\n",
      "Epoch 480/500\n",
      " - 0s - loss: 0.4630 - acc: 0.8750\n",
      "Epoch 481/500\n",
      " - 0s - loss: 0.4619 - acc: 0.8750\n",
      "Epoch 482/500\n",
      " - 0s - loss: 0.4607 - acc: 0.8750\n",
      "Epoch 483/500\n",
      " - 0s - loss: 0.4596 - acc: 0.8750\n",
      "Epoch 484/500\n",
      " - 0s - loss: 0.4584 - acc: 0.8750\n",
      "Epoch 485/500\n",
      " - 0s - loss: 0.4573 - acc: 0.8750\n",
      "Epoch 486/500\n",
      " - 0s - loss: 0.4562 - acc: 0.8750\n",
      "Epoch 487/500\n",
      " - 0s - loss: 0.4551 - acc: 0.8750\n",
      "Epoch 488/500\n",
      " - 0s - loss: 0.4540 - acc: 0.8750\n",
      "Epoch 489/500\n",
      " - 0s - loss: 0.4528 - acc: 0.8750\n",
      "Epoch 490/500\n",
      " - 0s - loss: 0.4518 - acc: 0.8750\n",
      "Epoch 491/500\n",
      " - 0s - loss: 0.4507 - acc: 0.8750\n",
      "Epoch 492/500\n",
      " - 0s - loss: 0.4496 - acc: 0.8750\n",
      "Epoch 493/500\n",
      " - 0s - loss: 0.4485 - acc: 0.8750\n",
      "Epoch 494/500\n",
      " - 0s - loss: 0.4474 - acc: 0.8750\n",
      "Epoch 495/500\n",
      " - 0s - loss: 0.4464 - acc: 0.8750\n",
      "Epoch 496/500\n",
      " - 0s - loss: 0.4453 - acc: 0.8750\n",
      "Epoch 497/500\n",
      " - 0s - loss: 0.4443 - acc: 0.8750\n",
      "Epoch 498/500\n",
      " - 0s - loss: 0.4432 - acc: 0.8750\n",
      "Epoch 499/500\n",
      " - 0s - loss: 0.4422 - acc: 0.8750\n",
      "Epoch 500/500\n",
      " - 0s - loss: 0.4412 - acc: 0.8750\n"
     ]
    },
    {
     "data": {
      "text/plain": [
       "<keras.callbacks.History at 0x222824deb00>"
      ]
     },
     "execution_count": 57,
     "metadata": {},
     "output_type": "execute_result"
    }
   ],
   "source": [
    "model.compile(loss = 'categorical_crossentropy', optimizer = 'adam', metrics=['accuracy'])\n",
    "model.fit(X, y, epochs = 500, verbose = 2)"
   ]
  },
  {
   "cell_type": "code",
   "execution_count": 59,
   "metadata": {},
   "outputs": [
    {
     "data": {
      "text/plain": [
       "array([[0.00256979, 0.8274486 , 0.00151399, 0.01444408, 0.01967066,\n",
       "        0.04317044, 0.0172597 , 0.03563479, 0.03828797],\n",
       "       [0.00679117, 0.04484701, 0.00631687, 0.43639392, 0.08080025,\n",
       "        0.00412814, 0.0122248 , 0.36779165, 0.04070619],\n",
       "       [0.00502335, 0.02052069, 0.0113963 , 0.05111485, 0.662641  ,\n",
       "        0.00238852, 0.14927013, 0.09376051, 0.0038847 ],\n",
       "       [0.01627569, 0.07024859, 0.01190672, 0.00117477, 0.00112039,\n",
       "        0.80329955, 0.02813037, 0.00474252, 0.0631015 ],\n",
       "       [0.02623983, 0.01352234, 0.02335316, 0.00935724, 0.1475742 ,\n",
       "        0.05063564, 0.69703424, 0.02882266, 0.0034607 ],\n",
       "       [0.00255992, 0.82756495, 0.00151065, 0.01461028, 0.01951721,\n",
       "        0.04271834, 0.01692571, 0.03583818, 0.0387547 ],\n",
       "       [0.00679117, 0.04484701, 0.00631687, 0.43639392, 0.08080025,\n",
       "        0.00412814, 0.0122248 , 0.36779165, 0.04070619],\n",
       "       [0.0208605 , 0.10249052, 0.02171944, 0.04031161, 0.00255108,\n",
       "        0.04559111, 0.00275624, 0.0387997 , 0.7249198 ]], dtype=float32)"
      ]
     },
     "execution_count": 59,
     "metadata": {},
     "output_type": "execute_result"
    }
   ],
   "source": [
    "model.predict(X)"
   ]
  },
  {
   "cell_type": "code",
   "execution_count": 62,
   "metadata": {},
   "outputs": [
    {
     "data": {
      "text/plain": [
       "array([[0., 1., 0., 0., 0., 0., 0., 0., 0.],\n",
       "       [0., 0., 0., 1., 0., 0., 0., 0., 0.],\n",
       "       [0., 0., 0., 0., 1., 0., 0., 0., 0.],\n",
       "       [0., 0., 0., 0., 0., 1., 0., 0., 0.],\n",
       "       [0., 0., 0., 0., 0., 0., 1., 0., 0.],\n",
       "       [0., 1., 0., 0., 0., 0., 0., 0., 0.],\n",
       "       [0., 0., 0., 0., 0., 0., 0., 1., 0.],\n",
       "       [0., 0., 0., 0., 0., 0., 0., 0., 1.]], dtype=float32)"
      ]
     },
     "execution_count": 62,
     "metadata": {},
     "output_type": "execute_result"
    }
   ],
   "source": [
    "y"
   ]
  },
  {
   "cell_type": "code",
   "execution_count": 28,
   "metadata": {
    "scrolled": true
   },
   "outputs": [
    {
     "data": {
      "text/plain": [
       "dict_items([('점심', 1), ('나랑', 2), ('먹으러', 3), ('갈래', 4), ('메뉴는', 5), ('햄버거', 6), ('메뉴', 7), ('좋지', 8)])"
      ]
     },
     "execution_count": 28,
     "metadata": {},
     "output_type": "execute_result"
    }
   ],
   "source": [
    "t.word_index.items() # key와 value의 값을 쌍으로 튜플로 묶은 값을 리턴"
   ]
  },
  {
   "cell_type": "markdown",
   "metadata": {},
   "source": [
    "다음 단어를 출력하는 함수를 작성"
   ]
  },
  {
   "cell_type": "code",
   "execution_count": 29,
   "metadata": {},
   "outputs": [],
   "source": [
    "def predict_next_word(model, t, current_word) :\n",
    "    encoded = t.texts_to_sequences([current_word])[0]\n",
    "    encoded = np.array(encoded)\n",
    "    result = model.predict_classes(encoded, verbose=0)\n",
    "    for word, index in t.word_index.items() :\n",
    "        if index == result :\n",
    "            return word"
   ]
  },
  {
   "cell_type": "code",
   "execution_count": 32,
   "metadata": {
    "scrolled": true
   },
   "outputs": [
    {
     "data": {
      "text/plain": [
       "'갈래'"
      ]
     },
     "execution_count": 32,
     "metadata": {},
     "output_type": "execute_result"
    }
   ],
   "source": [
    "predict_next_word(model, t, '먹으러')"
   ]
  },
  {
   "cell_type": "markdown",
   "metadata": {},
   "source": [
    "방금 실습했던 함수를 for문과 조합하여 반복하도록 만들어 문장을 생성하는 함수 작성"
   ]
  },
  {
   "cell_type": "code",
   "execution_count": 33,
   "metadata": {},
   "outputs": [],
   "source": [
    "def sentence_generation(model, t, current_word, n) :\n",
    "    init_word = current_word\n",
    "    sentence = ''\n",
    "    for _ in range(n) : #n번 반복\n",
    "        encoded = t.texts_to_sequences([current_word])[0]\n",
    "        encoded = np.array(encoded)\n",
    "        result = model.predict_classes(encoded, verbose = 0)\n",
    "        for word, index in t.word_index.items() :\n",
    "            if index == result :\n",
    "                break\n",
    "        current_word = word\n",
    "        sentence = sentence + ' ' + word\n",
    "    sentence = init_word + sentence\n",
    "    return sentence"
   ]
  },
  {
   "cell_type": "code",
   "execution_count": 34,
   "metadata": {},
   "outputs": [
    {
     "data": {
      "text/plain": [
       "'점심 먹으러 갈래 메뉴는 햄버거 점심 먹으러 갈래 메뉴는 햄버거'"
      ]
     },
     "execution_count": 34,
     "metadata": {},
     "output_type": "execute_result"
    }
   ],
   "source": [
    "sentence_generation(model, t, '점심', 9)"
   ]
  },
  {
   "cell_type": "markdown",
   "metadata": {},
   "source": [
    "- 앞선 모델은 훈련 데이터에 '점심' 다음에 '먹으러'와 '메뉴'라는 단어가 한 번씩 나옴에 따라 어떤 단어를 선택할지 헷갈리는 모습을 보여줌\n",
    "- 다음 단어 등장 횟수가 같다고 해서 헷갈린다는 것은, 해당 모델이 문맥을 전혀 반영하지 못하는 모델이라는 것을 의미\n"
   ]
  },
  {
   "cell_type": "markdown",
   "metadata": {},
   "source": [
    "--> 대안은 모델이 문맥을 학습할 수 있도록 앞의 단어들도 함께 학습시키는 것. \n",
    "- 즉, 이전 모델처럼 현재 단어 + 다음 단어의 쌍(pair)을 X와 y로 훈련시키는 것이 아니라, 앞에 등장한 모든 단어의 시퀀스를 X로 학습시킴"
   ]
  },
  {
   "cell_type": "code",
   "execution_count": 70,
   "metadata": {},
   "outputs": [],
   "source": [
    "text = \"\"\"경마장에 있는 말이 뛰고 있다\\n\n",
    "그의 말이 법이다\\n\n",
    "가는 말이 고와야 오는 말이 곱다\"\"\""
   ]
  },
  {
   "cell_type": "markdown",
   "metadata": {},
   "source": [
    "토큰화와 정수 인코딩"
   ]
  },
  {
   "cell_type": "code",
   "execution_count": 71,
   "metadata": {},
   "outputs": [],
   "source": [
    "t = Tokenizer()\n",
    "t.fit_on_texts([text])\n",
    "encoded = t.texts_to_sequences([text])[0]"
   ]
  },
  {
   "cell_type": "code",
   "execution_count": 72,
   "metadata": {},
   "outputs": [
    {
     "data": {
      "text/plain": [
       "[2, 3, 1, 4, 5, 6, 1, 7, 8, 1, 9, 10, 1, 11]"
      ]
     },
     "execution_count": 72,
     "metadata": {},
     "output_type": "execute_result"
    }
   ],
   "source": [
    "encoded"
   ]
  },
  {
   "cell_type": "code",
   "execution_count": 73,
   "metadata": {},
   "outputs": [
    {
     "data": {
      "text/plain": [
       "{'말이': 1,\n",
       " '경마장에': 2,\n",
       " '있는': 3,\n",
       " '뛰고': 4,\n",
       " '있다': 5,\n",
       " '그의': 6,\n",
       " '법이다': 7,\n",
       " '가는': 8,\n",
       " '고와야': 9,\n",
       " '오는': 10,\n",
       " '곱다': 11}"
      ]
     },
     "execution_count": 73,
     "metadata": {},
     "output_type": "execute_result"
    }
   ],
   "source": [
    "vocab_size = len(t.word_index) + 1\n",
    "t.word_index"
   ]
  },
  {
   "cell_type": "code",
   "execution_count": 74,
   "metadata": {},
   "outputs": [
    {
     "name": "stdout",
     "output_type": "stream",
     "text": [
      "훈련 데이터의 개수 : 11\n"
     ]
    }
   ],
   "source": [
    "#훈련 데이터 만들기\n",
    "sequences = list()\n",
    "for line in text.split('\\n') :\n",
    "    encoded = t.texts_to_sequences([line])[0]\n",
    "    for i in range(1, len(encoded)) :\n",
    "        sequence = encoded[:i+1]\n",
    "        sequences.append(sequence)\n",
    "print('훈련 데이터의 개수 : %d' % len(sequences))"
   ]
  },
  {
   "cell_type": "code",
   "execution_count": 75,
   "metadata": {},
   "outputs": [
    {
     "data": {
      "text/plain": [
       "[[2, 3],\n",
       " [2, 3, 1],\n",
       " [2, 3, 1, 4],\n",
       " [2, 3, 1, 4, 5],\n",
       " [6, 1],\n",
       " [6, 1, 7],\n",
       " [8, 1],\n",
       " [8, 1, 9],\n",
       " [8, 1, 9, 10],\n",
       " [8, 1, 9, 10, 1],\n",
       " [8, 1, 9, 10, 1, 11]]"
      ]
     },
     "execution_count": 75,
     "metadata": {},
     "output_type": "execute_result"
    }
   ],
   "source": [
    "sequences"
   ]
  },
  {
   "cell_type": "markdown",
   "metadata": {},
   "source": [
    "모든 훈련 데이터에 대해 맨 우측에 있는 단어에 대해서만 y로 분리하면 X와 y의 쌍이 됨"
   ]
  },
  {
   "cell_type": "code",
   "execution_count": 76,
   "metadata": {},
   "outputs": [
    {
     "data": {
      "text/plain": [
       "6"
      ]
     },
     "execution_count": 76,
     "metadata": {},
     "output_type": "execute_result"
    }
   ],
   "source": [
    "#X와 y를 분리하기 전 모든 데이터의 길이를 맞춰야 함.\n",
    "max(len(i) for i in sequences)"
   ]
  },
  {
   "cell_type": "code",
   "execution_count": 77,
   "metadata": {},
   "outputs": [],
   "source": [
    "#모든 데이터에 대해 길이를 6으로 맞춰줌\n",
    "from keras.preprocessing.sequence import pad_sequences\n",
    "sequences = pad_sequences(sequences, maxlen=6, padding='pre')\n",
    "#모든 데이터에 대해 0을 추가해서 길이를 맞춰줌\n",
    "#maxlen : 데이터를 맞춰줄 길이\n",
    "#padding='pre' : 길이가 6보다 짧은 데이터의 앞을 0으로 채움"
   ]
  },
  {
   "cell_type": "code",
   "execution_count": 78,
   "metadata": {},
   "outputs": [
    {
     "data": {
      "text/plain": [
       "array([[ 0,  0,  0,  0,  2,  3],\n",
       "       [ 0,  0,  0,  2,  3,  1],\n",
       "       [ 0,  0,  2,  3,  1,  4],\n",
       "       [ 0,  2,  3,  1,  4,  5],\n",
       "       [ 0,  0,  0,  0,  6,  1],\n",
       "       [ 0,  0,  0,  6,  1,  7],\n",
       "       [ 0,  0,  0,  0,  8,  1],\n",
       "       [ 0,  0,  0,  8,  1,  9],\n",
       "       [ 0,  0,  8,  1,  9, 10],\n",
       "       [ 0,  8,  1,  9, 10,  1],\n",
       "       [ 8,  1,  9, 10,  1, 11]])"
      ]
     },
     "execution_count": 78,
     "metadata": {},
     "output_type": "execute_result"
    }
   ],
   "source": [
    "sequences"
   ]
  },
  {
   "cell_type": "code",
   "execution_count": 79,
   "metadata": {},
   "outputs": [],
   "source": [
    "sequences = np.array(sequences)\n",
    "X = sequences[:,:-1]\n",
    "y = sequences[:,-1]\n"
   ]
  },
  {
   "cell_type": "code",
   "execution_count": 80,
   "metadata": {},
   "outputs": [
    {
     "data": {
      "text/plain": [
       "array([[ 0,  0,  0,  0,  2],\n",
       "       [ 0,  0,  0,  2,  3],\n",
       "       [ 0,  0,  2,  3,  1],\n",
       "       [ 0,  2,  3,  1,  4],\n",
       "       [ 0,  0,  0,  0,  6],\n",
       "       [ 0,  0,  0,  6,  1],\n",
       "       [ 0,  0,  0,  0,  8],\n",
       "       [ 0,  0,  0,  8,  1],\n",
       "       [ 0,  0,  8,  1,  9],\n",
       "       [ 0,  8,  1,  9, 10],\n",
       "       [ 8,  1,  9, 10,  1]])"
      ]
     },
     "execution_count": 80,
     "metadata": {},
     "output_type": "execute_result"
    }
   ],
   "source": [
    "X\n"
   ]
  },
  {
   "cell_type": "code",
   "execution_count": 81,
   "metadata": {},
   "outputs": [
    {
     "data": {
      "text/plain": [
       "array([ 3,  1,  4,  5,  1,  7,  1,  9, 10,  1, 11])"
      ]
     },
     "execution_count": 81,
     "metadata": {},
     "output_type": "execute_result"
    }
   ],
   "source": [
    "y"
   ]
  },
  {
   "cell_type": "code",
   "execution_count": 83,
   "metadata": {},
   "outputs": [],
   "source": [
    "# 원핫 인코딩 수행 -> y에 대해서\n",
    "from keras.utils import to_categorical\n",
    "y = to_categorical(y, num_classes = vocab_size)"
   ]
  },
  {
   "cell_type": "code",
   "execution_count": 84,
   "metadata": {},
   "outputs": [
    {
     "data": {
      "text/plain": [
       "array([[0., 0., 0., 1., 0., 0., 0., 0., 0., 0., 0., 0.],\n",
       "       [0., 1., 0., 0., 0., 0., 0., 0., 0., 0., 0., 0.],\n",
       "       [0., 0., 0., 0., 1., 0., 0., 0., 0., 0., 0., 0.],\n",
       "       [0., 0., 0., 0., 0., 1., 0., 0., 0., 0., 0., 0.],\n",
       "       [0., 1., 0., 0., 0., 0., 0., 0., 0., 0., 0., 0.],\n",
       "       [0., 0., 0., 0., 0., 0., 0., 1., 0., 0., 0., 0.],\n",
       "       [0., 1., 0., 0., 0., 0., 0., 0., 0., 0., 0., 0.],\n",
       "       [0., 0., 0., 0., 0., 0., 0., 0., 0., 1., 0., 0.],\n",
       "       [0., 0., 0., 0., 0., 0., 0., 0., 0., 0., 1., 0.],\n",
       "       [0., 1., 0., 0., 0., 0., 0., 0., 0., 0., 0., 0.],\n",
       "       [0., 0., 0., 0., 0., 0., 0., 0., 0., 0., 0., 1.]], dtype=float32)"
      ]
     },
     "execution_count": 84,
     "metadata": {},
     "output_type": "execute_result"
    }
   ],
   "source": [
    "y"
   ]
  },
  {
   "cell_type": "code",
   "execution_count": 85,
   "metadata": {},
   "outputs": [
    {
     "name": "stdout",
     "output_type": "stream",
     "text": [
      "Epoch 1/200\n",
      " - 1s - loss: 2.4511 - acc: 0.2727\n",
      "Epoch 2/200\n",
      " - 0s - loss: 2.4373 - acc: 0.2727\n",
      "Epoch 3/200\n",
      " - 0s - loss: 2.4231 - acc: 0.2727\n",
      "Epoch 4/200\n",
      " - 0s - loss: 2.4084 - acc: 0.3636\n",
      "Epoch 5/200\n",
      " - 0s - loss: 2.3930 - acc: 0.3636\n",
      "Epoch 6/200\n",
      " - 0s - loss: 2.3771 - acc: 0.3636\n",
      "Epoch 7/200\n",
      " - 0s - loss: 2.3605 - acc: 0.3636\n",
      "Epoch 8/200\n",
      " - 0s - loss: 2.3431 - acc: 0.3636\n",
      "Epoch 9/200\n",
      " - 0s - loss: 2.3250 - acc: 0.3636\n",
      "Epoch 10/200\n",
      " - 0s - loss: 2.3061 - acc: 0.3636\n",
      "Epoch 11/200\n",
      " - 0s - loss: 2.2863 - acc: 0.3636\n",
      "Epoch 12/200\n",
      " - 0s - loss: 2.2657 - acc: 0.3636\n",
      "Epoch 13/200\n",
      " - 0s - loss: 2.2444 - acc: 0.3636\n",
      "Epoch 14/200\n",
      " - 0s - loss: 2.2223 - acc: 0.3636\n",
      "Epoch 15/200\n",
      " - 0s - loss: 2.1995 - acc: 0.3636\n",
      "Epoch 16/200\n",
      " - 0s - loss: 2.1762 - acc: 0.3636\n",
      "Epoch 17/200\n",
      " - 0s - loss: 2.1526 - acc: 0.3636\n",
      "Epoch 18/200\n",
      " - 0s - loss: 2.1287 - acc: 0.3636\n",
      "Epoch 19/200\n",
      " - 0s - loss: 2.1050 - acc: 0.3636\n",
      "Epoch 20/200\n",
      " - 0s - loss: 2.0815 - acc: 0.3636\n",
      "Epoch 21/200\n",
      " - 0s - loss: 2.0587 - acc: 0.3636\n",
      "Epoch 22/200\n",
      " - 0s - loss: 2.0368 - acc: 0.3636\n",
      "Epoch 23/200\n",
      " - 0s - loss: 2.0161 - acc: 0.3636\n",
      "Epoch 24/200\n",
      " - 0s - loss: 1.9968 - acc: 0.3636\n",
      "Epoch 25/200\n",
      " - 0s - loss: 1.9789 - acc: 0.3636\n",
      "Epoch 26/200\n",
      " - 0s - loss: 1.9625 - acc: 0.3636\n",
      "Epoch 27/200\n",
      " - 0s - loss: 1.9475 - acc: 0.3636\n",
      "Epoch 28/200\n",
      " - 0s - loss: 1.9336 - acc: 0.3636\n",
      "Epoch 29/200\n",
      " - 0s - loss: 1.9205 - acc: 0.3636\n",
      "Epoch 30/200\n",
      " - 0s - loss: 1.9078 - acc: 0.3636\n",
      "Epoch 31/200\n",
      " - 0s - loss: 1.8951 - acc: 0.3636\n",
      "Epoch 32/200\n",
      " - 0s - loss: 1.8823 - acc: 0.3636\n",
      "Epoch 33/200\n",
      " - 0s - loss: 1.8690 - acc: 0.3636\n",
      "Epoch 34/200\n",
      " - 0s - loss: 1.8552 - acc: 0.3636\n",
      "Epoch 35/200\n",
      " - 0s - loss: 1.8409 - acc: 0.3636\n",
      "Epoch 36/200\n",
      " - 0s - loss: 1.8262 - acc: 0.3636\n",
      "Epoch 37/200\n",
      " - 0s - loss: 1.8112 - acc: 0.3636\n",
      "Epoch 38/200\n",
      " - 0s - loss: 1.7959 - acc: 0.3636\n",
      "Epoch 39/200\n",
      " - 0s - loss: 1.7804 - acc: 0.3636\n",
      "Epoch 40/200\n",
      " - 0s - loss: 1.7649 - acc: 0.3636\n",
      "Epoch 41/200\n",
      " - 0s - loss: 1.7494 - acc: 0.3636\n",
      "Epoch 42/200\n",
      " - 0s - loss: 1.7338 - acc: 0.3636\n",
      "Epoch 43/200\n",
      " - 0s - loss: 1.7182 - acc: 0.3636\n",
      "Epoch 44/200\n",
      " - 0s - loss: 1.7023 - acc: 0.3636\n",
      "Epoch 45/200\n",
      " - 0s - loss: 1.6861 - acc: 0.4545\n",
      "Epoch 46/200\n",
      " - 0s - loss: 1.6696 - acc: 0.4545\n",
      "Epoch 47/200\n",
      " - 0s - loss: 1.6526 - acc: 0.4545\n",
      "Epoch 48/200\n",
      " - 0s - loss: 1.6351 - acc: 0.4545\n",
      "Epoch 49/200\n",
      " - 0s - loss: 1.6169 - acc: 0.4545\n",
      "Epoch 50/200\n",
      " - 0s - loss: 1.5982 - acc: 0.4545\n",
      "Epoch 51/200\n",
      " - 0s - loss: 1.5790 - acc: 0.4545\n",
      "Epoch 52/200\n",
      " - 0s - loss: 1.5592 - acc: 0.4545\n",
      "Epoch 53/200\n",
      " - 0s - loss: 1.5389 - acc: 0.4545\n",
      "Epoch 54/200\n",
      " - 0s - loss: 1.5181 - acc: 0.4545\n",
      "Epoch 55/200\n",
      " - 0s - loss: 1.4968 - acc: 0.5455\n",
      "Epoch 56/200\n",
      " - 0s - loss: 1.4752 - acc: 0.5455\n",
      "Epoch 57/200\n",
      " - 0s - loss: 1.4531 - acc: 0.6364\n",
      "Epoch 58/200\n",
      " - 0s - loss: 1.4307 - acc: 0.6364\n",
      "Epoch 59/200\n",
      " - 0s - loss: 1.4078 - acc: 0.6364\n",
      "Epoch 60/200\n",
      " - 0s - loss: 1.3846 - acc: 0.6364\n",
      "Epoch 61/200\n",
      " - 0s - loss: 1.3611 - acc: 0.6364\n",
      "Epoch 62/200\n",
      " - 0s - loss: 1.3372 - acc: 0.6364\n",
      "Epoch 63/200\n",
      " - 0s - loss: 1.3132 - acc: 0.7273\n",
      "Epoch 64/200\n",
      " - 0s - loss: 1.2890 - acc: 0.7273\n",
      "Epoch 65/200\n",
      " - 0s - loss: 1.2646 - acc: 0.7273\n",
      "Epoch 66/200\n",
      " - 0s - loss: 1.2403 - acc: 0.7273\n",
      "Epoch 67/200\n",
      " - 0s - loss: 1.2161 - acc: 0.7273\n",
      "Epoch 68/200\n",
      " - 0s - loss: 1.1920 - acc: 0.7273\n",
      "Epoch 69/200\n",
      " - 0s - loss: 1.1681 - acc: 0.7273\n",
      "Epoch 70/200\n",
      " - 0s - loss: 1.1445 - acc: 0.7273\n",
      "Epoch 71/200\n",
      " - 0s - loss: 1.1211 - acc: 0.7273\n",
      "Epoch 72/200\n",
      " - 0s - loss: 1.0981 - acc: 0.7273\n",
      "Epoch 73/200\n",
      " - 0s - loss: 1.0754 - acc: 0.7273\n",
      "Epoch 74/200\n",
      " - 0s - loss: 1.0532 - acc: 0.7273\n",
      "Epoch 75/200\n",
      " - 0s - loss: 1.0314 - acc: 0.7273\n",
      "Epoch 76/200\n",
      " - 0s - loss: 1.0100 - acc: 0.7273\n",
      "Epoch 77/200\n",
      " - 0s - loss: 0.9891 - acc: 0.7273\n",
      "Epoch 78/200\n",
      " - 0s - loss: 0.9688 - acc: 0.7273\n",
      "Epoch 79/200\n",
      " - 0s - loss: 0.9489 - acc: 0.7273\n",
      "Epoch 80/200\n",
      " - 0s - loss: 0.9296 - acc: 0.7273\n",
      "Epoch 81/200\n",
      " - 0s - loss: 0.9109 - acc: 0.7273\n",
      "Epoch 82/200\n",
      " - 0s - loss: 0.8926 - acc: 0.7273\n",
      "Epoch 83/200\n",
      " - 0s - loss: 0.8749 - acc: 0.7273\n",
      "Epoch 84/200\n",
      " - 0s - loss: 0.8577 - acc: 0.7273\n",
      "Epoch 85/200\n",
      " - 0s - loss: 0.8410 - acc: 0.7273\n",
      "Epoch 86/200\n",
      " - 0s - loss: 0.8248 - acc: 0.7273\n",
      "Epoch 87/200\n",
      " - 0s - loss: 0.8090 - acc: 0.7273\n",
      "Epoch 88/200\n",
      " - 0s - loss: 0.7938 - acc: 0.7273\n",
      "Epoch 89/200\n",
      " - 0s - loss: 0.7789 - acc: 0.7273\n",
      "Epoch 90/200\n",
      " - 0s - loss: 0.7645 - acc: 0.7273\n",
      "Epoch 91/200\n",
      " - 0s - loss: 0.7506 - acc: 0.7273\n",
      "Epoch 92/200\n",
      " - 0s - loss: 0.7370 - acc: 0.7273\n",
      "Epoch 93/200\n",
      " - 0s - loss: 0.7238 - acc: 0.7273\n",
      "Epoch 94/200\n",
      " - 0s - loss: 0.7109 - acc: 0.7273\n",
      "Epoch 95/200\n",
      " - 0s - loss: 0.6984 - acc: 0.7273\n",
      "Epoch 96/200\n",
      " - 0s - loss: 0.6862 - acc: 0.7273\n",
      "Epoch 97/200\n",
      " - 0s - loss: 0.6743 - acc: 0.7273\n",
      "Epoch 98/200\n",
      " - 0s - loss: 0.6628 - acc: 0.7273\n",
      "Epoch 99/200\n",
      " - 0s - loss: 0.6515 - acc: 0.7273\n",
      "Epoch 100/200\n",
      " - 0s - loss: 0.6404 - acc: 0.8182\n",
      "Epoch 101/200\n",
      " - 0s - loss: 0.6297 - acc: 0.8182\n",
      "Epoch 102/200\n",
      " - 0s - loss: 0.6192 - acc: 0.8182\n",
      "Epoch 103/200\n",
      " - 0s - loss: 0.6089 - acc: 0.8182\n",
      "Epoch 104/200\n",
      " - 0s - loss: 0.5988 - acc: 0.8182\n",
      "Epoch 105/200\n",
      " - 0s - loss: 0.5890 - acc: 0.8182\n",
      "Epoch 106/200\n",
      " - 0s - loss: 0.5793 - acc: 0.8182\n",
      "Epoch 107/200\n",
      " - 0s - loss: 0.5698 - acc: 0.8182\n",
      "Epoch 108/200\n",
      " - 0s - loss: 0.5605 - acc: 0.8182\n",
      "Epoch 109/200\n",
      " - 0s - loss: 0.5514 - acc: 0.8182\n",
      "Epoch 110/200\n",
      " - 0s - loss: 0.5424 - acc: 0.8182\n",
      "Epoch 111/200\n",
      " - 0s - loss: 0.5336 - acc: 0.8182\n",
      "Epoch 112/200\n",
      " - 0s - loss: 0.5250 - acc: 0.8182\n",
      "Epoch 113/200\n",
      " - 0s - loss: 0.5164 - acc: 0.8182\n",
      "Epoch 114/200\n",
      " - 0s - loss: 0.5080 - acc: 0.9091\n",
      "Epoch 115/200\n",
      " - 0s - loss: 0.4997 - acc: 0.9091\n",
      "Epoch 116/200\n",
      " - 0s - loss: 0.4916 - acc: 0.9091\n",
      "Epoch 117/200\n",
      " - 0s - loss: 0.4835 - acc: 0.9091\n",
      "Epoch 118/200\n",
      " - 0s - loss: 0.4756 - acc: 0.9091\n",
      "Epoch 119/200\n",
      " - 0s - loss: 0.4678 - acc: 0.9091\n",
      "Epoch 120/200\n",
      " - 0s - loss: 0.4601 - acc: 0.9091\n",
      "Epoch 121/200\n",
      " - 0s - loss: 0.4524 - acc: 0.9091\n",
      "Epoch 122/200\n",
      " - 0s - loss: 0.4449 - acc: 0.9091\n",
      "Epoch 123/200\n",
      " - 0s - loss: 0.4375 - acc: 0.9091\n",
      "Epoch 124/200\n",
      " - 0s - loss: 0.4301 - acc: 0.9091\n",
      "Epoch 125/200\n",
      " - 0s - loss: 0.4229 - acc: 0.9091\n",
      "Epoch 126/200\n",
      " - 0s - loss: 0.4157 - acc: 0.9091\n",
      "Epoch 127/200\n",
      " - 0s - loss: 0.4086 - acc: 0.9091\n",
      "Epoch 128/200\n",
      " - 0s - loss: 0.4017 - acc: 0.9091\n",
      "Epoch 129/200\n",
      " - 0s - loss: 0.3948 - acc: 0.9091\n",
      "Epoch 130/200\n",
      " - 0s - loss: 0.3880 - acc: 0.9091\n",
      "Epoch 131/200\n",
      " - 0s - loss: 0.3813 - acc: 0.9091\n",
      "Epoch 132/200\n",
      " - 0s - loss: 0.3746 - acc: 0.9091\n",
      "Epoch 133/200\n",
      " - 0s - loss: 0.3681 - acc: 0.9091\n",
      "Epoch 134/200\n",
      " - 0s - loss: 0.3616 - acc: 0.9091\n",
      "Epoch 135/200\n",
      " - 0s - loss: 0.3553 - acc: 0.9091\n",
      "Epoch 136/200\n",
      " - 0s - loss: 0.3490 - acc: 0.9091\n",
      "Epoch 137/200\n",
      " - 0s - loss: 0.3428 - acc: 0.9091\n",
      "Epoch 138/200\n",
      " - 0s - loss: 0.3367 - acc: 0.9091\n",
      "Epoch 139/200\n",
      " - 0s - loss: 0.3307 - acc: 0.9091\n",
      "Epoch 140/200\n",
      " - 0s - loss: 0.3248 - acc: 0.9091\n",
      "Epoch 141/200\n",
      " - 0s - loss: 0.3190 - acc: 0.9091\n",
      "Epoch 142/200\n",
      " - 0s - loss: 0.3132 - acc: 0.9091\n",
      "Epoch 143/200\n",
      " - 0s - loss: 0.3076 - acc: 0.9091\n",
      "Epoch 144/200\n",
      " - 0s - loss: 0.3021 - acc: 0.9091\n",
      "Epoch 145/200\n",
      " - 0s - loss: 0.2966 - acc: 0.9091\n",
      "Epoch 146/200\n",
      " - 0s - loss: 0.2912 - acc: 0.9091\n",
      "Epoch 147/200\n",
      " - 0s - loss: 0.2860 - acc: 0.9091\n",
      "Epoch 148/200\n",
      " - 0s - loss: 0.2808 - acc: 0.9091\n",
      "Epoch 149/200\n",
      " - 0s - loss: 0.2757 - acc: 0.9091\n",
      "Epoch 150/200\n",
      " - 0s - loss: 0.2707 - acc: 0.9091\n",
      "Epoch 151/200\n",
      " - 0s - loss: 0.2658 - acc: 1.0000\n",
      "Epoch 152/200\n",
      " - 0s - loss: 0.2610 - acc: 1.0000\n",
      "Epoch 153/200\n",
      " - 0s - loss: 0.2562 - acc: 1.0000\n",
      "Epoch 154/200\n",
      " - 0s - loss: 0.2516 - acc: 1.0000\n",
      "Epoch 155/200\n",
      " - 0s - loss: 0.2470 - acc: 1.0000\n",
      "Epoch 156/200\n",
      " - 0s - loss: 0.2426 - acc: 1.0000\n",
      "Epoch 157/200\n",
      " - 0s - loss: 0.2382 - acc: 1.0000\n",
      "Epoch 158/200\n",
      " - 0s - loss: 0.2339 - acc: 1.0000\n",
      "Epoch 159/200\n",
      " - 0s - loss: 0.2297 - acc: 1.0000\n",
      "Epoch 160/200\n",
      " - 0s - loss: 0.2256 - acc: 1.0000\n",
      "Epoch 161/200\n",
      " - 0s - loss: 0.2215 - acc: 1.0000\n",
      "Epoch 162/200\n",
      " - 0s - loss: 0.2176 - acc: 1.0000\n",
      "Epoch 163/200\n",
      " - 0s - loss: 0.2137 - acc: 1.0000\n",
      "Epoch 164/200\n",
      " - 0s - loss: 0.2099 - acc: 1.0000\n",
      "Epoch 165/200\n",
      " - 0s - loss: 0.2061 - acc: 1.0000\n",
      "Epoch 166/200\n",
      " - 0s - loss: 0.2025 - acc: 1.0000\n",
      "Epoch 167/200\n",
      " - 0s - loss: 0.1989 - acc: 1.0000\n",
      "Epoch 168/200\n",
      " - 0s - loss: 0.1954 - acc: 1.0000\n",
      "Epoch 169/200\n",
      " - 0s - loss: 0.1920 - acc: 1.0000\n",
      "Epoch 170/200\n",
      " - 0s - loss: 0.1886 - acc: 1.0000\n"
     ]
    },
    {
     "name": "stdout",
     "output_type": "stream",
     "text": [
      "Epoch 171/200\n",
      " - 0s - loss: 0.1853 - acc: 1.0000\n",
      "Epoch 172/200\n",
      " - 0s - loss: 0.1821 - acc: 1.0000\n",
      "Epoch 173/200\n",
      " - 0s - loss: 0.1789 - acc: 1.0000\n",
      "Epoch 174/200\n",
      " - 0s - loss: 0.1758 - acc: 1.0000\n",
      "Epoch 175/200\n",
      " - 0s - loss: 0.1728 - acc: 1.0000\n",
      "Epoch 176/200\n",
      " - 0s - loss: 0.1698 - acc: 1.0000\n",
      "Epoch 177/200\n",
      " - 0s - loss: 0.1669 - acc: 1.0000\n",
      "Epoch 178/200\n",
      " - 0s - loss: 0.1640 - acc: 1.0000\n",
      "Epoch 179/200\n",
      " - 0s - loss: 0.1612 - acc: 1.0000\n",
      "Epoch 180/200\n",
      " - 0s - loss: 0.1585 - acc: 1.0000\n",
      "Epoch 181/200\n",
      " - 0s - loss: 0.1558 - acc: 1.0000\n",
      "Epoch 182/200\n",
      " - 0s - loss: 0.1532 - acc: 1.0000\n",
      "Epoch 183/200\n",
      " - 0s - loss: 0.1506 - acc: 1.0000\n",
      "Epoch 184/200\n",
      " - 0s - loss: 0.1481 - acc: 1.0000\n",
      "Epoch 185/200\n",
      " - 0s - loss: 0.1457 - acc: 1.0000\n",
      "Epoch 186/200\n",
      " - 0s - loss: 0.1432 - acc: 1.0000\n",
      "Epoch 187/200\n",
      " - 0s - loss: 0.1409 - acc: 1.0000\n",
      "Epoch 188/200\n",
      " - 0s - loss: 0.1385 - acc: 1.0000\n",
      "Epoch 189/200\n",
      " - 0s - loss: 0.1363 - acc: 1.0000\n",
      "Epoch 190/200\n",
      " - 0s - loss: 0.1340 - acc: 1.0000\n",
      "Epoch 191/200\n",
      " - 0s - loss: 0.1319 - acc: 1.0000\n",
      "Epoch 192/200\n",
      " - 0s - loss: 0.1297 - acc: 1.0000\n",
      "Epoch 193/200\n",
      " - 0s - loss: 0.1276 - acc: 1.0000\n",
      "Epoch 194/200\n",
      " - 0s - loss: 0.1256 - acc: 1.0000\n",
      "Epoch 195/200\n",
      " - 0s - loss: 0.1236 - acc: 1.0000\n",
      "Epoch 196/200\n",
      " - 0s - loss: 0.1216 - acc: 1.0000\n",
      "Epoch 197/200\n",
      " - 0s - loss: 0.1197 - acc: 1.0000\n",
      "Epoch 198/200\n",
      " - 0s - loss: 0.1178 - acc: 1.0000\n",
      "Epoch 199/200\n",
      " - 0s - loss: 0.1159 - acc: 1.0000\n",
      "Epoch 200/200\n",
      " - 0s - loss: 0.1141 - acc: 1.0000\n"
     ]
    },
    {
     "data": {
      "text/plain": [
       "<keras.callbacks.History at 0x22286ac59b0>"
      ]
     },
     "execution_count": 85,
     "metadata": {},
     "output_type": "execute_result"
    }
   ],
   "source": [
    "from keras.layers import Embedding, Dense, SimpleRNN\n",
    "from keras.models import Sequential\n",
    "\n",
    "model = Sequential()\n",
    "model.add(Embedding(vocab_size, 10, input_length = 5)) # y를 제거했으므로 의 길이는 5\n",
    "model.add(SimpleRNN(32))\n",
    "model.add(Dense(vocab_size, activation = 'softmax'))\n",
    "model.compile(loss = 'categorical_crossentropy', optimizer = 'adam', metrics=['accuracy'])\n",
    "model.fit(X, y, epochs = 200, verbose = 2)"
   ]
  },
  {
   "cell_type": "code",
   "execution_count": 86,
   "metadata": {},
   "outputs": [],
   "source": [
    "#모델이 정확하게 예측하고 있는지 문장을 생성하는 함수를 만들어 실제로 출력해보기기\n",
    "\n",
    "def sentence_generation(model, t, current_word, n) :\n",
    "    init_word = current_word\n",
    "    sentence= ''\n",
    "    for _ in range(n) :\n",
    "        encoded = t.texts_to_sequences([current_word])[0] # 정수 인코딩\n",
    "        encoded = pad_sequences([encoded], maxlen=5, padding='pre') # 데이터에 대한 패딩\n",
    "        result = model.predict_classes(encoded, verbose = 0)\n",
    "        for word, index in t.word_index.items() :\n",
    "            if index == result :\n",
    "                break\n",
    "        current_word = current_word + ' ' + word\n",
    "        sentence = sentence + ' ' + word\n",
    "    sentence = init_word + sentence\n",
    "    return sentence"
   ]
  },
  {
   "cell_type": "code",
   "execution_count": 92,
   "metadata": {},
   "outputs": [
    {
     "data": {
      "text/plain": [
       "'경마장에 있는 말이 뛰고 있다'"
      ]
     },
     "execution_count": 92,
     "metadata": {},
     "output_type": "execute_result"
    }
   ],
   "source": [
    "sentence_generation(model, t, '경마장에 있는', 3)"
   ]
  },
  {
   "cell_type": "code",
   "execution_count": 91,
   "metadata": {},
   "outputs": [
    {
     "data": {
      "text/plain": [
       "'가는 말이 고와야 오는 말이 곱다'"
      ]
     },
     "execution_count": 91,
     "metadata": {},
     "output_type": "execute_result"
    }
   ],
   "source": [
    "sentence_generation(model, t, '가는 말이', 4)"
   ]
  },
  {
   "cell_type": "code",
   "execution_count": 93,
   "metadata": {
    "scrolled": false
   },
   "outputs": [
    {
     "data": {
      "text/plain": [
       "'그의 말이 법이다'"
      ]
     },
     "execution_count": 93,
     "metadata": {},
     "output_type": "execute_result"
    }
   ],
   "source": [
    "sentence_generation(model, t, '그의', 2)"
   ]
  },
  {
   "cell_type": "code",
   "execution_count": 103,
   "metadata": {},
   "outputs": [
    {
     "data": {
      "text/plain": [
       "'법이다 말이 말이 오는 말이 곱다 오는 말이 곱다 오는 말이'"
      ]
     },
     "execution_count": 103,
     "metadata": {},
     "output_type": "execute_result"
    }
   ],
   "source": [
    "sentence_generation(model, t, '법이다', 10)"
   ]
  },
  {
   "cell_type": "markdown",
   "metadata": {},
   "source": [
    "각 문장의 단어 갯수 이상의 숫자를 주면, '있다', '곱다', '법이다' 이후 단어가 무엇인지 배울 수 없으므로 임의로 예측을 하기 시작함"
   ]
  },
  {
   "cell_type": "code",
   "execution_count": 96,
   "metadata": {},
   "outputs": [
    {
     "data": {
      "text/plain": [
       "[2, 3]"
      ]
     },
     "execution_count": 96,
     "metadata": {},
     "output_type": "execute_result"
    }
   ],
   "source": [
    "#cf\n",
    "t.texts_to_sequences(['경마장에 있는'])[0]"
   ]
  },
  {
   "cell_type": "code",
   "execution_count": null,
   "metadata": {},
   "outputs": [],
   "source": [
    "pad_sequences([t.texts_to_sequences(['경마장에 있는'])[0]], maxlen=5, padding='pre')"
   ]
  },
  {
   "cell_type": "markdown",
   "metadata": {},
   "source": [
    "#### 나랑 점심 먹으러 갈래 메뉴는 햄버거 점심 메뉴 좋지 문맥 고려 모델 생성"
   ]
  },
  {
   "cell_type": "code",
   "execution_count": 115,
   "metadata": {},
   "outputs": [],
   "source": [
    "text = \"나랑 점심 먹으러 갈래 메뉴는 햄버거 점심 메뉴 좋지\"\n",
    "t2=Tokenizer()\n",
    "t2.fit_on_texts([text]) # cf 리스트 형태로 넣어주지 않으면 한 글자씩 가져옴"
   ]
  },
  {
   "cell_type": "code",
   "execution_count": 117,
   "metadata": {},
   "outputs": [
    {
     "data": {
      "text/plain": [
       "{'점심': 1, '나랑': 2, '먹으러': 3, '갈래': 4, '메뉴는': 5, '햄버거': 6, '메뉴': 7, '좋지': 8}"
      ]
     },
     "execution_count": 117,
     "metadata": {},
     "output_type": "execute_result"
    }
   ],
   "source": [
    "size2 = len(t2.word_index) + 1 # 1부터 들어가므로 +1 해주기\n",
    "t2.word_index"
   ]
  },
  {
   "cell_type": "code",
   "execution_count": 124,
   "metadata": {},
   "outputs": [],
   "source": [
    "encoded = t2.texts_to_sequences([text])[0]"
   ]
  },
  {
   "cell_type": "code",
   "execution_count": 125,
   "metadata": {},
   "outputs": [
    {
     "data": {
      "text/plain": [
       "[2, 1, 3, 4, 5, 6, 1, 7, 8]"
      ]
     },
     "execution_count": 125,
     "metadata": {},
     "output_type": "execute_result"
    }
   ],
   "source": [
    "encoded"
   ]
  },
  {
   "cell_type": "code",
   "execution_count": 126,
   "metadata": {},
   "outputs": [],
   "source": [
    "sequences=[]\n",
    "for i in range(1, len(encoded)) :\n",
    "    sequences.append(encoded[i-1:i+1])"
   ]
  },
  {
   "cell_type": "code",
   "execution_count": 127,
   "metadata": {},
   "outputs": [
    {
     "data": {
      "text/plain": [
       "[[2, 1], [1, 3], [3, 4], [4, 5], [5, 6], [6, 1], [1, 7], [7, 8]]"
      ]
     },
     "execution_count": 127,
     "metadata": {},
     "output_type": "execute_result"
    }
   ],
   "source": [
    "sequences"
   ]
  },
  {
   "cell_type": "code",
   "execution_count": 128,
   "metadata": {},
   "outputs": [],
   "source": [
    "X, y = zip(*sequences)"
   ]
  },
  {
   "cell_type": "code",
   "execution_count": 135,
   "metadata": {},
   "outputs": [],
   "source": [
    "X=np.array(X)"
   ]
  },
  {
   "cell_type": "code",
   "execution_count": 139,
   "metadata": {
    "scrolled": true
   },
   "outputs": [],
   "source": [
    "# y 원핫인코딩\n",
    "y = to_categorical(y, size2)"
   ]
  },
  {
   "cell_type": "code",
   "execution_count": 149,
   "metadata": {
    "scrolled": true
   },
   "outputs": [
    {
     "name": "stdout",
     "output_type": "stream",
     "text": [
      "Epoch 1/200\n",
      " - 1s - loss: 2.1925 - acc: 0.3750\n",
      "Epoch 2/200\n",
      " - 0s - loss: 2.1886 - acc: 0.3750\n",
      "Epoch 3/200\n",
      " - 0s - loss: 2.1846 - acc: 0.3750\n",
      "Epoch 4/200\n",
      " - 0s - loss: 2.1806 - acc: 0.3750\n",
      "Epoch 5/200\n",
      " - 0s - loss: 2.1766 - acc: 0.3750\n",
      "Epoch 6/200\n",
      " - 0s - loss: 2.1727 - acc: 0.3750\n",
      "Epoch 7/200\n",
      " - 0s - loss: 2.1687 - acc: 0.3750\n",
      "Epoch 8/200\n",
      " - 0s - loss: 2.1648 - acc: 0.3750\n",
      "Epoch 9/200\n",
      " - 0s - loss: 2.1608 - acc: 0.3750\n",
      "Epoch 10/200\n",
      " - 0s - loss: 2.1568 - acc: 0.3750\n",
      "Epoch 11/200\n",
      " - 0s - loss: 2.1528 - acc: 0.3750\n",
      "Epoch 12/200\n",
      " - 0s - loss: 2.1488 - acc: 0.3750\n",
      "Epoch 13/200\n",
      " - 0s - loss: 2.1448 - acc: 0.3750\n",
      "Epoch 14/200\n",
      " - 0s - loss: 2.1408 - acc: 0.3750\n",
      "Epoch 15/200\n",
      " - 0s - loss: 2.1368 - acc: 0.3750\n",
      "Epoch 16/200\n",
      " - 0s - loss: 2.1327 - acc: 0.3750\n",
      "Epoch 17/200\n",
      " - 0s - loss: 2.1287 - acc: 0.3750\n",
      "Epoch 18/200\n",
      " - 0s - loss: 2.1246 - acc: 0.3750\n",
      "Epoch 19/200\n",
      " - 0s - loss: 2.1205 - acc: 0.3750\n",
      "Epoch 20/200\n",
      " - 0s - loss: 2.1163 - acc: 0.3750\n",
      "Epoch 21/200\n",
      " - 0s - loss: 2.1122 - acc: 0.5000\n",
      "Epoch 22/200\n",
      " - 0s - loss: 2.1080 - acc: 0.5000\n",
      "Epoch 23/200\n",
      " - 0s - loss: 2.1037 - acc: 0.5000\n",
      "Epoch 24/200\n",
      " - 0s - loss: 2.0995 - acc: 0.5000\n",
      "Epoch 25/200\n",
      " - 0s - loss: 2.0952 - acc: 0.5000\n",
      "Epoch 26/200\n",
      " - 0s - loss: 2.0909 - acc: 0.5000\n",
      "Epoch 27/200\n",
      " - 0s - loss: 2.0865 - acc: 0.5000\n",
      "Epoch 28/200\n",
      " - 0s - loss: 2.0821 - acc: 0.5000\n",
      "Epoch 29/200\n",
      " - 0s - loss: 2.0777 - acc: 0.5000\n",
      "Epoch 30/200\n",
      " - 0s - loss: 2.0732 - acc: 0.5000\n",
      "Epoch 31/200\n",
      " - 0s - loss: 2.0687 - acc: 0.5000\n",
      "Epoch 32/200\n",
      " - 0s - loss: 2.0641 - acc: 0.5000\n",
      "Epoch 33/200\n",
      " - 0s - loss: 2.0595 - acc: 0.5000\n",
      "Epoch 34/200\n",
      " - 0s - loss: 2.0549 - acc: 0.5000\n",
      "Epoch 35/200\n",
      " - 0s - loss: 2.0501 - acc: 0.5000\n",
      "Epoch 36/200\n",
      " - 0s - loss: 2.0454 - acc: 0.5000\n",
      "Epoch 37/200\n",
      " - 0s - loss: 2.0406 - acc: 0.5000\n",
      "Epoch 38/200\n",
      " - 0s - loss: 2.0357 - acc: 0.5000\n",
      "Epoch 39/200\n",
      " - 0s - loss: 2.0308 - acc: 0.5000\n",
      "Epoch 40/200\n",
      " - 0s - loss: 2.0259 - acc: 0.5000\n",
      "Epoch 41/200\n",
      " - 0s - loss: 2.0209 - acc: 0.5000\n",
      "Epoch 42/200\n",
      " - 0s - loss: 2.0158 - acc: 0.5000\n",
      "Epoch 43/200\n",
      " - 0s - loss: 2.0107 - acc: 0.5000\n",
      "Epoch 44/200\n",
      " - 0s - loss: 2.0055 - acc: 0.5000\n",
      "Epoch 45/200\n",
      " - 0s - loss: 2.0003 - acc: 0.5000\n",
      "Epoch 46/200\n",
      " - 0s - loss: 1.9950 - acc: 0.5000\n",
      "Epoch 47/200\n",
      " - 0s - loss: 1.9896 - acc: 0.5000\n",
      "Epoch 48/200\n",
      " - 0s - loss: 1.9842 - acc: 0.5000\n",
      "Epoch 49/200\n",
      " - 0s - loss: 1.9788 - acc: 0.5000\n",
      "Epoch 50/200\n",
      " - 0s - loss: 1.9733 - acc: 0.5000\n",
      "Epoch 51/200\n",
      " - 0s - loss: 1.9677 - acc: 0.5000\n",
      "Epoch 52/200\n",
      " - 0s - loss: 1.9620 - acc: 0.5000\n",
      "Epoch 53/200\n",
      " - 0s - loss: 1.9563 - acc: 0.5000\n",
      "Epoch 54/200\n",
      " - 0s - loss: 1.9506 - acc: 0.5000\n",
      "Epoch 55/200\n",
      " - 0s - loss: 1.9448 - acc: 0.5000\n",
      "Epoch 56/200\n",
      " - 0s - loss: 1.9389 - acc: 0.6250\n",
      "Epoch 57/200\n",
      " - 0s - loss: 1.9329 - acc: 0.6250\n",
      "Epoch 58/200\n",
      " - 0s - loss: 1.9269 - acc: 0.6250\n",
      "Epoch 59/200\n",
      " - 0s - loss: 1.9209 - acc: 0.6250\n",
      "Epoch 60/200\n",
      " - 0s - loss: 1.9147 - acc: 0.6250\n",
      "Epoch 61/200\n",
      " - 0s - loss: 1.9085 - acc: 0.6250\n",
      "Epoch 62/200\n",
      " - 0s - loss: 1.9023 - acc: 0.6250\n",
      "Epoch 63/200\n",
      " - 0s - loss: 1.8960 - acc: 0.7500\n",
      "Epoch 64/200\n",
      " - 0s - loss: 1.8896 - acc: 0.7500\n",
      "Epoch 65/200\n",
      " - 0s - loss: 1.8832 - acc: 0.7500\n",
      "Epoch 66/200\n",
      " - 0s - loss: 1.8766 - acc: 0.7500\n",
      "Epoch 67/200\n",
      " - 0s - loss: 1.8701 - acc: 0.7500\n",
      "Epoch 68/200\n",
      " - 0s - loss: 1.8635 - acc: 0.7500\n",
      "Epoch 69/200\n",
      " - 0s - loss: 1.8568 - acc: 0.7500\n",
      "Epoch 70/200\n",
      " - 0s - loss: 1.8500 - acc: 0.7500\n",
      "Epoch 71/200\n",
      " - 0s - loss: 1.8432 - acc: 0.7500\n",
      "Epoch 72/200\n",
      " - 0s - loss: 1.8363 - acc: 0.7500\n",
      "Epoch 73/200\n",
      " - 0s - loss: 1.8294 - acc: 0.7500\n",
      "Epoch 74/200\n",
      " - 0s - loss: 1.8224 - acc: 0.7500\n",
      "Epoch 75/200\n",
      " - 0s - loss: 1.8154 - acc: 0.7500\n",
      "Epoch 76/200\n",
      " - 0s - loss: 1.8082 - acc: 0.7500\n",
      "Epoch 77/200\n",
      " - 0s - loss: 1.8011 - acc: 0.7500\n",
      "Epoch 78/200\n",
      " - 0s - loss: 1.7938 - acc: 0.7500\n",
      "Epoch 79/200\n",
      " - 0s - loss: 1.7865 - acc: 0.7500\n",
      "Epoch 80/200\n",
      " - 0s - loss: 1.7792 - acc: 0.7500\n",
      "Epoch 81/200\n",
      " - 0s - loss: 1.7718 - acc: 0.7500\n",
      "Epoch 82/200\n",
      " - 0s - loss: 1.7643 - acc: 0.7500\n",
      "Epoch 83/200\n",
      " - 0s - loss: 1.7568 - acc: 0.7500\n",
      "Epoch 84/200\n",
      " - 0s - loss: 1.7493 - acc: 0.7500\n",
      "Epoch 85/200\n",
      " - 0s - loss: 1.7416 - acc: 0.7500\n",
      "Epoch 86/200\n",
      " - 0s - loss: 1.7340 - acc: 0.7500\n",
      "Epoch 87/200\n",
      " - 0s - loss: 1.7262 - acc: 0.7500\n",
      "Epoch 88/200\n",
      " - 0s - loss: 1.7184 - acc: 0.7500\n",
      "Epoch 89/200\n",
      " - 0s - loss: 1.7106 - acc: 0.7500\n",
      "Epoch 90/200\n",
      " - 0s - loss: 1.7027 - acc: 0.7500\n",
      "Epoch 91/200\n",
      " - 0s - loss: 1.6948 - acc: 0.7500\n",
      "Epoch 92/200\n",
      " - 0s - loss: 1.6868 - acc: 0.7500\n",
      "Epoch 93/200\n",
      " - 0s - loss: 1.6788 - acc: 0.7500\n",
      "Epoch 94/200\n",
      " - 0s - loss: 1.6707 - acc: 0.7500\n",
      "Epoch 95/200\n",
      " - 0s - loss: 1.6626 - acc: 0.7500\n",
      "Epoch 96/200\n",
      " - 0s - loss: 1.6544 - acc: 0.7500\n",
      "Epoch 97/200\n",
      " - 0s - loss: 1.6462 - acc: 0.7500\n",
      "Epoch 98/200\n",
      " - 0s - loss: 1.6380 - acc: 0.7500\n",
      "Epoch 99/200\n",
      " - 0s - loss: 1.6297 - acc: 0.7500\n",
      "Epoch 100/200\n",
      " - 0s - loss: 1.6214 - acc: 0.7500\n",
      "Epoch 101/200\n",
      " - 0s - loss: 1.6130 - acc: 0.7500\n",
      "Epoch 102/200\n",
      " - 0s - loss: 1.6046 - acc: 0.7500\n",
      "Epoch 103/200\n",
      " - 0s - loss: 1.5961 - acc: 0.7500\n",
      "Epoch 104/200\n",
      " - 0s - loss: 1.5876 - acc: 0.7500\n",
      "Epoch 105/200\n",
      " - 0s - loss: 1.5791 - acc: 0.7500\n",
      "Epoch 106/200\n",
      " - 0s - loss: 1.5706 - acc: 0.7500\n",
      "Epoch 107/200\n",
      " - 0s - loss: 1.5620 - acc: 0.7500\n",
      "Epoch 108/200\n",
      " - 0s - loss: 1.5534 - acc: 0.7500\n",
      "Epoch 109/200\n",
      " - 0s - loss: 1.5448 - acc: 0.7500\n",
      "Epoch 110/200\n",
      " - 0s - loss: 1.5361 - acc: 0.7500\n",
      "Epoch 111/200\n",
      " - 0s - loss: 1.5274 - acc: 0.7500\n",
      "Epoch 112/200\n",
      " - 0s - loss: 1.5187 - acc: 0.7500\n",
      "Epoch 113/200\n",
      " - 0s - loss: 1.5099 - acc: 0.7500\n",
      "Epoch 114/200\n",
      " - 0s - loss: 1.5011 - acc: 0.7500\n",
      "Epoch 115/200\n",
      " - 0s - loss: 1.4923 - acc: 0.7500\n",
      "Epoch 116/200\n",
      " - 0s - loss: 1.4835 - acc: 0.7500\n",
      "Epoch 117/200\n",
      " - 0s - loss: 1.4747 - acc: 0.7500\n",
      "Epoch 118/200\n",
      " - 0s - loss: 1.4658 - acc: 0.7500\n",
      "Epoch 119/200\n",
      " - 0s - loss: 1.4570 - acc: 0.7500\n",
      "Epoch 120/200\n",
      " - 0s - loss: 1.4481 - acc: 0.7500\n",
      "Epoch 121/200\n",
      " - 0s - loss: 1.4392 - acc: 0.7500\n",
      "Epoch 122/200\n",
      " - 0s - loss: 1.4303 - acc: 0.7500\n",
      "Epoch 123/200\n",
      " - 0s - loss: 1.4214 - acc: 0.7500\n",
      "Epoch 124/200\n",
      " - 0s - loss: 1.4124 - acc: 0.7500\n",
      "Epoch 125/200\n",
      " - 0s - loss: 1.4035 - acc: 0.7500\n",
      "Epoch 126/200\n",
      " - 0s - loss: 1.3945 - acc: 0.7500\n",
      "Epoch 127/200\n",
      " - 0s - loss: 1.3856 - acc: 0.7500\n",
      "Epoch 128/200\n",
      " - 0s - loss: 1.3766 - acc: 0.7500\n",
      "Epoch 129/200\n",
      " - 0s - loss: 1.3676 - acc: 0.7500\n",
      "Epoch 130/200\n",
      " - 0s - loss: 1.3587 - acc: 0.7500\n",
      "Epoch 131/200\n",
      " - 0s - loss: 1.3497 - acc: 0.8750\n",
      "Epoch 132/200\n",
      " - 0s - loss: 1.3407 - acc: 0.8750\n",
      "Epoch 133/200\n",
      " - 0s - loss: 1.3317 - acc: 0.8750\n",
      "Epoch 134/200\n",
      " - 0s - loss: 1.3228 - acc: 0.8750\n",
      "Epoch 135/200\n",
      " - 0s - loss: 1.3138 - acc: 0.8750\n",
      "Epoch 136/200\n",
      " - 0s - loss: 1.3049 - acc: 0.8750\n",
      "Epoch 137/200\n",
      " - 0s - loss: 1.2959 - acc: 0.8750\n",
      "Epoch 138/200\n",
      " - 0s - loss: 1.2870 - acc: 0.8750\n",
      "Epoch 139/200\n",
      " - 0s - loss: 1.2781 - acc: 0.8750\n",
      "Epoch 140/200\n",
      " - 0s - loss: 1.2691 - acc: 0.8750\n",
      "Epoch 141/200\n",
      " - 0s - loss: 1.2602 - acc: 0.8750\n",
      "Epoch 142/200\n",
      " - 0s - loss: 1.2513 - acc: 0.8750\n",
      "Epoch 143/200\n",
      " - 0s - loss: 1.2425 - acc: 0.8750\n",
      "Epoch 144/200\n",
      " - 0s - loss: 1.2336 - acc: 0.8750\n",
      "Epoch 145/200\n",
      " - 0s - loss: 1.2248 - acc: 0.8750\n",
      "Epoch 146/200\n",
      " - 0s - loss: 1.2159 - acc: 0.8750\n",
      "Epoch 147/200\n",
      " - 0s - loss: 1.2071 - acc: 0.8750\n",
      "Epoch 148/200\n",
      " - 0s - loss: 1.1984 - acc: 0.8750\n",
      "Epoch 149/200\n",
      " - 0s - loss: 1.1896 - acc: 0.8750\n",
      "Epoch 150/200\n",
      " - 0s - loss: 1.1809 - acc: 0.8750\n",
      "Epoch 151/200\n",
      " - 0s - loss: 1.1722 - acc: 0.8750\n",
      "Epoch 152/200\n",
      " - 0s - loss: 1.1635 - acc: 0.8750\n",
      "Epoch 153/200\n",
      " - 0s - loss: 1.1548 - acc: 0.8750\n",
      "Epoch 154/200\n",
      " - 0s - loss: 1.1462 - acc: 0.8750\n",
      "Epoch 155/200\n",
      " - 0s - loss: 1.1376 - acc: 0.8750\n",
      "Epoch 156/200\n",
      " - 0s - loss: 1.1290 - acc: 0.8750\n",
      "Epoch 157/200\n",
      " - 0s - loss: 1.1205 - acc: 0.8750\n",
      "Epoch 158/200\n",
      " - 0s - loss: 1.1120 - acc: 0.8750\n",
      "Epoch 159/200\n",
      " - 0s - loss: 1.1036 - acc: 0.8750\n",
      "Epoch 160/200\n",
      " - 0s - loss: 1.0951 - acc: 0.8750\n",
      "Epoch 161/200\n",
      " - 0s - loss: 1.0867 - acc: 0.8750\n",
      "Epoch 162/200\n",
      " - 0s - loss: 1.0784 - acc: 0.8750\n",
      "Epoch 163/200\n",
      " - 0s - loss: 1.0701 - acc: 0.8750\n",
      "Epoch 164/200\n",
      " - 0s - loss: 1.0618 - acc: 0.8750\n",
      "Epoch 165/200\n",
      " - 0s - loss: 1.0536 - acc: 0.8750\n",
      "Epoch 166/200\n",
      " - 0s - loss: 1.0454 - acc: 0.8750\n",
      "Epoch 167/200\n",
      " - 0s - loss: 1.0372 - acc: 0.8750\n",
      "Epoch 168/200\n",
      " - 0s - loss: 1.0291 - acc: 0.8750\n",
      "Epoch 169/200\n",
      " - 0s - loss: 1.0211 - acc: 0.8750\n",
      "Epoch 170/200\n",
      " - 0s - loss: 1.0131 - acc: 0.8750\n"
     ]
    },
    {
     "name": "stdout",
     "output_type": "stream",
     "text": [
      "Epoch 171/200\n",
      " - 0s - loss: 1.0051 - acc: 0.8750\n",
      "Epoch 172/200\n",
      " - 0s - loss: 0.9972 - acc: 0.8750\n",
      "Epoch 173/200\n",
      " - 0s - loss: 0.9893 - acc: 0.8750\n",
      "Epoch 174/200\n",
      " - 0s - loss: 0.9815 - acc: 0.8750\n",
      "Epoch 175/200\n",
      " - 0s - loss: 0.9737 - acc: 0.8750\n",
      "Epoch 176/200\n",
      " - 0s - loss: 0.9660 - acc: 0.8750\n",
      "Epoch 177/200\n",
      " - 0s - loss: 0.9583 - acc: 0.8750\n",
      "Epoch 178/200\n",
      " - 0s - loss: 0.9507 - acc: 0.8750\n",
      "Epoch 179/200\n",
      " - 0s - loss: 0.9431 - acc: 0.8750\n",
      "Epoch 180/200\n",
      " - 0s - loss: 0.9356 - acc: 0.8750\n",
      "Epoch 181/200\n",
      " - 0s - loss: 0.9281 - acc: 0.8750\n",
      "Epoch 182/200\n",
      " - 0s - loss: 0.9207 - acc: 0.8750\n",
      "Epoch 183/200\n",
      " - 0s - loss: 0.9133 - acc: 0.8750\n",
      "Epoch 184/200\n",
      " - 0s - loss: 0.9060 - acc: 0.8750\n",
      "Epoch 185/200\n",
      " - 0s - loss: 0.8987 - acc: 0.8750\n",
      "Epoch 186/200\n",
      " - 0s - loss: 0.8915 - acc: 0.8750\n",
      "Epoch 187/200\n",
      " - 0s - loss: 0.8844 - acc: 0.8750\n",
      "Epoch 188/200\n",
      " - 0s - loss: 0.8773 - acc: 0.8750\n",
      "Epoch 189/200\n",
      " - 0s - loss: 0.8702 - acc: 0.8750\n",
      "Epoch 190/200\n",
      " - 0s - loss: 0.8632 - acc: 0.8750\n",
      "Epoch 191/200\n",
      " - 0s - loss: 0.8563 - acc: 0.8750\n",
      "Epoch 192/200\n",
      " - 0s - loss: 0.8494 - acc: 0.8750\n",
      "Epoch 193/200\n",
      " - 0s - loss: 0.8426 - acc: 0.8750\n",
      "Epoch 194/200\n",
      " - 0s - loss: 0.8359 - acc: 0.8750\n",
      "Epoch 195/200\n",
      " - 0s - loss: 0.8292 - acc: 0.8750\n",
      "Epoch 196/200\n",
      " - 0s - loss: 0.8225 - acc: 0.8750\n",
      "Epoch 197/200\n",
      " - 0s - loss: 0.8159 - acc: 0.8750\n",
      "Epoch 198/200\n",
      " - 0s - loss: 0.8094 - acc: 0.8750\n",
      "Epoch 199/200\n",
      " - 0s - loss: 0.8029 - acc: 0.8750\n",
      "Epoch 200/200\n",
      " - 0s - loss: 0.7965 - acc: 0.8750\n"
     ]
    },
    {
     "data": {
      "text/plain": [
       "<keras.callbacks.History at 0x2228e25b860>"
      ]
     },
     "execution_count": 149,
     "metadata": {},
     "output_type": "execute_result"
    }
   ],
   "source": [
    "model = Sequential()\n",
    "model.add(Embedding(size2, 9, input_length = 1))\n",
    "model.add(SimpleRNN(9))\n",
    "model.add(Dense(size2, activation = 'softmax'))\n",
    "model.compile(loss = 'categorical_crossentropy', optimizer = 'adam', metrics = ['accuracy'])\n",
    "model.fit(X, y , epochs = 200, verbose=2)"
   ]
  },
  {
   "cell_type": "code",
   "execution_count": 155,
   "metadata": {},
   "outputs": [],
   "source": [
    "def sentence_generation(model, t2, current_word, n) :\n",
    "    init_word = current_word\n",
    "    sentence = ''\n",
    "    for _ in range(n) : #n번 반복\n",
    "        encoded = t2.texts_to_sequences([current_word])[0]\n",
    "        encoded = np.array(encoded)\n",
    "        result = model.predict_classes(encoded, verbose = 0)\n",
    "        for word, index in t2.word_index.items() :\n",
    "            if index == result :\n",
    "                break\n",
    "        current_word = word\n",
    "        sentence = sentence + ' ' + word\n",
    "    sentence = init_word + sentence\n",
    "    return sentence"
   ]
  },
  {
   "cell_type": "code",
   "execution_count": 164,
   "metadata": {},
   "outputs": [
    {
     "data": {
      "text/plain": [
       "'먹으러 갈래 메뉴는 햄버거 점심 메뉴 좋지 점심 메뉴 좋지'"
      ]
     },
     "execution_count": 164,
     "metadata": {},
     "output_type": "execute_result"
    }
   ],
   "source": [
    "sentence_generation(model,t2,'먹으러',9)"
   ]
  },
  {
   "cell_type": "markdown",
   "metadata": {},
   "source": [
    "### LSTM 실습\n",
    "- 뉴욕 타임즈 기사의 제목 데이터 사용\n",
    "- https://www.kaggle.com/aashita/nyt-comments"
   ]
  },
  {
   "cell_type": "code",
   "execution_count": 1,
   "metadata": {},
   "outputs": [],
   "source": [
    "import pandas as pd"
   ]
  },
  {
   "cell_type": "code",
   "execution_count": 2,
   "metadata": {},
   "outputs": [],
   "source": [
    "df = pd.read_csv('ArticlesApril2018.csv')"
   ]
  },
  {
   "cell_type": "code",
   "execution_count": 3,
   "metadata": {},
   "outputs": [
    {
     "data": {
      "text/html": [
       "<div>\n",
       "<style scoped>\n",
       "    .dataframe tbody tr th:only-of-type {\n",
       "        vertical-align: middle;\n",
       "    }\n",
       "\n",
       "    .dataframe tbody tr th {\n",
       "        vertical-align: top;\n",
       "    }\n",
       "\n",
       "    .dataframe thead th {\n",
       "        text-align: right;\n",
       "    }\n",
       "</style>\n",
       "<table border=\"1\" class=\"dataframe\">\n",
       "  <thead>\n",
       "    <tr style=\"text-align: right;\">\n",
       "      <th></th>\n",
       "      <th>articleID</th>\n",
       "      <th>articleWordCount</th>\n",
       "      <th>byline</th>\n",
       "      <th>documentType</th>\n",
       "      <th>headline</th>\n",
       "      <th>keywords</th>\n",
       "      <th>multimedia</th>\n",
       "      <th>newDesk</th>\n",
       "      <th>printPage</th>\n",
       "      <th>pubDate</th>\n",
       "      <th>sectionName</th>\n",
       "      <th>snippet</th>\n",
       "      <th>source</th>\n",
       "      <th>typeOfMaterial</th>\n",
       "      <th>webURL</th>\n",
       "    </tr>\n",
       "  </thead>\n",
       "  <tbody>\n",
       "    <tr>\n",
       "      <th>0</th>\n",
       "      <td>5adf6684068401528a2aa69b</td>\n",
       "      <td>781</td>\n",
       "      <td>By JOHN BRANCH</td>\n",
       "      <td>article</td>\n",
       "      <td>Former N.F.L. Cheerleaders’ Settlement Offer: ...</td>\n",
       "      <td>['Workplace Hazards and Violations', 'Football...</td>\n",
       "      <td>68</td>\n",
       "      <td>Sports</td>\n",
       "      <td>0</td>\n",
       "      <td>2018-04-24 17:16:49</td>\n",
       "      <td>Pro Football</td>\n",
       "      <td>“I understand that they could meet with us, pa...</td>\n",
       "      <td>The New York Times</td>\n",
       "      <td>News</td>\n",
       "      <td>https://www.nytimes.com/2018/04/24/sports/foot...</td>\n",
       "    </tr>\n",
       "    <tr>\n",
       "      <th>1</th>\n",
       "      <td>5adf653f068401528a2aa697</td>\n",
       "      <td>656</td>\n",
       "      <td>By LISA FRIEDMAN</td>\n",
       "      <td>article</td>\n",
       "      <td>E.P.A. to Unveil a New Rule. Its Effect: Less ...</td>\n",
       "      <td>['Environmental Protection Agency', 'Pruitt, S...</td>\n",
       "      <td>68</td>\n",
       "      <td>Climate</td>\n",
       "      <td>0</td>\n",
       "      <td>2018-04-24 17:11:21</td>\n",
       "      <td>Unknown</td>\n",
       "      <td>The agency plans to publish a new regulation T...</td>\n",
       "      <td>The New York Times</td>\n",
       "      <td>News</td>\n",
       "      <td>https://www.nytimes.com/2018/04/24/climate/epa...</td>\n",
       "    </tr>\n",
       "    <tr>\n",
       "      <th>2</th>\n",
       "      <td>5adf4626068401528a2aa628</td>\n",
       "      <td>2427</td>\n",
       "      <td>By PETE WELLS</td>\n",
       "      <td>article</td>\n",
       "      <td>The New Noma, Explained</td>\n",
       "      <td>['Restaurants', 'Noma (Copenhagen, Restaurant)...</td>\n",
       "      <td>66</td>\n",
       "      <td>Dining</td>\n",
       "      <td>0</td>\n",
       "      <td>2018-04-24 14:58:44</td>\n",
       "      <td>Unknown</td>\n",
       "      <td>What’s it like to eat at the second incarnatio...</td>\n",
       "      <td>The New York Times</td>\n",
       "      <td>News</td>\n",
       "      <td>https://www.nytimes.com/2018/04/24/dining/noma...</td>\n",
       "    </tr>\n",
       "    <tr>\n",
       "      <th>3</th>\n",
       "      <td>5adf40d2068401528a2aa619</td>\n",
       "      <td>626</td>\n",
       "      <td>By JULIE HIRSCHFELD DAVIS and PETER BAKER</td>\n",
       "      <td>article</td>\n",
       "      <td>Unknown</td>\n",
       "      <td>['Macron, Emmanuel (1977- )', 'Trump, Donald J...</td>\n",
       "      <td>68</td>\n",
       "      <td>Washington</td>\n",
       "      <td>0</td>\n",
       "      <td>2018-04-24 14:35:57</td>\n",
       "      <td>Europe</td>\n",
       "      <td>President Trump welcomed President Emmanuel Ma...</td>\n",
       "      <td>The New York Times</td>\n",
       "      <td>News</td>\n",
       "      <td>https://www.nytimes.com/2018/04/24/world/europ...</td>\n",
       "    </tr>\n",
       "    <tr>\n",
       "      <th>4</th>\n",
       "      <td>5adf3d64068401528a2aa60f</td>\n",
       "      <td>815</td>\n",
       "      <td>By IAN AUSTEN and DAN BILEFSKY</td>\n",
       "      <td>article</td>\n",
       "      <td>Unknown</td>\n",
       "      <td>['Toronto, Ontario, Attack (April, 2018)', 'Mu...</td>\n",
       "      <td>68</td>\n",
       "      <td>Foreign</td>\n",
       "      <td>0</td>\n",
       "      <td>2018-04-24 14:21:21</td>\n",
       "      <td>Canada</td>\n",
       "      <td>Alek Minassian, 25, a resident of Toronto’s Ri...</td>\n",
       "      <td>The New York Times</td>\n",
       "      <td>News</td>\n",
       "      <td>https://www.nytimes.com/2018/04/24/world/canad...</td>\n",
       "    </tr>\n",
       "  </tbody>\n",
       "</table>\n",
       "</div>"
      ],
      "text/plain": [
       "                  articleID  articleWordCount  \\\n",
       "0  5adf6684068401528a2aa69b               781   \n",
       "1  5adf653f068401528a2aa697               656   \n",
       "2  5adf4626068401528a2aa628              2427   \n",
       "3  5adf40d2068401528a2aa619               626   \n",
       "4  5adf3d64068401528a2aa60f               815   \n",
       "\n",
       "                                      byline documentType  \\\n",
       "0                             By JOHN BRANCH      article   \n",
       "1                           By LISA FRIEDMAN      article   \n",
       "2                              By PETE WELLS      article   \n",
       "3  By JULIE HIRSCHFELD DAVIS and PETER BAKER      article   \n",
       "4             By IAN AUSTEN and DAN BILEFSKY      article   \n",
       "\n",
       "                                            headline  \\\n",
       "0  Former N.F.L. Cheerleaders’ Settlement Offer: ...   \n",
       "1  E.P.A. to Unveil a New Rule. Its Effect: Less ...   \n",
       "2                            The New Noma, Explained   \n",
       "3                                            Unknown   \n",
       "4                                            Unknown   \n",
       "\n",
       "                                            keywords  multimedia     newDesk  \\\n",
       "0  ['Workplace Hazards and Violations', 'Football...          68      Sports   \n",
       "1  ['Environmental Protection Agency', 'Pruitt, S...          68     Climate   \n",
       "2  ['Restaurants', 'Noma (Copenhagen, Restaurant)...          66      Dining   \n",
       "3  ['Macron, Emmanuel (1977- )', 'Trump, Donald J...          68  Washington   \n",
       "4  ['Toronto, Ontario, Attack (April, 2018)', 'Mu...          68     Foreign   \n",
       "\n",
       "   printPage              pubDate   sectionName  \\\n",
       "0          0  2018-04-24 17:16:49  Pro Football   \n",
       "1          0  2018-04-24 17:11:21       Unknown   \n",
       "2          0  2018-04-24 14:58:44       Unknown   \n",
       "3          0  2018-04-24 14:35:57        Europe   \n",
       "4          0  2018-04-24 14:21:21        Canada   \n",
       "\n",
       "                                             snippet              source  \\\n",
       "0  “I understand that they could meet with us, pa...  The New York Times   \n",
       "1  The agency plans to publish a new regulation T...  The New York Times   \n",
       "2  What’s it like to eat at the second incarnatio...  The New York Times   \n",
       "3  President Trump welcomed President Emmanuel Ma...  The New York Times   \n",
       "4  Alek Minassian, 25, a resident of Toronto’s Ri...  The New York Times   \n",
       "\n",
       "  typeOfMaterial                                             webURL  \n",
       "0           News  https://www.nytimes.com/2018/04/24/sports/foot...  \n",
       "1           News  https://www.nytimes.com/2018/04/24/climate/epa...  \n",
       "2           News  https://www.nytimes.com/2018/04/24/dining/noma...  \n",
       "3           News  https://www.nytimes.com/2018/04/24/world/europ...  \n",
       "4           News  https://www.nytimes.com/2018/04/24/world/canad...  "
      ]
     },
     "execution_count": 3,
     "metadata": {},
     "output_type": "execute_result"
    }
   ],
   "source": [
    "df.head()"
   ]
  },
  {
   "cell_type": "code",
   "execution_count": 4,
   "metadata": {},
   "outputs": [
    {
     "data": {
      "text/plain": [
       "Index(['articleID', 'articleWordCount', 'byline', 'documentType', 'headline',\n",
       "       'keywords', 'multimedia', 'newDesk', 'printPage', 'pubDate',\n",
       "       'sectionName', 'snippet', 'source', 'typeOfMaterial', 'webURL'],\n",
       "      dtype='object')"
      ]
     },
     "execution_count": 4,
     "metadata": {},
     "output_type": "execute_result"
    }
   ],
   "source": [
    "df.columns"
   ]
  },
  {
   "cell_type": "code",
   "execution_count": 5,
   "metadata": {},
   "outputs": [
    {
     "data": {
      "text/plain": [
       "False"
      ]
     },
     "execution_count": 5,
     "metadata": {},
     "output_type": "execute_result"
    }
   ],
   "source": [
    "df['headline'].isnull().values.any()"
   ]
  },
  {
   "cell_type": "code",
   "execution_count": 6,
   "metadata": {},
   "outputs": [
    {
     "data": {
      "text/plain": [
       "['Former N.F.L. Cheerleaders’ Settlement Offer: $1 and a Meeting With Goodell',\n",
       " 'E.P.A. to Unveil a New Rule. Its Effect: Less Science in Policymaking.',\n",
       " 'The New Noma, Explained',\n",
       " 'Unknown',\n",
       " 'Unknown']"
      ]
     },
     "execution_count": 6,
     "metadata": {},
     "output_type": "execute_result"
    }
   ],
   "source": [
    "headline = []\n",
    "headline.extend(list(df.headline.values))\n",
    "headline[:5]"
   ]
  },
  {
   "cell_type": "code",
   "execution_count": 7,
   "metadata": {},
   "outputs": [
    {
     "data": {
      "text/plain": [
       "1324"
      ]
     },
     "execution_count": 7,
     "metadata": {},
     "output_type": "execute_result"
    }
   ],
   "source": [
    "len(headline)"
   ]
  },
  {
   "cell_type": "code",
   "execution_count": 8,
   "metadata": {},
   "outputs": [
    {
     "data": {
      "text/plain": [
       "1214"
      ]
     },
     "execution_count": 8,
     "metadata": {},
     "output_type": "execute_result"
    }
   ],
   "source": [
    "headline = [i for i in headline if i!=\"Unknown\"]\n",
    "len(headline)"
   ]
  },
  {
   "cell_type": "code",
   "execution_count": 9,
   "metadata": {},
   "outputs": [
    {
     "data": {
      "text/plain": [
       "['Former N.F.L. Cheerleaders’ Settlement Offer: $1 and a Meeting With Goodell',\n",
       " 'E.P.A. to Unveil a New Rule. Its Effect: Less Science in Policymaking.',\n",
       " 'The New Noma, Explained',\n",
       " 'How a Bag of Texas Dirt  Became a Times Tradition',\n",
       " 'Is School a Place for Self-Expression?']"
      ]
     },
     "execution_count": 9,
     "metadata": {},
     "output_type": "execute_result"
    }
   ],
   "source": [
    "headline[:5]"
   ]
  },
  {
   "cell_type": "code",
   "execution_count": 10,
   "metadata": {},
   "outputs": [
    {
     "data": {
      "text/plain": [
       "['former nfl cheerleaders settlement offer 1 and a meeting with goodell',\n",
       " 'epa to unveil a new rule its effect less science in policymaking',\n",
       " 'the new noma explained',\n",
       " 'how a bag of texas dirt  became a times tradition',\n",
       " 'is school a place for selfexpression']"
      ]
     },
     "execution_count": 10,
     "metadata": {},
     "output_type": "execute_result"
    }
   ],
   "source": [
    "#구두점 제거와 단어의 소문자화\n",
    "from string import punctuation\n",
    "def repreprocessing(s) :\n",
    "    s = s.encode(\"utf8\").decode(\"ascii\", 'ignore')\n",
    "    return ''.join(c for c in s if c not in punctuation).lower()\n",
    "\n",
    "text = [repreprocessing(x) for x in headline]\n",
    "text[:5]"
   ]
  },
  {
   "cell_type": "code",
   "execution_count": 11,
   "metadata": {},
   "outputs": [
    {
     "name": "stdout",
     "output_type": "stream",
     "text": [
      "단어 집합의 크기 : 3494\n"
     ]
    }
   ],
   "source": [
    "#단어 집합 만들기\n",
    "from keras_preprocessing.text import Tokenizer\n",
    "t = Tokenizer()\n",
    "t.fit_on_texts(text)\n",
    "vocab_size = len(t.word_index) + 1\n",
    "print('단어 집합의 크기 : %d' % vocab_size)"
   ]
  },
  {
   "cell_type": "code",
   "execution_count": 12,
   "metadata": {},
   "outputs": [
    {
     "data": {
      "text/plain": [
       "[[99, 269],\n",
       " [99, 269, 371],\n",
       " [99, 269, 371, 1115],\n",
       " [99, 269, 371, 1115, 582],\n",
       " [99, 269, 371, 1115, 582, 52],\n",
       " [99, 269, 371, 1115, 582, 52, 7],\n",
       " [99, 269, 371, 1115, 582, 52, 7, 2],\n",
       " [99, 269, 371, 1115, 582, 52, 7, 2, 372],\n",
       " [99, 269, 371, 1115, 582, 52, 7, 2, 372, 10],\n",
       " [99, 269, 371, 1115, 582, 52, 7, 2, 372, 10, 1116],\n",
       " [100, 3]]"
      ]
     },
     "execution_count": 12,
     "metadata": {},
     "output_type": "execute_result"
    }
   ],
   "source": [
    "# 정수 인코딩을 수행하는 동시에 하나의 문장을 여러 줄로 분해\n",
    "sequences = list()\n",
    "\n",
    "for line in text :\n",
    "    encoded = t.texts_to_sequences([line])[0]\n",
    "    for i in range(1, len(encoded)) :\n",
    "        sequence = encoded[:i+1]\n",
    "        sequences.append(sequence)\n",
    "sequences[:11]"
   ]
  },
  {
   "cell_type": "code",
   "execution_count": 13,
   "metadata": {},
   "outputs": [
    {
     "data": {
      "text/plain": [
       "'goodell'"
      ]
     },
     "execution_count": 13,
     "metadata": {},
     "output_type": "execute_result"
    }
   ],
   "source": [
    "#어떤 정수가 어떤 단어를 의미하는지 알아보기 위해 인덱스로부터 단어를 찾아주기\n",
    "\n",
    "index_to_word = {}\n",
    "for key, value in t.word_index.items() :\n",
    "    index_to_word[value] = key\n",
    "\n",
    "index_to_word[1116]"
   ]
  },
  {
   "cell_type": "code",
   "execution_count": 14,
   "metadata": {},
   "outputs": [
    {
     "data": {
      "text/plain": [
       "24"
      ]
     },
     "execution_count": 14,
     "metadata": {},
     "output_type": "execute_result"
    }
   ],
   "source": [
    "max_len = max(len(i) for i in sequences)\n",
    "max_len"
   ]
  },
  {
   "cell_type": "code",
   "execution_count": 15,
   "metadata": {
    "scrolled": true
   },
   "outputs": [
    {
     "name": "stderr",
     "output_type": "stream",
     "text": [
      "Using TensorFlow backend.\n"
     ]
    },
    {
     "name": "stdout",
     "output_type": "stream",
     "text": [
      "[[   0    0    0    0    0    0    0    0    0    0    0    0    0    0\n",
      "     0    0    0    0    0    0    0    0   99  269]\n",
      " [   0    0    0    0    0    0    0    0    0    0    0    0    0    0\n",
      "     0    0    0    0    0    0    0   99  269  371]\n",
      " [   0    0    0    0    0    0    0    0    0    0    0    0    0    0\n",
      "     0    0    0    0    0    0   99  269  371 1115]]\n"
     ]
    }
   ],
   "source": [
    "#모든 데이터의 길이를 24로 맞추기\n",
    "from keras.preprocessing.sequence import pad_sequences\n",
    "sequences = pad_sequences(sequences, maxlen=max_len, padding='pre')\n",
    "print(sequences[:3])"
   ]
  },
  {
   "cell_type": "code",
   "execution_count": 18,
   "metadata": {},
   "outputs": [],
   "source": [
    "import numpy as np"
   ]
  },
  {
   "cell_type": "code",
   "execution_count": 19,
   "metadata": {},
   "outputs": [],
   "source": [
    "#X와 y 데이터 분리\n",
    "sequences = np.array(sequences)\n",
    "X = sequences[:,:-1]\n",
    "y = sequences[:,-1]"
   ]
  },
  {
   "cell_type": "code",
   "execution_count": 22,
   "metadata": {},
   "outputs": [],
   "source": [
    "from keras.utils import to_categorical\n",
    "# y에 대한 원-핫 인코딩 수행\n",
    "y = to_categorical(y, num_classes = vocab_size)"
   ]
  },
  {
   "cell_type": "code",
   "execution_count": 24,
   "metadata": {
    "scrolled": true
   },
   "outputs": [
    {
     "data": {
      "text/plain": [
       "24"
      ]
     },
     "execution_count": 24,
     "metadata": {},
     "output_type": "execute_result"
    }
   ],
   "source": [
    "max_len"
   ]
  },
  {
   "cell_type": "code",
   "execution_count": 25,
   "metadata": {},
   "outputs": [
    {
     "name": "stdout",
     "output_type": "stream",
     "text": [
      "WARNING:tensorflow:From C:\\Users\\Affinity\\.conda\\envs\\keras\\lib\\site-packages\\tensorflow\\python\\ops\\math_ops.py:3066: to_int32 (from tensorflow.python.ops.math_ops) is deprecated and will be removed in a future version.\n",
      "Instructions for updating:\n",
      "Use tf.cast instead.\n",
      "Epoch 1/200\n",
      " - 12s - loss: 7.6368 - acc: 0.0309\n",
      "Epoch 2/200\n",
      " - 9s - loss: 7.1132 - acc: 0.0309\n",
      "Epoch 3/200\n",
      " - 10s - loss: 6.9750 - acc: 0.0337\n",
      "Epoch 4/200\n",
      " - 10s - loss: 6.8336 - acc: 0.0418\n",
      "Epoch 5/200\n",
      " - 10s - loss: 6.6624 - acc: 0.0469\n",
      "Epoch 6/200\n",
      " - 10s - loss: 6.4727 - acc: 0.0488\n",
      "Epoch 7/200\n",
      " - 10s - loss: 6.2762 - acc: 0.0528\n",
      "Epoch 8/200\n",
      " - 10s - loss: 6.0757 - acc: 0.0578\n",
      "Epoch 9/200\n",
      " - 10s - loss: 5.8798 - acc: 0.0614\n",
      "Epoch 10/200\n",
      " - 11s - loss: 5.6902 - acc: 0.0695\n",
      "Epoch 11/200\n",
      " - 11s - loss: 5.5123 - acc: 0.0727\n",
      "Epoch 12/200\n",
      " - 10s - loss: 5.3409 - acc: 0.0764\n",
      "Epoch 13/200\n",
      " - 11s - loss: 5.1796 - acc: 0.0820\n",
      "Epoch 14/200\n",
      " - 11s - loss: 5.0197 - acc: 0.0901\n",
      "Epoch 15/200\n",
      " - 11s - loss: 4.8677 - acc: 0.1003\n",
      "Epoch 16/200\n",
      " - 11s - loss: 4.7262 - acc: 0.1111\n",
      "Epoch 17/200\n",
      " - 11s - loss: 4.5840 - acc: 0.1284\n",
      "Epoch 18/200\n",
      " - 11s - loss: 4.4521 - acc: 0.1437\n",
      "Epoch 19/200\n",
      " - 11s - loss: 4.3215 - acc: 0.1643\n",
      "Epoch 20/200\n",
      " - 11s - loss: 4.1975 - acc: 0.1794\n",
      "Epoch 21/200\n",
      " - 11s - loss: 4.0757 - acc: 0.2015\n",
      "Epoch 22/200\n",
      " - 11s - loss: 3.9584 - acc: 0.2159\n",
      "Epoch 23/200\n",
      " - 11s - loss: 3.8436 - acc: 0.2368\n",
      "Epoch 24/200\n",
      " - 11s - loss: 3.7360 - acc: 0.2529\n",
      "Epoch 25/200\n",
      " - 11s - loss: 3.6324 - acc: 0.2719\n",
      "Epoch 26/200\n",
      " - 11s - loss: 3.5339 - acc: 0.2931\n",
      "Epoch 27/200\n",
      " - 11s - loss: 3.4343 - acc: 0.3083\n",
      "Epoch 28/200\n",
      " - 11s - loss: 3.3402 - acc: 0.3271\n",
      "Epoch 29/200\n",
      " - 11s - loss: 3.2513 - acc: 0.3345\n",
      "Epoch 30/200\n",
      " - 12s - loss: 3.1680 - acc: 0.3533\n",
      "Epoch 31/200\n",
      " - 12s - loss: 3.0853 - acc: 0.3699\n",
      "Epoch 32/200\n",
      " - 11s - loss: 3.0058 - acc: 0.3793\n",
      "Epoch 33/200\n",
      " - 12s - loss: 2.9301 - acc: 0.3974\n",
      "Epoch 34/200\n",
      " - 12s - loss: 2.8577 - acc: 0.4151\n",
      "Epoch 35/200\n",
      " - 12s - loss: 2.7883 - acc: 0.4227\n",
      "Epoch 36/200\n",
      " - 12s - loss: 2.7215 - acc: 0.4360\n",
      "Epoch 37/200\n",
      " - 12s - loss: 2.6559 - acc: 0.4489\n",
      "Epoch 38/200\n",
      " - 12s - loss: 2.5914 - acc: 0.4617\n",
      "Epoch 39/200\n",
      " - 12s - loss: 2.5297 - acc: 0.4733\n",
      "Epoch 40/200\n",
      " - 12s - loss: 2.4715 - acc: 0.4858\n",
      "Epoch 41/200\n",
      " - 12s - loss: 2.4127 - acc: 0.4949\n",
      "Epoch 42/200\n",
      " - 12s - loss: 2.3558 - acc: 0.5079\n",
      "Epoch 43/200\n",
      " - 12s - loss: 2.3038 - acc: 0.5154\n",
      "Epoch 44/200\n",
      " - 12s - loss: 2.2509 - acc: 0.5261\n",
      "Epoch 45/200\n",
      " - 12s - loss: 2.1964 - acc: 0.5377\n",
      "Epoch 46/200\n",
      " - 12s - loss: 2.1507 - acc: 0.5484\n",
      "Epoch 47/200\n",
      " - 12s - loss: 2.1006 - acc: 0.5565\n",
      "Epoch 48/200\n",
      " - 12s - loss: 2.0540 - acc: 0.5689\n",
      "Epoch 49/200\n",
      " - 12s - loss: 2.0045 - acc: 0.5766\n",
      "Epoch 50/200\n",
      " - 12s - loss: 1.9587 - acc: 0.5863\n",
      "Epoch 51/200\n",
      " - 12s - loss: 1.9120 - acc: 0.5962\n",
      "Epoch 52/200\n",
      " - 12s - loss: 1.8730 - acc: 0.6059\n",
      "Epoch 53/200\n",
      " - 12s - loss: 1.8295 - acc: 0.6131\n",
      "Epoch 54/200\n",
      " - 12s - loss: 1.7891 - acc: 0.6231\n",
      "Epoch 55/200\n",
      " - 12s - loss: 1.7497 - acc: 0.6322\n",
      "Epoch 56/200\n",
      " - 12s - loss: 1.7076 - acc: 0.6423\n",
      "Epoch 57/200\n",
      " - 12s - loss: 1.6669 - acc: 0.6510\n",
      "Epoch 58/200\n",
      " - 12s - loss: 1.6305 - acc: 0.6605\n",
      "Epoch 59/200\n",
      " - 12s - loss: 1.5965 - acc: 0.6685\n",
      "Epoch 60/200\n",
      " - 12s - loss: 1.5588 - acc: 0.6769\n",
      "Epoch 61/200\n",
      " - 12s - loss: 1.5259 - acc: 0.6823\n",
      "Epoch 62/200\n",
      " - 12s - loss: 1.4900 - acc: 0.6911\n",
      "Epoch 63/200\n",
      " - 12s - loss: 1.4563 - acc: 0.6931\n",
      "Epoch 64/200\n",
      " - 12s - loss: 1.4254 - acc: 0.7058\n",
      "Epoch 65/200\n",
      " - 13s - loss: 1.3907 - acc: 0.7128\n",
      "Epoch 66/200\n",
      " - 13s - loss: 1.3627 - acc: 0.7182\n",
      "Epoch 67/200\n",
      " - 13s - loss: 1.3294 - acc: 0.7277\n",
      "Epoch 68/200\n",
      " - 13s - loss: 1.2992 - acc: 0.7310\n",
      "Epoch 69/200\n",
      " - 13s - loss: 1.2700 - acc: 0.7382\n",
      "Epoch 70/200\n",
      " - 13s - loss: 1.2455 - acc: 0.7428\n",
      "Epoch 71/200\n",
      " - 13s - loss: 1.2175 - acc: 0.7504\n",
      "Epoch 72/200\n",
      " - 13s - loss: 1.1896 - acc: 0.7582\n",
      "Epoch 73/200\n",
      " - 13s - loss: 1.1632 - acc: 0.7621\n",
      "Epoch 74/200\n",
      " - 13s - loss: 1.1393 - acc: 0.7660\n",
      "Epoch 75/200\n",
      " - 13s - loss: 1.1136 - acc: 0.7735\n",
      "Epoch 76/200\n",
      " - 13s - loss: 1.0910 - acc: 0.7776\n",
      "Epoch 77/200\n",
      " - 13s - loss: 1.0607 - acc: 0.7821\n",
      "Epoch 78/200\n",
      " - 13s - loss: 1.0403 - acc: 0.7888\n",
      "Epoch 79/200\n",
      " - 13s - loss: 1.0200 - acc: 0.7933\n",
      "Epoch 80/200\n",
      " - 13s - loss: 0.9973 - acc: 0.8015\n",
      "Epoch 81/200\n",
      " - 13s - loss: 0.9755 - acc: 0.8021\n",
      "Epoch 82/200\n",
      " - 13s - loss: 0.9550 - acc: 0.8055\n",
      "Epoch 83/200\n",
      " - 13s - loss: 0.9364 - acc: 0.8065\n",
      "Epoch 84/200\n",
      " - 13s - loss: 0.9181 - acc: 0.8129\n",
      "Epoch 85/200\n",
      " - 13s - loss: 0.8923 - acc: 0.8181\n",
      "Epoch 86/200\n",
      " - 13s - loss: 0.8730 - acc: 0.8205\n",
      "Epoch 87/200\n",
      " - 13s - loss: 0.8552 - acc: 0.8266\n",
      "Epoch 88/200\n",
      " - 13s - loss: 0.8366 - acc: 0.8308\n",
      "Epoch 89/200\n",
      " - 13s - loss: 0.8201 - acc: 0.8334\n",
      "Epoch 90/200\n",
      " - 13s - loss: 0.8025 - acc: 0.8361\n",
      "Epoch 91/200\n",
      " - 13s - loss: 0.7833 - acc: 0.8404\n",
      "Epoch 92/200\n",
      " - 13s - loss: 0.7701 - acc: 0.8472\n",
      "Epoch 93/200\n",
      " - 13s - loss: 0.7504 - acc: 0.8488\n",
      "Epoch 94/200\n",
      " - 13s - loss: 0.7381 - acc: 0.8511\n",
      "Epoch 95/200\n",
      " - 13s - loss: 0.7221 - acc: 0.8547\n",
      "Epoch 96/200\n",
      " - 13s - loss: 0.7133 - acc: 0.8575\n",
      "Epoch 97/200\n",
      " - 13s - loss: 0.6953 - acc: 0.8584\n",
      "Epoch 98/200\n",
      " - 13s - loss: 0.6816 - acc: 0.8648\n",
      "Epoch 99/200\n",
      " - 13s - loss: 0.6633 - acc: 0.8643\n",
      "Epoch 100/200\n",
      " - 13s - loss: 0.6515 - acc: 0.8706\n",
      "Epoch 101/200\n",
      " - 13s - loss: 0.6360 - acc: 0.8716\n",
      "Epoch 102/200\n",
      " - 13s - loss: 0.6269 - acc: 0.8726\n",
      "Epoch 103/200\n",
      " - 13s - loss: 0.6149 - acc: 0.8734\n",
      "Epoch 104/200\n",
      " - 13s - loss: 0.6051 - acc: 0.8749\n",
      "Epoch 105/200\n",
      " - 13s - loss: 0.5913 - acc: 0.8779\n",
      "Epoch 106/200\n",
      " - 13s - loss: 0.5795 - acc: 0.8802\n",
      "Epoch 107/200\n",
      " - 13s - loss: 0.5713 - acc: 0.8834\n",
      "Epoch 108/200\n",
      " - 13s - loss: 0.5572 - acc: 0.8856\n",
      "Epoch 109/200\n",
      " - 13s - loss: 0.5436 - acc: 0.8865\n",
      "Epoch 110/200\n",
      " - 13s - loss: 0.5378 - acc: 0.8897\n",
      "Epoch 111/200\n",
      " - 13s - loss: 0.5380 - acc: 0.8898\n",
      "Epoch 112/200\n",
      " - 13s - loss: 0.5256 - acc: 0.8897\n",
      "Epoch 113/200\n",
      " - 13s - loss: 0.5102 - acc: 0.8926\n",
      "Epoch 114/200\n",
      " - 13s - loss: 0.4985 - acc: 0.8931\n",
      "Epoch 115/200\n",
      " - 14s - loss: 0.4898 - acc: 0.8948\n",
      "Epoch 116/200\n",
      " - 13s - loss: 0.4851 - acc: 0.8947\n",
      "Epoch 117/200\n",
      " - 14s - loss: 0.4764 - acc: 0.8976\n",
      "Epoch 118/200\n",
      " - 14s - loss: 0.4776 - acc: 0.8967\n",
      "Epoch 119/200\n",
      " - 13s - loss: 0.4600 - acc: 0.9006\n",
      "Epoch 120/200\n",
      " - 14s - loss: 0.4524 - acc: 0.9021\n",
      "Epoch 121/200\n",
      " - 13s - loss: 0.4434 - acc: 0.9036\n",
      "Epoch 122/200\n",
      " - 13s - loss: 0.4372 - acc: 0.9031\n",
      "Epoch 123/200\n",
      " - 14s - loss: 0.4313 - acc: 0.9055\n",
      "Epoch 124/200\n",
      " - 13s - loss: 0.4381 - acc: 0.9017\n",
      "Epoch 125/200\n",
      " - 14s - loss: 0.4233 - acc: 0.9066\n",
      "Epoch 126/200\n",
      " - 14s - loss: 0.4153 - acc: 0.9061\n",
      "Epoch 127/200\n",
      " - 14s - loss: 0.4060 - acc: 0.9080\n",
      "Epoch 128/200\n",
      " - 13s - loss: 0.4048 - acc: 0.9070\n",
      "Epoch 129/200\n",
      " - 14s - loss: 0.3980 - acc: 0.9095\n",
      "Epoch 130/200\n",
      " - 14s - loss: 0.3920 - acc: 0.9107\n",
      "Epoch 131/200\n",
      " - 14s - loss: 0.3870 - acc: 0.9100\n",
      "Epoch 132/200\n",
      " - 14s - loss: 0.3873 - acc: 0.9116\n",
      "Epoch 133/200\n",
      " - 14s - loss: 0.3858 - acc: 0.9107\n",
      "Epoch 134/200\n",
      " - 14s - loss: 0.3755 - acc: 0.9118\n",
      "Epoch 135/200\n",
      " - 14s - loss: 0.3701 - acc: 0.9122\n",
      "Epoch 136/200\n",
      " - 14s - loss: 0.3653 - acc: 0.9134\n",
      "Epoch 137/200\n",
      " - 14s - loss: 0.3592 - acc: 0.9129\n",
      "Epoch 138/200\n",
      " - 14s - loss: 0.3846 - acc: 0.9062\n",
      "Epoch 139/200\n",
      " - 14s - loss: 0.3914 - acc: 0.9072\n",
      "Epoch 140/200\n",
      " - 14s - loss: 0.3571 - acc: 0.9134\n",
      "Epoch 141/200\n",
      " - 14s - loss: 0.3444 - acc: 0.9141\n",
      "Epoch 142/200\n",
      " - 14s - loss: 0.3402 - acc: 0.9136\n",
      "Epoch 143/200\n",
      " - 14s - loss: 0.3360 - acc: 0.9152\n",
      "Epoch 144/200\n",
      " - 14s - loss: 0.3343 - acc: 0.9140\n",
      "Epoch 145/200\n",
      " - 14s - loss: 0.3327 - acc: 0.9144\n",
      "Epoch 146/200\n",
      " - 14s - loss: 0.3293 - acc: 0.9152\n",
      "Epoch 147/200\n",
      " - 14s - loss: 0.3269 - acc: 0.9148\n",
      "Epoch 148/200\n",
      " - 15s - loss: 0.3289 - acc: 0.9143\n",
      "Epoch 149/200\n",
      " - 14s - loss: 0.3254 - acc: 0.9163\n",
      "Epoch 150/200\n",
      " - 14s - loss: 0.3290 - acc: 0.9141\n",
      "Epoch 151/200\n",
      " - 14s - loss: 0.3334 - acc: 0.9150\n",
      "Epoch 152/200\n",
      " - 14s - loss: 0.3257 - acc: 0.9148\n",
      "Epoch 153/200\n",
      " - 14s - loss: 0.3271 - acc: 0.9152\n",
      "Epoch 154/200\n",
      " - 14s - loss: 0.3557 - acc: 0.9097\n",
      "Epoch 155/200\n",
      " - 14s - loss: 0.3349 - acc: 0.9127\n",
      "Epoch 156/200\n",
      " - 14s - loss: 0.3136 - acc: 0.9161\n",
      "Epoch 157/200\n",
      " - 14s - loss: 0.3074 - acc: 0.9158\n",
      "Epoch 158/200\n",
      " - 14s - loss: 0.3047 - acc: 0.9162\n",
      "Epoch 159/200\n",
      " - 14s - loss: 0.3036 - acc: 0.9145\n",
      "Epoch 160/200\n",
      " - 14s - loss: 0.3013 - acc: 0.9179\n",
      "Epoch 161/200\n",
      " - 14s - loss: 0.2999 - acc: 0.9164\n"
     ]
    },
    {
     "name": "stdout",
     "output_type": "stream",
     "text": [
      "Epoch 162/200\n",
      " - 14s - loss: 0.3002 - acc: 0.9163\n",
      "Epoch 163/200\n",
      " - 14s - loss: 0.3005 - acc: 0.9148\n",
      "Epoch 164/200\n",
      " - 16s - loss: 0.3084 - acc: 0.9136\n",
      "Epoch 165/200\n",
      " - 16s - loss: 0.2988 - acc: 0.9170\n",
      "Epoch 166/200\n",
      " - 15s - loss: 0.3038 - acc: 0.9146\n",
      "Epoch 167/200\n",
      " - 14s - loss: 0.3394 - acc: 0.9108\n",
      "Epoch 168/200\n",
      " - 14s - loss: 0.3099 - acc: 0.9153\n",
      "Epoch 169/200\n",
      " - 14s - loss: 0.2991 - acc: 0.9161\n",
      "Epoch 170/200\n",
      " - 14s - loss: 0.2911 - acc: 0.9167\n",
      "Epoch 171/200\n",
      " - 14s - loss: 0.2911 - acc: 0.9148\n",
      "Epoch 172/200\n",
      " - 14s - loss: 0.2884 - acc: 0.9167\n",
      "Epoch 173/200\n",
      " - 14s - loss: 0.2875 - acc: 0.9155\n",
      "Epoch 174/200\n",
      " - 14s - loss: 0.2856 - acc: 0.9163\n",
      "Epoch 175/200\n",
      " - 14s - loss: 0.2855 - acc: 0.9168\n",
      "Epoch 176/200\n",
      " - 14s - loss: 0.2860 - acc: 0.9150\n",
      "Epoch 177/200\n",
      " - 14s - loss: 0.2888 - acc: 0.9150\n",
      "Epoch 178/200\n",
      " - 14s - loss: 0.2971 - acc: 0.9150\n",
      "Epoch 179/200\n",
      " - 14s - loss: 0.2866 - acc: 0.9172\n",
      "Epoch 180/200\n",
      " - 14s - loss: 0.2847 - acc: 0.9173\n",
      "Epoch 181/200\n",
      " - 14s - loss: 0.2816 - acc: 0.9162\n",
      "Epoch 182/200\n",
      " - 14s - loss: 0.2816 - acc: 0.9158\n",
      "Epoch 183/200\n",
      " - 14s - loss: 0.2817 - acc: 0.9154\n",
      "Epoch 184/200\n",
      " - 14s - loss: 0.2797 - acc: 0.9172\n",
      "Epoch 185/200\n",
      " - 15s - loss: 0.2942 - acc: 0.9141\n",
      "Epoch 186/200\n",
      " - 14s - loss: 0.2974 - acc: 0.9125\n",
      "Epoch 187/200\n",
      " - 14s - loss: 0.2890 - acc: 0.9152\n",
      "Epoch 188/200\n",
      " - 14s - loss: 0.2796 - acc: 0.9163\n",
      "Epoch 189/200\n",
      " - 15s - loss: 0.2770 - acc: 0.9166\n",
      "Epoch 190/200\n",
      " - 14s - loss: 0.2735 - acc: 0.9166\n",
      "Epoch 191/200\n",
      " - 14s - loss: 0.2739 - acc: 0.9163\n",
      "Epoch 192/200\n",
      " - 14s - loss: 0.2751 - acc: 0.9162\n",
      "Epoch 193/200\n",
      " - 14s - loss: 0.2735 - acc: 0.9153\n",
      "Epoch 194/200\n",
      " - 14s - loss: 0.2713 - acc: 0.9163\n",
      "Epoch 195/200\n",
      " - 15s - loss: 0.2714 - acc: 0.9180\n",
      "Epoch 196/200\n",
      " - 14s - loss: 0.2714 - acc: 0.9155\n",
      "Epoch 197/200\n",
      " - 14s - loss: 0.2716 - acc: 0.9175\n",
      "Epoch 198/200\n",
      " - 14s - loss: 0.2702 - acc: 0.9166\n",
      "Epoch 199/200\n",
      " - 14s - loss: 0.2750 - acc: 0.9158\n",
      "Epoch 200/200\n",
      " - 14s - loss: 0.2745 - acc: 0.9152\n"
     ]
    },
    {
     "data": {
      "text/plain": [
       "<keras.callbacks.History at 0x219d4036fd0>"
      ]
     },
     "execution_count": 25,
     "metadata": {},
     "output_type": "execute_result"
    }
   ],
   "source": [
    "from keras.layers import Embedding, Dense, LSTM\n",
    "from keras.models import Sequential\n",
    "\n",
    "model2 = Sequential()\n",
    "model2.add(Embedding(vocab_size, 10, input_length = max_len-1))\n",
    "model2.add(LSTM(128))\n",
    "model2.add(Dense(vocab_size, activation='softmax'))\n",
    "model2.compile(loss = 'categorical_crossentropy', optimizer = 'adam', metrics=['accuracy'])\n",
    "model2.fit(X, y, epochs = 200, verbose=2)"
   ]
  },
  {
   "cell_type": "code",
   "execution_count": 30,
   "metadata": {},
   "outputs": [
    {
     "data": {
      "text/plain": [
       "'how to beat the americans season more pruitt the americans season'"
      ]
     },
     "execution_count": 30,
     "metadata": {},
     "output_type": "execute_result"
    }
   ],
   "source": [
    "def sentence_generation(model, t, current_word, n) :\n",
    "    init_word = current_word\n",
    "    sentence = ''\n",
    "    for _ in range(n) : #n번 반복\n",
    "        encoded = t.texts_to_sequences([current_word])[0]\n",
    "        encoded = pad_sequences([encoded], maxlen=23, padding='pre')\n",
    "        result = model.predict_classes(encoded, verbose = 0)\n",
    "        for word, index in t.word_index.items() :\n",
    "            if index == result :\n",
    "                break\n",
    "        current_word = word\n",
    "        sentence = sentence + ' ' + word\n",
    "    sentence = init_word + sentence\n",
    "    return sentence\n",
    "\n",
    "sentence_generation(model2, t, 'how',10)"
   ]
  },
  {
   "cell_type": "code",
   "execution_count": 31,
   "metadata": {},
   "outputs": [
    {
     "data": {
      "text/plain": [
       "'what the americans season more pruitt the americans season more pruitt the americans season more pruitt the americans season more pruitt'"
      ]
     },
     "execution_count": 31,
     "metadata": {},
     "output_type": "execute_result"
    }
   ],
   "source": [
    "sentence_generation(model2, t, 'what',20)"
   ]
  }
 ],
 "metadata": {
  "kernelspec": {
   "display_name": "hikeras",
   "language": "python",
   "name": "keras"
  },
  "language_info": {
   "codemirror_mode": {
    "name": "ipython",
    "version": 3
   },
   "file_extension": ".py",
   "mimetype": "text/x-python",
   "name": "python",
   "nbconvert_exporter": "python",
   "pygments_lexer": "ipython3",
   "version": "3.6.8"
  }
 },
 "nbformat": 4,
 "nbformat_minor": 2
}
