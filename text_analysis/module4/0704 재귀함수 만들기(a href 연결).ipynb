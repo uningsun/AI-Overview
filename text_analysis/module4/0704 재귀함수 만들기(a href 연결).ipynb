{
 "cells": [
  {
   "cell_type": "code",
   "execution_count": 37,
   "metadata": {},
   "outputs": [],
   "source": [
    "#파이썬 매뉴얼을 재귀적으로 다운받는 프로그램\n",
    "\n",
    "from bs4 import BeautifulSoup\n",
    "from urllib.request import *\n",
    "from urllib.parse import *\n",
    "from os import makedirs\n",
    "import os.path, time, re\n",
    "\n",
    "#이미 처리한 파일인지 확인하기 위한 변수\n",
    "proc_files = {}\n",
    "\n",
    "#HTML 내부에 있는 링크를 추출하는 함수\n",
    "def enum_links(html, base) :\n",
    "    soup = BeautifulSoup(html, 'html.parser')\n",
    "    links = soup.select('link[rel=\"stylesheet\"]') #CSS\n",
    "    links += soup.select(\"a[href]\") #링크\n",
    "    result = []\n",
    "    #href 속성을 추출하고, 링크를 절대 경로로 변환\n",
    "    for a in links :\n",
    "        href = a.attrs['href']\n",
    "        url = urljoin(base, href)\n",
    "        result.append(url)\n",
    "    \n",
    "    return result"
   ]
  },
  {
   "cell_type": "code",
   "execution_count": 38,
   "metadata": {},
   "outputs": [],
   "source": [
    "#파일을 다운받고 저장하는 함수\n",
    "def download_file(url) :\n",
    "    o = urlparse(url)\n",
    "    dir_path = \"C:/Users/Affinity/Downloads/module04/\"\n",
    "    savepath = dir_path + o.netloc + o.path\n",
    "    if re.search(r'/$', savepath) :\n",
    "        savepath+='index.html'\n",
    "    savedir = os.path.dirname(savepath)\n",
    "    #모두 다운되었는지 확인\n",
    "    if os.path.exists(savepath) :\n",
    "        return savepath\n",
    "    #다운받을 폴더 생성\n",
    "    if not os.path.exists(savedir) :\n",
    "        print(\"mkdir=\",savedir)\n",
    "        makedirs(savedir)\n",
    "    #파일 다운받기\n",
    "    try :\n",
    "        print(\"download =\", url)\n",
    "        urlretrieve(url, savepath)\n",
    "        time.sleep(1)\n",
    "        return savepath\n",
    "    except :\n",
    "        print(\"다운 실패 : \", url)\n",
    "        return None"
   ]
  },
  {
   "cell_type": "code",
   "execution_count": 87,
   "metadata": {},
   "outputs": [],
   "source": [
    "#HTML을 분석하고 다운받는 함수\n",
    "def analyze_html(url, root_url) :\n",
    "    savepath = download_file(url)\n",
    "    if savepath is None :\n",
    "        return\n",
    "    if savepath in proc_files :\n",
    "        return\n",
    "    proc_files[savepath] = True\n",
    "    print('analyze_html=',url)\n",
    "    #링크 추출\n",
    "    html = open(savepath, 'r', encoding = 'utf-8').read()\n",
    "    links = enum_links(html, url)\n",
    "    for link_url in links :\n",
    "        #링크가 루트 외 경로를 나타내면 무시\n",
    "        if link_url.find(root_url) != 0 :\n",
    "            if not re.search(r'.css$', link_url) :\n",
    "                continue\n",
    "                \n",
    "        if re.search(r'.(html|htm)$', link_url) :\n",
    "            analyze_html(link_url, root_url)\n",
    "            continue\n",
    "        download_file(link_url)"
   ]
  },
  {
   "cell_type": "code",
   "execution_count": 40,
   "metadata": {},
   "outputs": [
    {
     "name": "stdout",
     "output_type": "stream",
     "text": [
      "download = https://docs.python.org/3.5/library/\n",
      "analyze_html= https://docs.python.org/3.5/library/\n",
      "mkdir= C:/Users/Affinity/Downloads/module04/docs.python.org/3.5/_static\n",
      "download = https://docs.python.org/3.5/_static/pydoctheme.css\n",
      "download = https://docs.python.org/3.5/_static/pygments.css\n"
     ]
    }
   ],
   "source": [
    "if __name__ == '__main__' :\n",
    "    #URL에 있는 모든 것 다운받기\n",
    "    url = 'https://docs.python.org/3.5/library/' \n",
    "    analyze_html(url, url)"
   ]
  }
 ],
 "metadata": {
  "kernelspec": {
   "display_name": "insun",
   "language": "python",
   "name": "insun"
  },
  "language_info": {
   "codemirror_mode": {
    "name": "ipython",
    "version": 3
   },
   "file_extension": ".py",
   "mimetype": "text/x-python",
   "name": "python",
   "nbconvert_exporter": "python",
   "pygments_lexer": "ipython3",
   "version": "3.6.8"
  }
 },
 "nbformat": 4,
 "nbformat_minor": 2
}
