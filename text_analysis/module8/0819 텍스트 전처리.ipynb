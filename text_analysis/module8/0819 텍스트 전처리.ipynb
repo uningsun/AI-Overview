{
 "cells": [
  {
   "cell_type": "markdown",
   "metadata": {},
   "source": [
    "cf. 자동줄바꿈\n",
    "->https://optimizing.tistory.com/10"
   ]
  },
  {
   "cell_type": "markdown",
   "metadata": {},
   "source": [
    "## NLTK의 word_tokenize 사용"
   ]
  },
  {
   "cell_type": "code",
   "execution_count": 29,
   "metadata": {},
   "outputs": [],
   "source": [
    "import nltk"
   ]
  },
  {
   "cell_type": "code",
   "execution_count": 2,
   "metadata": {},
   "outputs": [
    {
     "name": "stderr",
     "output_type": "stream",
     "text": [
      "[nltk_data] Downloading package punkt to\n",
      "[nltk_data]     C:\\Users\\Affinity\\AppData\\Roaming\\nltk_data...\n",
      "[nltk_data]   Package punkt is already up-to-date!\n"
     ]
    },
    {
     "data": {
      "text/plain": [
       "True"
      ]
     },
     "execution_count": 2,
     "metadata": {},
     "output_type": "execute_result"
    }
   ],
   "source": [
    "nltk.download('punkt')"
   ]
  },
  {
   "cell_type": "code",
   "execution_count": 30,
   "metadata": {},
   "outputs": [],
   "source": [
    "from nltk.tokenize import word_tokenize"
   ]
  },
  {
   "cell_type": "code",
   "execution_count": 4,
   "metadata": {
    "scrolled": true
   },
   "outputs": [
    {
     "name": "stdout",
     "output_type": "stream",
     "text": [
      "['Do', \"n't\", 'be', 'fooled', 'by', 'the', 'dark', 'sounding', 'name', ',', 'Mr.', 'Jone', \"'s\", 'Orphanage', 'is', 'as', 'cheery', 'as', 'cheery', 'goes', 'for', 'a', 'pastry', 'shop', '.']\n"
     ]
    }
   ],
   "source": [
    "print(word_tokenize(\"Don't be fooled by the dark sounding name, Mr. Jone's Orphanage is as cheery as cheery goes for a pastry shop.\"))"
   ]
  },
  {
   "cell_type": "markdown",
   "metadata": {},
   "source": [
    "## wordpunctTokenizer 사용"
   ]
  },
  {
   "cell_type": "code",
   "execution_count": 5,
   "metadata": {
    "scrolled": false
   },
   "outputs": [
    {
     "data": {
      "text/plain": [
       "['Don',\n",
       " \"'\",\n",
       " 't',\n",
       " 'be',\n",
       " 'fooled',\n",
       " 'by',\n",
       " 'the',\n",
       " 'dark',\n",
       " 'sounding',\n",
       " 'name',\n",
       " ',',\n",
       " 'Mr',\n",
       " '.',\n",
       " 'Jone',\n",
       " \"'\",\n",
       " 's',\n",
       " 'Orphanage',\n",
       " 'is',\n",
       " 'as',\n",
       " 'cheery',\n",
       " 'as',\n",
       " 'cheery',\n",
       " 'goes',\n",
       " 'for',\n",
       " 'a',\n",
       " 'pastry',\n",
       " 'shop',\n",
       " '.']"
      ]
     },
     "execution_count": 5,
     "metadata": {},
     "output_type": "execute_result"
    }
   ],
   "source": [
    "from nltk.tokenize import WordPunctTokenizer\n",
    "WordPunctTokenizer().tokenize(\"Don't be fooled by the dark sounding name, Mr. Jone's Orphanage is as cheery as cheery goes for a pastry shop.\")"
   ]
  },
  {
   "cell_type": "markdown",
   "metadata": {},
   "source": [
    "토큰화에서 고려해야할 사항\n",
    "- 구두점이나 특수문자를 단순 제외해서는 안됨\n",
    "- 구두점조차도 하나의 토큰으로 분류하기도 함\n",
    " - ex. 단어 자체에서 구두점을 갖고 있는 m.p.h나 ph.D, AT&T같은 경우\n",
    " - 특수문자의 $ -> 가격 의미, / -> 01/02/06 같은 날짜 의미\n",
    " - 123,456,789와 같이 세 자리 단위로 숫자 사이에 컴마(,)가 들어가는 경우"
   ]
  },
  {
   "cell_type": "markdown",
   "metadata": {},
   "source": [
    "## Penn Treebank Tokenization - 표준 토큰화 예제\n",
    "1. 하이픈으로 구성된 단어는 하나로 유지\n",
    "2. doesn't와 같이 '로 '접어'가 함께하는 단어는 분리"
   ]
  },
  {
   "cell_type": "code",
   "execution_count": 6,
   "metadata": {},
   "outputs": [
    {
     "data": {
      "text/plain": [
       "['Do',\n",
       " \"n't\",\n",
       " 'be',\n",
       " 'fooled',\n",
       " 'by',\n",
       " 'the',\n",
       " 'dark',\n",
       " 'sounding',\n",
       " 'name',\n",
       " ',',\n",
       " 'Mr.',\n",
       " 'Jone',\n",
       " \"'s\",\n",
       " 'Orphanage',\n",
       " 'is',\n",
       " 'as',\n",
       " 'cheery',\n",
       " 'as',\n",
       " 'cheery',\n",
       " 'goes',\n",
       " 'for',\n",
       " 'a',\n",
       " 'pastry',\n",
       " 'shop',\n",
       " '.']"
      ]
     },
     "execution_count": 6,
     "metadata": {},
     "output_type": "execute_result"
    }
   ],
   "source": [
    "from nltk.tokenize import TreebankWordTokenizer\n",
    "tokenizer = TreebankWordTokenizer()\n",
    "text = \"Don't be fooled by the dark sounding name, Mr. Jone's Orphanage is as cheery as cheery goes for a pastry shop.\"\n",
    "tokenizer.tokenize(text)"
   ]
  },
  {
   "cell_type": "code",
   "execution_count": 7,
   "metadata": {},
   "outputs": [
    {
     "data": {
      "text/plain": [
       "['Starting',\n",
       " 'a',\n",
       " 'home-based',\n",
       " 'restaurant',\n",
       " 'may',\n",
       " 'be',\n",
       " 'an',\n",
       " 'ideal.',\n",
       " 'It',\n",
       " 'does',\n",
       " \"n't\",\n",
       " 'have',\n",
       " 'a',\n",
       " 'food',\n",
       " 'chain',\n",
       " 'or',\n",
       " 'restaurant',\n",
       " 'of',\n",
       " 'their',\n",
       " 'own']"
      ]
     },
     "execution_count": 7,
     "metadata": {},
     "output_type": "execute_result"
    }
   ],
   "source": [
    "text = \"Starting a home-based restaurant may be an ideal. It doesn't have a food chain or restaurant of their own\"\n",
    "tokenizer.tokenize(text)"
   ]
  },
  {
   "cell_type": "markdown",
   "metadata": {},
   "source": [
    "한국어 토큰화의 어려움\n",
    "- 한국어는 영어(단어 토큰화)와 달리 띄어쓰기로만으로는 토큰화를 하기 부족.\n",
    "- 한국어는 띄어쓰기 단위가 되는 단위를 어절이라고 하는데, 어절 토큰화는 한국어 NLP에서 지양되고 있음. 어절 토큰화와 단어 토큰화가 같지 않기 때문.\n",
    "- 그 이유는 한국어는 교착어이기 때문. (조사, 어미 등을 붙여 말을 만드는 언어)\n",
    "- 같은 단어임에도 서로 다른 조사가 붙어서 다른 단어로 인식이 되면 자연어 처리가 힘들고 번거로워지는 경우가 많음\n",
    " - ex. 그가, 그에게, 그를, 그와, 그는\n",
    "- 한국어는 띄어쓰기가 영어보다 잘 지켜지지 않음\n",
    " - 띄어쓰기가 지켜지지 않아도 글을 쉽게 이해할 수 있음\n",
    " - ex1. 띄어쓰기를안하고글을써도글이해가능함\n",
    " - ex2. Tobeornottobethatisthequestion"
   ]
  },
  {
   "cell_type": "markdown",
   "metadata": {},
   "source": [
    "형태소\n",
    "- 의미를 가지는 최소의 단위. 어휘적 의미와 문법적 의미를 모두 포함\n",
    " - 자립 형태소\n",
    "   - 접사, 어미, 조사와 상관엇ㅂ이 자립하여 사용할 수 있는 형태소\n",
    "   - 그 자체로 단어가 됨\n",
    "   - 체언(명사, 대명사, 수사), 수식언(관형사, 부사), 감탄사 등이 있음\n",
    " - 의존 형태소\n",
    "   - 다른 형태소와 결합하여 사용되는 형태소\n",
    "   - 접사, 어미, 조사, 어간"
   ]
  },
  {
   "cell_type": "markdown",
   "metadata": {},
   "source": [
    "형태소 분석\n",
    " - 형태소보다 단위가 큰 언어 단위인 어절, 혹은 문장을 최소 의미 단위인 형태소로 분절하는 과정\n",
    " - '어절 분석' / '형태론적 분석'이 더 적합한 용어"
   ]
  },
  {
   "cell_type": "markdown",
   "metadata": {},
   "source": [
    "품사\n",
    "- 공통된 성질을 지닌 낱말의 범주\n",
    "- 대표적으로 KoNLPy"
   ]
  },
  {
   "cell_type": "markdown",
   "metadata": {},
   "source": [
    "NLTK를 이용한 영어 토큰화 실습\n",
    "- NLTK에서는 Penn Treebank POS Tags 기준 사용"
   ]
  },
  {
   "cell_type": "code",
   "execution_count": 17,
   "metadata": {
    "scrolled": true
   },
   "outputs": [
    {
     "name": "stdout",
     "output_type": "stream",
     "text": [
      "['I', 'am', 'actively', 'looking', 'for', 'Ph.D.', 'students', '.', 'and', 'you', 'are', 'a', 'ph.D.', 'student', '.']\n"
     ]
    }
   ],
   "source": [
    "from nltk.tokenize import word_tokenize\n",
    "text = \"I am actively looking for Ph.D. students. and you are a ph.D. student.\"\n",
    "print(word_tokenize(text))"
   ]
  },
  {
   "cell_type": "code",
   "execution_count": 9,
   "metadata": {},
   "outputs": [
    {
     "name": "stderr",
     "output_type": "stream",
     "text": [
      "[nltk_data] Downloading package averaged_perceptron_tagger to\n",
      "[nltk_data]     C:\\Users\\Affinity\\AppData\\Roaming\\nltk_data...\n",
      "[nltk_data]   Package averaged_perceptron_tagger is already up-to-\n",
      "[nltk_data]       date!\n"
     ]
    },
    {
     "data": {
      "text/plain": [
       "True"
      ]
     },
     "execution_count": 9,
     "metadata": {},
     "output_type": "execute_result"
    }
   ],
   "source": [
    "nltk.download('averaged_perceptron_tagger')"
   ]
  },
  {
   "cell_type": "code",
   "execution_count": 10,
   "metadata": {},
   "outputs": [
    {
     "data": {
      "text/plain": [
       "[('I', 'PRP'),\n",
       " ('am', 'VBP'),\n",
       " ('actively', 'RB'),\n",
       " ('looking', 'VBG'),\n",
       " ('for', 'IN'),\n",
       " ('Ph.D.', 'NNP'),\n",
       " ('students', 'NNS'),\n",
       " ('.', '.'),\n",
       " ('and', 'CC'),\n",
       " ('you', 'PRP'),\n",
       " ('are', 'VBP'),\n",
       " ('a', 'DT'),\n",
       " ('ph.D.', 'JJ'),\n",
       " ('student', 'NN'),\n",
       " ('.', '.')]"
      ]
     },
     "execution_count": 10,
     "metadata": {},
     "output_type": "execute_result"
    }
   ],
   "source": [
    "# 품사태깅\n",
    "from nltk.tag import pos_tag\n",
    "x = word_tokenize(text)\n",
    "pos_tag(x)"
   ]
  },
  {
   "cell_type": "markdown",
   "metadata": {},
   "source": [
    "- PRP : 인칭 대명사\n",
    "- VBP : 동사\n",
    "- RB : 부사\n",
    "- VBG : 현재분사\n",
    "- IN : 전치사\n",
    "- NNP : 고유명사\n",
    "- NNS : 복수형 명사\n",
    "- CC : 접속사\n",
    "- DT : 관사"
   ]
  },
  {
   "cell_type": "code",
   "execution_count": 11,
   "metadata": {},
   "outputs": [
    {
     "data": {
      "text/plain": [
       "[('Starting', 'VBG'),\n",
       " ('a', 'DT'),\n",
       " ('home-based', 'JJ'),\n",
       " ('restaurant', 'NN'),\n",
       " ('may', 'MD'),\n",
       " ('be', 'VB'),\n",
       " ('an', 'DT'),\n",
       " ('ideal', 'NN'),\n",
       " ('.', '.'),\n",
       " ('It', 'PRP'),\n",
       " ('does', 'VBZ'),\n",
       " (\"n't\", 'RB'),\n",
       " ('have', 'VB'),\n",
       " ('a', 'DT'),\n",
       " ('food', 'NN'),\n",
       " ('chain', 'NN'),\n",
       " ('or', 'CC'),\n",
       " ('restaurant', 'NN'),\n",
       " ('of', 'IN'),\n",
       " ('their', 'PRP$'),\n",
       " ('own', 'JJ')]"
      ]
     },
     "execution_count": 11,
     "metadata": {},
     "output_type": "execute_result"
    }
   ],
   "source": [
    "text = \"Starting a home-based restaurant may be an ideal. It doesn't have a food chain or restaurant of their own\"\n",
    "x = word_tokenize(text)\n",
    "pos_tag(x)"
   ]
  },
  {
   "cell_type": "code",
   "execution_count": 2,
   "metadata": {},
   "outputs": [],
   "source": [
    "import konlpy"
   ]
  },
  {
   "cell_type": "markdown",
   "metadata": {},
   "source": [
    "https://konlpy-ko.readthedocs.io/ko/v0.4.3/morph/"
   ]
  },
  {
   "cell_type": "markdown",
   "metadata": {},
   "source": [
    "#### Okt 분석기 사용 예제"
   ]
  },
  {
   "cell_type": "markdown",
   "metadata": {},
   "source": [
    "형태소 단위로 분해"
   ]
  },
  {
   "cell_type": "code",
   "execution_count": 1,
   "metadata": {},
   "outputs": [
    {
     "name": "stderr",
     "output_type": "stream",
     "text": [
      "C:\\ProgramData\\Anaconda3\\envs\\insun\\lib\\site-packages\\jpype\\_core.py:210: UserWarning: \n",
      "-------------------------------------------------------------------------------\n",
      "Deprecated: convertStrings was not specified when starting the JVM. The default\n",
      "behavior in JPype will be False starting in JPype 0.8. The recommended setting\n",
      "for new code is convertStrings=False.  The legacy value of True was assumed for\n",
      "this session. If you are a user of an application that reported this warning,\n",
      "please file a ticket with the developer.\n",
      "-------------------------------------------------------------------------------\n",
      "\n",
      "  \"\"\")\n"
     ]
    },
    {
     "name": "stdout",
     "output_type": "stream",
     "text": [
      "['C', '#', '을', '앞', '으로', '열심히', '공부', '해봐요', '!']\n"
     ]
    }
   ],
   "source": [
    "from konlpy.tag import Okt\n",
    "okt = Okt()\n",
    "print(okt.morphs(\"C#을 앞으로 열심히 공부해봐요!\"))"
   ]
  },
  {
   "cell_type": "markdown",
   "metadata": {},
   "source": [
    "리스트 형태로 단어와 품사가 짝지어지는 품사(POS) 태깅"
   ]
  },
  {
   "cell_type": "code",
   "execution_count": 2,
   "metadata": {},
   "outputs": [
    {
     "name": "stdout",
     "output_type": "stream",
     "text": [
      "[('열심히', 'Adverb'), ('코딩', 'Noun'), ('한', 'Josa'), ('당신', 'Noun'), (',', 'Punctuation'), ('연휴', 'Noun'), ('에는', 'Josa'), ('여행', 'Noun'), ('을', 'Josa'), ('가봐요', 'Verb')]\n"
     ]
    }
   ],
   "source": [
    "print(okt.pos(\"열심히 코딩한 당신, 연휴에는 여행을 가봐요\"))"
   ]
  },
  {
   "cell_type": "markdown",
   "metadata": {},
   "source": [
    "명사 추출"
   ]
  },
  {
   "cell_type": "code",
   "execution_count": 3,
   "metadata": {},
   "outputs": [
    {
     "name": "stdout",
     "output_type": "stream",
     "text": [
      "['코딩', '당신', '연휴', '여행']\n"
     ]
    }
   ],
   "source": [
    "print(okt.nouns(\"열심히 코딩한 당신, 연휴에는 여행을 가봐요\"))"
   ]
  },
  {
   "cell_type": "markdown",
   "metadata": {},
   "source": [
    "#### 한나눔 분석기 사용 예제"
   ]
  },
  {
   "cell_type": "code",
   "execution_count": 4,
   "metadata": {},
   "outputs": [
    {
     "name": "stdout",
     "output_type": "stream",
     "text": [
      "['형태소', '분석']\n"
     ]
    }
   ],
   "source": [
    "from konlpy.tag import Hannanum\n",
    "han = Hannanum()\n",
    "print(han.nouns('형태소 분석을 해봅시다. 어렵지 않아요')) #명사 분석"
   ]
  },
  {
   "cell_type": "code",
   "execution_count": 5,
   "metadata": {},
   "outputs": [
    {
     "name": "stdout",
     "output_type": "stream",
     "text": [
      "['형태소', '분석', '을', '하', '어', '보', 'ㅂ시다', '.', '어렵', '지', '않', '아요']\n"
     ]
    }
   ],
   "source": [
    "print(han.morphs('형태소 분석을 해봅시다. 어렵지 않아요'))"
   ]
  },
  {
   "cell_type": "code",
   "execution_count": 6,
   "metadata": {},
   "outputs": [
    {
     "name": "stdout",
     "output_type": "stream",
     "text": [
      "[('형태소', 'N'), ('분석', 'N'), ('을', 'J'), ('하', 'P'), ('어', 'E'), ('보', 'P'), ('ㅂ시다', 'E'), ('.', 'S'), ('어렵', 'P'), ('지', 'E'), ('않', 'P'), ('아요', 'E')]\n"
     ]
    }
   ],
   "source": [
    "print(han.pos('형태소 분석을 해봅시다. 어렵지 않아요'))"
   ]
  },
  {
   "cell_type": "markdown",
   "metadata": {},
   "source": [
    "참고 : 한나눔에서 사용하는 품사 집합\n",
    "https://www.sketchengine.eu/wp-content/uploads/Original-HanNanum-manual.pdf\n",
    "- 기본 품사 9개\n",
    "  - N : 체언 / P : 용어 / M : 수식언 / I : 독립언 / J : 관계언 / E : 어미 / X : 접사 / S : 기호 / F : 외국어\n",
    "- 상세 품사 22개\n",
    "  - NC : 보통 명사 / NQ : 고유 명사 / NB : 의존 명사 / NN : 수사 / NP : 대명사 / PV : 동사 / PA : 형용사 / PX : 보조 용언 / MM : 관형사 / MA : 부사 / II : 감탄사 / JC : 격조사 / JX : 보조사 / JP : 서술격 조사 / EP : 종결 어미 / EC : 연결 어미 / ET : 전성 어미 / XP : 접두사 / XS  :접미사 / S :기호 / F : 외국어"
   ]
  },
  {
   "cell_type": "code",
   "execution_count": 7,
   "metadata": {
    "scrolled": true
   },
   "outputs": [
    {
     "name": "stdout",
     "output_type": "stream",
     "text": [
      "분석할 텍스트를 입력하세요 :\n"
     ]
    }
   ],
   "source": [
    "#한나눔\n",
    "han = Hannanum()\n",
    "text = input('분석할 텍스트를 입력하세요 :')\n",
    "result = han.pos(text)\n",
    "\n",
    "for lex, pos in result :\n",
    "    print(\"{}\\t{}\".format(lex, pos))"
   ]
  },
  {
   "cell_type": "code",
   "execution_count": 12,
   "metadata": {},
   "outputs": [
    {
     "name": "stdout",
     "output_type": "stream",
     "text": [
      "분석할 텍스트를 입력하세요 :배가 불러요\n",
      "배\tNoun\n",
      "가\tJosa\n",
      "불러요\tVerb\n"
     ]
    }
   ],
   "source": [
    "#Okt\n",
    "okt = Okt()\n",
    "text = input('분석할 텍스트를 입력하세요 :')\n",
    "result = okt.pos(text)\n",
    "\n",
    "for lex, pos in result :\n",
    "    print(\"{}\\t{}\".format(lex, pos))"
   ]
  },
  {
   "cell_type": "markdown",
   "metadata": {},
   "source": [
    "#### Corpus 이용"
   ]
  },
  {
   "cell_type": "markdown",
   "metadata": {},
   "source": [
    "- 텍스트의 모음\n",
    " : konlpy에는 한국 법률 말뭉치와 대한민국 국회의안 말뭉치가 존재\n",
    "   - https://konlpy-ko.readthedocs.io/ko/v0.4.3/data/"
   ]
  },
  {
   "cell_type": "code",
   "execution_count": 13,
   "metadata": {},
   "outputs": [
    {
     "data": {
      "text/plain": [
       "'대한민국헌법\\n\\n유구한 역사와 전통에 빛나는 우리 대한국민은 3·1운동으로 건립된 대한민국임시정부의 법통과 불'"
      ]
     },
     "execution_count": 13,
     "metadata": {},
     "output_type": "execute_result"
    }
   ],
   "source": [
    "#Corpus 로딩 및 확인\n",
    "from konlpy.corpus import kolaw\n",
    "okt = Okt()\n",
    "law_corpus = kolaw.open('constitution.txt').read()\n",
    "law_corpus[:60]"
   ]
  },
  {
   "cell_type": "code",
   "execution_count": 14,
   "metadata": {},
   "outputs": [
    {
     "data": {
      "text/plain": [
       "[('대한민국', 'Noun'),\n",
       " ('헌법', 'Noun'),\n",
       " ('\\n\\n', 'Foreign'),\n",
       " ('유구', 'Noun'),\n",
       " ('한', 'Josa'),\n",
       " ('역사', 'Noun'),\n",
       " ('와', 'Josa'),\n",
       " ('전통', 'Noun'),\n",
       " ('에', 'Josa'),\n",
       " ('빛나는', 'Verb'),\n",
       " ('우리', 'Noun'),\n",
       " ('대', 'Modifier'),\n",
       " ('한', 'Modifier'),\n",
       " ('국민', 'Noun'),\n",
       " ('은', 'Josa'),\n",
       " ('3', 'Number'),\n",
       " ('·', 'Punctuation'),\n",
       " ('1', 'Number'),\n",
       " ('운동', 'Noun'),\n",
       " ('으로', 'Josa'),\n",
       " ('건립', 'Noun'),\n",
       " ('된', 'Verb'),\n",
       " ('대한민국', 'Noun'),\n",
       " ('임시정부', 'Noun'),\n",
       " ('의', 'Josa'),\n",
       " ('법', 'Noun'),\n",
       " ('통과', 'Noun'),\n",
       " ('불', 'Noun')]"
      ]
     },
     "execution_count": 14,
     "metadata": {},
     "output_type": "execute_result"
    }
   ],
   "source": [
    "#품사 태깅 결과\n",
    "okt.pos(law_corpus[:60])"
   ]
  },
  {
   "cell_type": "markdown",
   "metadata": {},
   "source": [
    "### 정제(Cleaning)"
   ]
  },
  {
   "cell_type": "markdown",
   "metadata": {},
   "source": [
    "- 토큰화 작업 이후에도 여전히 남아있는 노이즈들을 제거하기 위해 지속적으로 이루어지기도 함\n",
    "- 동일한 표현의 표기가 다른 단어들 통합\n",
    "  - 같은 의미를 갖고 있음에도 표기가 다른 단어들을 하나의 단어로 정ㅇ규화하는 방법을 사용\n",
    "    - ex. 해 = 태양 / USA = US -> 하나의 단어로 정규화\n",
    "  - 대,소문자 통합\n",
    "    - 무작정 통합하면 안 됨. ex ) 미국 : US vs 우리 : us / 회사이름, 사람이름 : 대문자 유지"
   ]
  },
  {
   "cell_type": "markdown",
   "metadata": {},
   "source": [
    "- 불필요한 단어의 제거\n",
    "  - 불용어 ~ Stopword : 문장 내 자주 등장하지만 분석 시 도움이 되지 않는 단어들\n",
    "  - 등장 빈도가 적은 단어 (이상치)\n",
    "  - 길이가 짧은 단어\n",
    "    - 한국어에서는 유효하지 않을 수 있음"
   ]
  },
  {
   "cell_type": "markdown",
   "metadata": {},
   "source": [
    "불용어 제거 실습(영어)"
   ]
  },
  {
   "cell_type": "code",
   "execution_count": 11,
   "metadata": {},
   "outputs": [],
   "source": [
    "from nltk.corpus import stopwords # cf : 워드클라우드에도 stopwords 존재"
   ]
  },
  {
   "cell_type": "code",
   "execution_count": 24,
   "metadata": {},
   "outputs": [
    {
     "name": "stderr",
     "output_type": "stream",
     "text": [
      "[nltk_data] Downloading package stopwords to\n",
      "[nltk_data]     C:\\Users\\Affinity\\AppData\\Roaming\\nltk_data...\n",
      "[nltk_data]   Package stopwords is already up-to-date!\n"
     ]
    },
    {
     "data": {
      "text/plain": [
       "True"
      ]
     },
     "execution_count": 24,
     "metadata": {},
     "output_type": "execute_result"
    }
   ],
   "source": [
    "nltk.download('stopwords') "
   ]
  },
  {
   "cell_type": "code",
   "execution_count": 15,
   "metadata": {},
   "outputs": [
    {
     "data": {
      "text/plain": [
       "['i', 'me', 'my', 'myself', 'we', 'our', 'ours', 'ourselves', 'you', \"you're\"]"
      ]
     },
     "execution_count": 15,
     "metadata": {},
     "output_type": "execute_result"
    }
   ],
   "source": [
    "stopwords.words('english')[:10]"
   ]
  },
  {
   "cell_type": "code",
   "execution_count": 18,
   "metadata": {},
   "outputs": [],
   "source": [
    "example = \"You can fail at what you don't want, so you might as well take a chance on doing what you love.\"\n",
    "stop_words = set(stopwords.words('english'))\n",
    "\n",
    "word_tokens = word_tokenize(example)"
   ]
  },
  {
   "cell_type": "code",
   "execution_count": 19,
   "metadata": {
    "scrolled": true
   },
   "outputs": [
    {
     "name": "stdout",
     "output_type": "stream",
     "text": [
      "['You', 'can', 'fail', 'at', 'what', 'you', 'do', \"n't\", 'want', ',', 'so', 'you', 'might', 'as', 'well', 'take', 'a', 'chance', 'on', 'doing', 'what', 'you', 'love', '.']\n",
      "['You', 'fail', \"n't\", 'want', ',', 'might', 'well', 'take', 'chance', 'love', '.']\n"
     ]
    }
   ],
   "source": [
    "word_tokenize(example)\n",
    "result = []\n",
    "\n",
    "for w in word_tokens :\n",
    "    if w not in stop_words :\n",
    "        result.append(w)\n",
    "\n",
    "print(word_tokens)\n",
    "print(result)"
   ]
  },
  {
   "cell_type": "markdown",
   "metadata": {},
   "source": [
    "불용어 제거 실습(한국어)\n"
   ]
  },
  {
   "cell_type": "code",
   "execution_count": 20,
   "metadata": {},
   "outputs": [],
   "source": [
    "#토큰화하고 또 버릴 게 있을 경우 사용함\n",
    "example = \"고기를 아무렇게나 구우려고 하면 안 돼. 고기라고 다 같은 게 아니거든. 예컨대 삼겹살을 구울 때는 중요한 게 있지...\"\n",
    "stop_words = \"아무거나 아무렇게나 어찌하든지 같다 비슷하다 예컨대 이럴정도로 하면 아니거든 같다 예컨대\" "
   ]
  },
  {
   "cell_type": "code",
   "execution_count": 21,
   "metadata": {},
   "outputs": [
    {
     "name": "stdout",
     "output_type": "stream",
     "text": [
      "['고기를', '아무렇게나', '구우려고', '하면', '안', '돼', '.', '고기라고', '다', '같은', '게', '아니거든', '.', '예컨대', '삼겹살을', '구울', '때는', '중요한', '게', '있지', '...']\n",
      "['고기를', '구우려고', '안', '돼', '.', '고기라고', '다', '같은', '게', '.', '삼겹살을', '구울', '때는', '중요한', '게', '있지', '...']\n"
     ]
    }
   ],
   "source": [
    "stop_words = stop_words.split(' ')\n",
    "\n",
    "word_tokens = word_tokenize(example)\n",
    "result=[]\n",
    "\n",
    "for w in word_tokens :\n",
    "    if w not in stop_words :\n",
    "        result.append(w)\n",
    "\n",
    "print(word_tokens)\n",
    "print(result)"
   ]
  },
  {
   "cell_type": "code",
   "execution_count": 22,
   "metadata": {},
   "outputs": [
    {
     "data": {
      "text/plain": [
       "['1809890.txt',\n",
       " '1809891.txt',\n",
       " '1809892.txt',\n",
       " '1809893.txt',\n",
       " '1809894.txt',\n",
       " '1809895.txt',\n",
       " '1809896.txt',\n",
       " '1809897.txt',\n",
       " '1809898.txt',\n",
       " '1809899.txt']"
      ]
     },
     "execution_count": 22,
     "metadata": {},
     "output_type": "execute_result"
    }
   ],
   "source": [
    "from konlpy.corpus import kobill # kobill : konlpy에 내장된 법률 읽어오는 함수\n",
    "files_ko = kobill.fileids() # kobill에는 team POPANG (pokr.kr)에 의해 취합된 의회정보들이 존재\n",
    "files_ko #kobill에 담긴 문서 확인"
   ]
  },
  {
   "cell_type": "code",
   "execution_count": 23,
   "metadata": {},
   "outputs": [
    {
     "data": {
      "text/plain": [
       "'남녀고용평등과 일 ·가정 양립 지원에 관한 법률 \\n\\n일부개정법률안\\n\\n(정의화의원 대표발의 )\\n\\n 의 안\\n 번 호\\n\\n9893\\n\\n발의연월일 : 2010.  11.  12.  \\n\\n발  의  자 : 정의화․이명수․김을동 \\n\\n이사철․여상규․안규백\\n\\n황영철․박영아․김정훈\\n\\n김학송 의원(10인)\\n\\n제안이유 및 주요내용\\n\\n  현행법상 근로자가 육아휴직을 신청할 수 있는 경우는 만 6세 이하\\n\\n의 초등학교 취학 전 자녀를 양육하기 위한 경우임.\\n\\n  그런데 초등학교 1․2학년의 경우 이들을 돌보는데 세심한 주의가 \\n\\n필요함에도 불구하고 사회에서의 돌보는 제도가 부족하여 아동대상 \\n\\n성폭력 등 범죄에 노출되어있고, 이로 인해 여성 근로자들은 직장생활\\n\\n을 그만두고 있는 실정임. 또한 이는 여성 근로자들의 출산의욕을 저\\n\\n하시키는 계기가 되고 있음.\\n\\n  이에 자녀의 육아휴직 가능연령을 만 8세 이하로 상향조정하여 근\\n\\n로자의 일․가정 양립 지원을 도모하고 나아가 저출산 대책에도 기여\\n\\n하려는 것임(안 제19조제1항).\\n\\n- 1 -\\n\\n\\x0c법률  제        호\\n\\n남녀고용평등과 일 ·가정 양립 지원에 관한 법률 \\n\\n일부개정법률안\\n\\n남녀고용평등과 일·가정 양립 지원에 관한 법률 일부를 다음과 같이 \\n\\n개정한다.\\n\\n제19조제1항 본문 중 “만 6세 이하의 초등학교 취학 전”을 “만 8세 이\\n\\n하(취학 중인 경우에는 초등학교 2학년 이하를 말한다)의”로 한다.\\n\\n부      칙\\n\\n이 법은 공포한 날부터 시행한다.\\n\\n- 3 -\\n\\n\\x0c신 ·구조문대비표\\n\\n현      행\\n\\n개   정   안\\n\\n제19조(육아휴직) ① 사업주는 근\\n\\n제19조(육아휴직) ① -----------\\n\\n로자가 만 6세 이하의 초등학\\n\\n-------만 8세 이하(취학 중인 \\n\\n교 취학 전 자녀(입양한 자녀\\n\\n경우에는 초등학교 2학년 이하\\n\\n를 포함한다)를 양육하기 위하\\n\\n를 말한다)의-----------------\\n\\n여 휴직(이하 “육아휴직”이라 \\n\\n----------------------------\\n\\n한다)을 신청하는 경우에 이를 \\n\\n----------------------------\\n\\n허용하여야 한다. 다만, 대통령\\n\\n----------------------------\\n\\n령으로 정하는 경우에는 그러\\n\\n------------------. ---------\\n\\n하지 아니하다.\\n\\n----------------------------\\n\\n  ②  ∼ ⑤ (생  략)\\n\\n  ② ∼ ⑤ (현행과 같음)\\n\\n---------------.\\n\\n- 5 -\\n\\n\\x0c남녀고용평등과 일·가정 양립 지원에 관한 법률 일부개정법률안 \\n\\n등 비용추계서 미첨부사유서\\n\\n1.  재정수반요인\\n\\n개정안에서 ｢국가공무원법｣  제71조제2항제4호 중 국가공무원의 육아\\n\\n휴직 가능 자녀의 연령을 만6세 이하에서 만8세 이하로 하고, ｢지방공\\n\\n무원법｣ 제63조제2항제4호 중 지방공무원의 육아휴직 가능 자녀의 연\\n\\n령을 만6세 이하에서 만8세 이하로 하고, ｢교육공무원법｣ 제44조제1항\\n\\n제7조 중 교육공무원의 육아휴직 가능 자녀의 연령을 만6세 이하에서 \\n\\n만8세 이하로 하고, ｢남녀고용평등과 일․가정 양립지원에 관한 법률｣ \\n\\n제19조제1항 중 근로자 육아휴직 가능 자녀연령을 만6세 이하에서 만\\n\\n8세 이하로 조정함에 따라 추가 재정소요가 예상됨.\\n\\n2.  미첨부  근거  규정\\n｢의안의 비용추계에 관한 규칙｣ 제3조제1항 단서 중 제1호(예상되는 비용이 연평균  10억원 미만\\n이거나  한시적인  경비로서  총  30억원  미만인  경우)에  해당함.\\n\\n3.  미첨부  사유\\n\\n개정안에서 국가․지방․교육공무원 및 근로자가 육아휴직을 신청할 \\n\\n수 있는 자녀의 연령을 만6세 이하에서 만8세 이하로 상향조정함에 \\n\\n- 7 -\\n\\n\\x0c- 8 -\\n\\n따라 추가 재정소요가 예상된다. 동 법률 개정안이 2011년에 시행된다\\n\\n고 가정한 경우, 2010년 현재 자녀의 연령이 7세이고 육아휴직을 신청\\n\\n하지 않은 국가․지방․교육공무원 및 근로자가 대상이 된다.\\n\\n대상연령의 확대됨에 따라 육아휴직신청자의 수가 어느 정도 늘어날 \\n\\n것으로 예상된다. 이 경우 발생하는 비용은 현행법에 따르면 월50만원\\n\\n이나 현재 관련법령 개정이 추진되고 있으며, 이에 따라 2011년에는 \\n\\n육아휴직자가 지급받는 월급여액에 비례하여 육아휴직급여가 지급되\\n\\n기 때문에 법령개정을 가정하고 추계한다. 이러한 경우 육아휴직급여\\n\\n액은 육아휴직자가 지급받는 월급여의 40%에 해당한다. 육아휴직자가 \\n\\n발생한 경우 발생하는 비용은 대체인력 고용인건비와 육아휴직자가 \\n\\n받는 월급여액의 40%이다. 이와 대비하여 육아휴직자에게 지급하던 \\n\\n임금은 더 이상 발생하지 않는다. 따라서 실제 발생하는 순비용은 육\\n\\n아휴직자에게 지급하던 월 급여액과 연령 확대에 따라 발생하는 비용\\n\\n인 육아휴직자가 받던 월급여액의 40%와 대체인력 고용인건비의 차\\n\\n액인데 이 값이 0보다 크면 추가 재정소요는 발생하지 않는다고 볼 \\n\\n수 있다.\\n\\n추가비용 발생여부를 정확하게 알아보기 위하여 비용에 대한 수리모\\n\\n델을 만들고 이에 따라 비용발생 여부를 알아보기로 하자. 모델에 사\\n\\n용되는 변수를 다음과 같이 정의한다.\\n\\n발생비용 : N×p×X + N×육아휴직급여액 - N×P\\n\\n\\x0cN\\n\\nP\\n\\np\\n\\nX\\n\\n: 육아휴직대상자의 수\\n\\n: 육아휴직대상자의 월급여액\\n\\n: 육아휴직자가 발생한 경우 대체 고용할 확률\\n\\n: 대체 고용한 인력에게 지급하는 월급여액\\n\\n위의 수식에서 육아휴직급여액은 육아휴직자 월급여액의 40%까지 지\\n\\n급할 예정이므로 육아휴직급여액은 P×40%이다. 육아휴직자가 발생한 \\n\\n경우 대체 고용할 확률 p는 고용노동부의 육아휴직 관련 자료를 이용\\n\\n한다. 고용노동부에 따르면 2011년의 경우 육아휴직급여 대상자는 \\n\\n40,923명이며, 육아휴직에 따른 대체인력 고용 예상인원은 2,836명이\\n\\n다. 2007년부터 2011년까지의 현황을 정리하면 다음의 [표]와 같다.\\n\\n[표]  육아휴직급여  수급자의  수  및  대체인력  고용  현황:  2007~2011년\\n\\n(단위:  명,  % )\\n\\n2007\\n\\n2008\\n\\n2009\\n\\n2010\\n\\n2011\\n\\n평균\\n\\n육아휴직급여  수급자(A)\\n\\n21,185\\n\\n29,145\\n\\n35,400\\n\\n41,291\\n\\n43,899\\n\\n34,184\\n\\n대체인력  채용(B)\\n\\n796\\n\\n1,658\\n\\n1,957\\n\\n2,396\\n\\n2,836\\n\\n1,929\\n\\n비  율(B/A)\\n\\n3.8\\n\\n5.7\\n\\n5.5\\n\\n5.8\\n\\n6.5\\n\\n5.6\\n\\n자료: 고용노동부  자료를  바탕으로  국회예산정책처  작성\\n\\n위의 [표]의 자료에 따라 육아휴직자가 발생한 경우 대체 고용할 확률 \\n\\np의 값은 5.6%라고 가정한다. 그리고 비용이 발생한다고 가정하여 위\\n\\n의 수식을 다시 작성하면 다음의 수식과 같다.\\n\\n- 9 -\\n\\n\\x0c- 10 -\\n\\nN×p×X + N×육아휴직급여액 - N×P > 0\\n\\nN×5.6%×X + N×P×40% - N×P > 0\\n\\n0.056×X > 0.6P\\n\\nX > 10.7×P\\n\\n(1)\\n\\n(2)\\n\\n(3)\\n\\n(5)\\n\\n위의 수식에 육아휴직자가 받는 월 급여액을 대입하여 대체고용인력\\n\\n자에게 지급하는 월 급여액을 추정하여 보자. 육아휴직자가 월 200만\\n\\n원을 받는다고 가정하면, 대체고용인력자에게 육아휴직자가 받는 월 \\n\\n급여액의 10.7배에 달하는 월 21,428,571원 이상을 지급해야 추가 비용\\n\\n이 발생한다. 대체고용인력자에게 육아휴직자보다 더 많은 월급여액을 \\n\\n주지는 않을 것이고 그리고 10여배 이상 월급을 주지도 않을 것이기 \\n\\n때문에 추가 비용이 발생한다고 보기 힘들다. 위의 수식에서 대체인력 \\n\\n고용확률 p를 20%로 가정하더라도(이 경우 X > 3×P) 200만원 받는 \\n\\n육아휴직자 대체인력에게 월 600만원 이상을 지급해야 추가 비용이 \\n\\n발생한다.\\n\\n행정안전부의 통계자료(행정안전부 통계연감)에서는 지방공무원의 육\\n\\n아휴직 현황자료를 보여주고 있다. 여기서 육아휴직자가 발생한 경우 \\n\\n대체인력을 주로 임용대기자 또는 일용직을 활용하는 것으로 보인다. \\n\\n따라서 공무원의 경우에도 [표]에서 보여주는 일반기업체의 대체인력 \\n\\n고용확률과 차이는 크지 않을 것으로 보인다.\\n\\n이상의 논의를 바탕으로 육아휴직기간을 만6에서 만8세로 연장하더라\\n\\n\\x0c도 법률 개정에 따른 추가 비용은 발생하지 않을 것으로 예상된다.\\n\\n4.  작성자\\n\\n국회예산정책처 법안비용추계1팀\\n\\n팀      장   정 문 종\\n\\n예산분석관   김 태 완\\n\\n(02-788-4649, tanzania@assembly.go.kr)\\n\\n- 11 -\\n\\n\\x0c'"
      ]
     },
     "execution_count": 23,
     "metadata": {},
     "output_type": "execute_result"
    }
   ],
   "source": [
    "doc_ko = kobill.open('1809893.txt').read()\n",
    "doc_ko"
   ]
  },
  {
   "cell_type": "code",
   "execution_count": 24,
   "metadata": {},
   "outputs": [
    {
     "data": {
      "text/plain": [
       "['남녀',\n",
       " '고용',\n",
       " '평등',\n",
       " '일',\n",
       " '가정',\n",
       " '양립',\n",
       " '지원',\n",
       " '관',\n",
       " '법률',\n",
       " '일부',\n",
       " '개정',\n",
       " '법률',\n",
       " '안',\n",
       " '정의화',\n",
       " '의원',\n",
       " '대표',\n",
       " '발의',\n",
       " '의',\n",
       " '안',\n",
       " '번',\n",
       " '호',\n",
       " '발의',\n",
       " '연월일',\n",
       " '발',\n",
       " '의',\n",
       " '자',\n",
       " '정의화',\n",
       " '이명수',\n",
       " '김을동',\n",
       " '이사철',\n",
       " '여상규',\n",
       " '안규백',\n",
       " '황영철',\n",
       " '박영아',\n",
       " '김정훈',\n",
       " '김학송',\n",
       " '의원',\n",
       " '인',\n",
       " '제안',\n",
       " '이유',\n",
       " '및',\n",
       " '내용',\n",
       " '현행법',\n",
       " '근로자',\n",
       " '육아휴직',\n",
       " '신청',\n",
       " '수',\n",
       " '경우',\n",
       " '만',\n",
       " '세',\n",
       " '이하',\n",
       " '의',\n",
       " '초등학교',\n",
       " '취학',\n",
       " '전',\n",
       " '자녀',\n",
       " '양육',\n",
       " '위',\n",
       " '경우',\n",
       " '임',\n",
       " '초등학교',\n",
       " '학년',\n",
       " '경우',\n",
       " '이',\n",
       " '세심',\n",
       " '주의',\n",
       " '불구',\n",
       " '사회',\n",
       " '제도',\n",
       " '아동',\n",
       " '대상',\n",
       " '성폭력',\n",
       " '등',\n",
       " '범죄',\n",
       " '노출',\n",
       " '이로',\n",
       " '여성',\n",
       " '근로자',\n",
       " '직장',\n",
       " '생활',\n",
       " '실정',\n",
       " '임',\n",
       " '또한',\n",
       " '여성',\n",
       " '근로자',\n",
       " '출산',\n",
       " '의욕',\n",
       " '저',\n",
       " '계기',\n",
       " '이',\n",
       " '자녀',\n",
       " '육아휴직',\n",
       " '가능',\n",
       " '연령',\n",
       " '만',\n",
       " '세',\n",
       " '이하',\n",
       " '상향',\n",
       " '조정',\n",
       " '로자',\n",
       " '일',\n",
       " '가정',\n",
       " '양립',\n",
       " '지원',\n",
       " '도모',\n",
       " '저출산',\n",
       " '대책',\n",
       " '기여',\n",
       " '것임',\n",
       " '안',\n",
       " '제',\n",
       " '항',\n",
       " '법률',\n",
       " '제',\n",
       " '호',\n",
       " '남녀',\n",
       " '고용',\n",
       " '평등',\n",
       " '일',\n",
       " '가정',\n",
       " '양립',\n",
       " '지원',\n",
       " '관',\n",
       " '법률',\n",
       " '일부',\n",
       " '개정',\n",
       " '법률',\n",
       " '안',\n",
       " '남녀',\n",
       " '고용',\n",
       " '평등',\n",
       " '일',\n",
       " '가정',\n",
       " '양립',\n",
       " '지원',\n",
       " '관',\n",
       " '법률',\n",
       " '일부',\n",
       " '다음',\n",
       " '개정',\n",
       " '제',\n",
       " '항',\n",
       " '본문',\n",
       " '중',\n",
       " '만',\n",
       " '세',\n",
       " '이하',\n",
       " '초등학교',\n",
       " '취학',\n",
       " '전',\n",
       " '만',\n",
       " '세',\n",
       " '이',\n",
       " '취학',\n",
       " '중인',\n",
       " '경우',\n",
       " '초등학교',\n",
       " '학년',\n",
       " '이하',\n",
       " '말',\n",
       " '의',\n",
       " '로',\n",
       " '부',\n",
       " '칙',\n",
       " '이',\n",
       " '법',\n",
       " '공포',\n",
       " '날',\n",
       " '시행',\n",
       " '신',\n",
       " '구조',\n",
       " '문대비',\n",
       " '표',\n",
       " '현',\n",
       " '행',\n",
       " '개',\n",
       " '정',\n",
       " '안',\n",
       " '제',\n",
       " '육아휴직',\n",
       " '업주',\n",
       " '제',\n",
       " '육아휴직',\n",
       " '로자',\n",
       " '만',\n",
       " '세',\n",
       " '이하',\n",
       " '초등학',\n",
       " '만',\n",
       " '세',\n",
       " '이하',\n",
       " '취학',\n",
       " '중인',\n",
       " '교',\n",
       " '취학',\n",
       " '전',\n",
       " '자녀',\n",
       " '입양',\n",
       " '자녀',\n",
       " '경우',\n",
       " '초등학교',\n",
       " '학년',\n",
       " '이하',\n",
       " '를',\n",
       " '포함',\n",
       " '를',\n",
       " '양육',\n",
       " '위',\n",
       " '를',\n",
       " '말',\n",
       " '의',\n",
       " '여',\n",
       " '휴직',\n",
       " '이하',\n",
       " '육아휴직',\n",
       " '신청',\n",
       " '경우',\n",
       " '허용',\n",
       " '다만',\n",
       " '대통령',\n",
       " '령',\n",
       " '정',\n",
       " '경우',\n",
       " '생',\n",
       " '략',\n",
       " '현행',\n",
       " '남녀',\n",
       " '고용',\n",
       " '평등',\n",
       " '일',\n",
       " '가정',\n",
       " '양립',\n",
       " '지원',\n",
       " '관',\n",
       " '법률',\n",
       " '일부',\n",
       " '개정',\n",
       " '법률',\n",
       " '안',\n",
       " '등',\n",
       " '비용',\n",
       " '추계',\n",
       " '첨부',\n",
       " '사유',\n",
       " '재정',\n",
       " '요인',\n",
       " '개정안',\n",
       " '국가공무원',\n",
       " '법',\n",
       " '제',\n",
       " '항제',\n",
       " '호',\n",
       " '중',\n",
       " '국가공무원',\n",
       " '육아',\n",
       " '휴직',\n",
       " '가능',\n",
       " '자녀',\n",
       " '연령',\n",
       " '만',\n",
       " '세',\n",
       " '이하',\n",
       " '만',\n",
       " '세',\n",
       " '이하',\n",
       " '방공',\n",
       " '무',\n",
       " '법',\n",
       " '제',\n",
       " '항제',\n",
       " '호',\n",
       " '중',\n",
       " '지방',\n",
       " '공무원',\n",
       " '육아휴직',\n",
       " '가능',\n",
       " '자녀',\n",
       " '연',\n",
       " '령',\n",
       " '만',\n",
       " '세',\n",
       " '이하',\n",
       " '만',\n",
       " '세',\n",
       " '이하',\n",
       " '교육',\n",
       " '공무원',\n",
       " '법',\n",
       " '제',\n",
       " '항',\n",
       " '제',\n",
       " '중',\n",
       " '교육',\n",
       " '공무원',\n",
       " '육아휴직',\n",
       " '가능',\n",
       " '자녀',\n",
       " '연령',\n",
       " '만',\n",
       " '세',\n",
       " '이하',\n",
       " '만',\n",
       " '세',\n",
       " '이하',\n",
       " '남녀',\n",
       " '고용',\n",
       " '평등',\n",
       " '일',\n",
       " '가정',\n",
       " '양립',\n",
       " '지원',\n",
       " '관',\n",
       " '법률',\n",
       " '제',\n",
       " '항',\n",
       " '중',\n",
       " '근로자',\n",
       " '육아휴직',\n",
       " '가능',\n",
       " '자녀',\n",
       " '연령',\n",
       " '만',\n",
       " '세',\n",
       " '이하',\n",
       " '만',\n",
       " '세',\n",
       " '이하',\n",
       " '조정',\n",
       " '함',\n",
       " '추가',\n",
       " '재정',\n",
       " '요가',\n",
       " '예상',\n",
       " '첨부',\n",
       " '근거',\n",
       " '규정',\n",
       " '의안',\n",
       " '비용',\n",
       " '추계',\n",
       " '관',\n",
       " '규칙',\n",
       " '제',\n",
       " '항',\n",
       " '단서',\n",
       " '중',\n",
       " '제',\n",
       " '호',\n",
       " '예상',\n",
       " '비용',\n",
       " '평균',\n",
       " '미만',\n",
       " '거나',\n",
       " '한시',\n",
       " '경비',\n",
       " '로서',\n",
       " '총',\n",
       " '미만',\n",
       " '경우',\n",
       " '해당',\n",
       " '함',\n",
       " '첨부',\n",
       " '사유',\n",
       " '개정안',\n",
       " '국가',\n",
       " '지방',\n",
       " '교육',\n",
       " '공무원',\n",
       " '및',\n",
       " '근로자',\n",
       " '육아휴직',\n",
       " '신청',\n",
       " '수',\n",
       " '자녀',\n",
       " '연령',\n",
       " '만',\n",
       " '세',\n",
       " '이하',\n",
       " '만',\n",
       " '세',\n",
       " '이하',\n",
       " '상향',\n",
       " '조정',\n",
       " '함',\n",
       " '추가',\n",
       " '재정',\n",
       " '요가',\n",
       " '예상',\n",
       " '법률',\n",
       " '개정안',\n",
       " '시행',\n",
       " '고',\n",
       " '가정',\n",
       " '경우',\n",
       " '현재',\n",
       " '자녀',\n",
       " '연령',\n",
       " '세이',\n",
       " '육아휴직',\n",
       " '신청',\n",
       " '국가',\n",
       " '지방',\n",
       " '교육',\n",
       " '공무원',\n",
       " '및',\n",
       " '근로자',\n",
       " '대상',\n",
       " '대상',\n",
       " '연령',\n",
       " '확대',\n",
       " '육아휴직',\n",
       " '신청',\n",
       " '수가',\n",
       " '정도',\n",
       " '것',\n",
       " '예상',\n",
       " '이',\n",
       " '경우',\n",
       " '발생',\n",
       " '비용',\n",
       " '현행법',\n",
       " '월',\n",
       " '이나',\n",
       " '현재',\n",
       " '관련',\n",
       " '법령',\n",
       " '개정',\n",
       " '추진',\n",
       " '이',\n",
       " '육아휴직',\n",
       " '지급',\n",
       " '월급',\n",
       " '액',\n",
       " '비례',\n",
       " '육아휴직',\n",
       " '여가',\n",
       " '지급',\n",
       " '기',\n",
       " '때문',\n",
       " '법령',\n",
       " '개정',\n",
       " '가정',\n",
       " '추계',\n",
       " '경우',\n",
       " '육아휴직',\n",
       " '급여',\n",
       " '액',\n",
       " '육아휴직',\n",
       " '지급',\n",
       " '월급',\n",
       " '여의',\n",
       " '해당',\n",
       " '육아휴직',\n",
       " '발생',\n",
       " '경우',\n",
       " '발생',\n",
       " '비용',\n",
       " '체인',\n",
       " '고용',\n",
       " '인건비',\n",
       " '육아휴직',\n",
       " '월급',\n",
       " '액',\n",
       " '이',\n",
       " '대비',\n",
       " '육아휴직',\n",
       " '지급',\n",
       " '임금',\n",
       " '더',\n",
       " '이상',\n",
       " '발생',\n",
       " '따라서',\n",
       " '실제',\n",
       " '발생',\n",
       " '비용',\n",
       " '육',\n",
       " '휴직',\n",
       " '지급',\n",
       " '월',\n",
       " '급여',\n",
       " '액',\n",
       " '연령',\n",
       " '확대',\n",
       " '발생',\n",
       " '비용',\n",
       " '인',\n",
       " '육아휴직',\n",
       " '월급',\n",
       " '액',\n",
       " '체인',\n",
       " '고용',\n",
       " '인건비',\n",
       " '차',\n",
       " '액',\n",
       " '이',\n",
       " '값',\n",
       " '추가',\n",
       " '재정',\n",
       " '소요',\n",
       " '발생',\n",
       " '볼',\n",
       " '수',\n",
       " '추가',\n",
       " '비용',\n",
       " '발생',\n",
       " '여부',\n",
       " '위',\n",
       " '비용',\n",
       " '대한',\n",
       " '리모',\n",
       " '델',\n",
       " '이',\n",
       " '비용',\n",
       " '발생',\n",
       " '여부',\n",
       " '하자',\n",
       " '모델',\n",
       " '사',\n",
       " '용',\n",
       " '변수',\n",
       " '다음',\n",
       " '정의',\n",
       " '발생',\n",
       " '비용',\n",
       " '육아휴직',\n",
       " '액',\n",
       " '육아휴직',\n",
       " '대상자',\n",
       " '수',\n",
       " '육아휴직',\n",
       " '대상자',\n",
       " '월급',\n",
       " '액',\n",
       " '육아휴직',\n",
       " '발생',\n",
       " '경우',\n",
       " '대체',\n",
       " '고용',\n",
       " '확률',\n",
       " '대체',\n",
       " '고용',\n",
       " '인력',\n",
       " '지급',\n",
       " '월급',\n",
       " '액',\n",
       " '위',\n",
       " '수식',\n",
       " '육아휴직',\n",
       " '액',\n",
       " '육아휴직',\n",
       " '월급',\n",
       " '액',\n",
       " '예정',\n",
       " '므',\n",
       " '육아휴직',\n",
       " '액',\n",
       " '육아휴직',\n",
       " '발생',\n",
       " '경우',\n",
       " '대체',\n",
       " '고용',\n",
       " '확률',\n",
       " '고용노동부',\n",
       " '육아휴직',\n",
       " '관련',\n",
       " '자료',\n",
       " '이용',\n",
       " '고용노동부',\n",
       " '경우',\n",
       " '육아휴직',\n",
       " '급여',\n",
       " '대상자',\n",
       " '명',\n",
       " '육아휴직',\n",
       " '체인',\n",
       " '고용',\n",
       " '상인',\n",
       " '명',\n",
       " '현황',\n",
       " '정리',\n",
       " '다음',\n",
       " '표',\n",
       " '표',\n",
       " '육아휴직',\n",
       " '급여',\n",
       " '수급',\n",
       " '수',\n",
       " '및',\n",
       " '체인',\n",
       " '고용',\n",
       " '현황',\n",
       " '단위',\n",
       " '명',\n",
       " '평균',\n",
       " '육아휴직',\n",
       " '급여',\n",
       " '수급',\n",
       " '체인',\n",
       " '채용',\n",
       " '비',\n",
       " '율',\n",
       " '자료',\n",
       " '고용노동부',\n",
       " '자료',\n",
       " '바탕',\n",
       " '국회예산정책처',\n",
       " '작성',\n",
       " '위',\n",
       " '표',\n",
       " '의',\n",
       " '자료',\n",
       " '육아휴직',\n",
       " '발생',\n",
       " '경우',\n",
       " '대체',\n",
       " '고용',\n",
       " '확률',\n",
       " '의',\n",
       " '값',\n",
       " '가정',\n",
       " '비용',\n",
       " '발생',\n",
       " '가정',\n",
       " '위',\n",
       " '의',\n",
       " '수식',\n",
       " '다시',\n",
       " '작성',\n",
       " '다음',\n",
       " '수식',\n",
       " '육아휴직',\n",
       " '액',\n",
       " '위',\n",
       " '수식',\n",
       " '육아휴직',\n",
       " '월',\n",
       " '급여',\n",
       " '액',\n",
       " '대입',\n",
       " '대체',\n",
       " '고용',\n",
       " '인력',\n",
       " '자',\n",
       " '지급',\n",
       " '월',\n",
       " '급여',\n",
       " '액',\n",
       " '추정',\n",
       " '육아휴직',\n",
       " '월',\n",
       " '원',\n",
       " '가정',\n",
       " '대체',\n",
       " '고용',\n",
       " '인력',\n",
       " '육아휴직',\n",
       " '월',\n",
       " '급여',\n",
       " '액',\n",
       " '배',\n",
       " '달',\n",
       " '월',\n",
       " '이상',\n",
       " '지급',\n",
       " '추가',\n",
       " '비용',\n",
       " '이',\n",
       " '발생',\n",
       " '대체',\n",
       " '고용',\n",
       " '인력',\n",
       " '육아휴직',\n",
       " '더',\n",
       " '월급',\n",
       " '액',\n",
       " '주지',\n",
       " '것',\n",
       " '배',\n",
       " '이상',\n",
       " '월급',\n",
       " '주지',\n",
       " '것',\n",
       " '이기',\n",
       " '때문',\n",
       " '추가',\n",
       " '비용',\n",
       " '발생',\n",
       " '보기',\n",
       " '위',\n",
       " '수식',\n",
       " '체인',\n",
       " '고용',\n",
       " '확률',\n",
       " '를',\n",
       " '로',\n",
       " '가정',\n",
       " '이',\n",
       " '경우',\n",
       " '육아휴직',\n",
       " '체인',\n",
       " '월',\n",
       " '이상',\n",
       " '지급',\n",
       " '추가',\n",
       " '비용',\n",
       " '발생',\n",
       " '행정안전부',\n",
       " '통계',\n",
       " '자료',\n",
       " '행정안전부',\n",
       " '통계',\n",
       " '연감',\n",
       " '지방',\n",
       " '공무원',\n",
       " '육',\n",
       " '휴직',\n",
       " '현황',\n",
       " '자료',\n",
       " '여기',\n",
       " '육아휴직',\n",
       " '발생',\n",
       " '경우',\n",
       " '체인',\n",
       " '주로',\n",
       " '임용',\n",
       " '기자',\n",
       " '일용직',\n",
       " '활용',\n",
       " '것',\n",
       " '따라서',\n",
       " '공무원',\n",
       " '경우',\n",
       " '표',\n",
       " '기업체',\n",
       " '체인',\n",
       " '고용',\n",
       " '확률',\n",
       " '것',\n",
       " '이상',\n",
       " '논의',\n",
       " '바탕',\n",
       " '육아휴직',\n",
       " '기간',\n",
       " '만',\n",
       " '만',\n",
       " '세로',\n",
       " '연장',\n",
       " '도',\n",
       " '법률',\n",
       " '개정',\n",
       " '추가',\n",
       " '비용',\n",
       " '발생',\n",
       " '것',\n",
       " '예상',\n",
       " '작성자',\n",
       " '국회예산정책처',\n",
       " '법안',\n",
       " '비용',\n",
       " '추계',\n",
       " '팀',\n",
       " '팀',\n",
       " '장',\n",
       " '정',\n",
       " '문',\n",
       " '종',\n",
       " '예산',\n",
       " '분석관',\n",
       " '김',\n",
       " '태',\n",
       " '완']"
      ]
     },
     "execution_count": 24,
     "metadata": {},
     "output_type": "execute_result"
    }
   ],
   "source": [
    "okt = Okt()\n",
    "\n",
    "nouns = okt.nouns(doc_ko)\n",
    "nouns"
   ]
  },
  {
   "cell_type": "code",
   "execution_count": 34,
   "metadata": {},
   "outputs": [
    {
     "name": "stdout",
     "output_type": "stream",
     "text": [
      "770\n",
      "258\n"
     ]
    },
    {
     "data": {
      "text/plain": [
       "FreqDist({'육아휴직': 41, '경우': 19, '발생': 19, '고용': 18, '만': 18, '이하': 18, '비용': 17, '액': 17, '세': 16, '가정': 12, ...})"
      ]
     },
     "execution_count": 34,
     "metadata": {},
     "output_type": "execute_result"
    }
   ],
   "source": [
    "ko = nltk.Text(nouns,name='의안 제1809893호') # 단어 리스트 탐색\n",
    "print(len(ko.tokens)) #단어 개수\n",
    "print(len(set(ko.tokens))) # 고유 단어 개수\n",
    "ko.vocab() # 단어별 빈도"
   ]
  },
  {
   "cell_type": "code",
   "execution_count": 35,
   "metadata": {},
   "outputs": [
    {
     "data": {
      "image/png": "[encoded data removed]",
      "text/plain": [
       "<Figure size 864x432 with 1 Axes>"
      ]
     },
     "metadata": {
      "needs_background": "light"
     },
     "output_type": "display_data"
    }
   ],
   "source": [
    "import matplotlib.pyplot as plt\n",
    "%matplotlib inline\n",
    "\n",
    "import platform\n",
    "path = 'c:/Windows/Fonts/malgun.ttf'\n",
    "from matplotlib import font_manager, rc\n",
    "\n",
    "font_name = font_manager.FontProperties(fname=path).get_name()\n",
    "rc('font', family = font_name)\n",
    "\n",
    "plt.figure(figsize = (12,6))\n",
    "ko.plot(50)\n",
    "plt.show()"
   ]
  },
  {
   "cell_type": "code",
   "execution_count": 36,
   "metadata": {},
   "outputs": [],
   "source": [
    "#wordcloud로 해보기\n",
    "from wordcloud import WordCloud, STOPWORDS\n",
    "\n",
    "stopwords = ['정', '제', '및', '안', '자', '과', '수', '의', '이', '발', '위', '월', '중','것','호','항','표','전','법','률']\n",
    "ko = [each_word for each_word in ko if each_word not in stopwords]"
   ]
  },
  {
   "cell_type": "code",
   "execution_count": 37,
   "metadata": {},
   "outputs": [
    {
     "data": {
      "image/png": "[encoded data removed]",
      "text/plain": [
       "<Figure size 864x432 with 1 Axes>"
      ]
     },
     "metadata": {
      "needs_background": "light"
     },
     "output_type": "display_data"
    }
   ],
   "source": [
    "ko = nltk.Text(ko, name='의안 제1809893호' )\n",
    "plt.figure(figsize = (12,6))\n",
    "ko.plot(50)\n",
    "plt.show()"
   ]
  },
  {
   "cell_type": "code",
   "execution_count": 38,
   "metadata": {},
   "outputs": [],
   "source": [
    "data = ko.vocab().most_common(30) # 최빈도 단어 30개 사용"
   ]
  },
  {
   "cell_type": "code",
   "execution_count": 38,
   "metadata": {},
   "outputs": [
    {
     "data": {
      "image/png": "[encoded data removed]",
      "text/plain": [
       "<Figure size 864x432 with 1 Axes>"
      ]
     },
     "metadata": {
      "needs_background": "light"
     },
     "output_type": "display_data"
    }
   ],
   "source": [
    "wordcloud = WordCloud(font_path = 'c:/Windows/Fonts/malgun.ttf', background_color = 'white').generate_from_frequencies(dict(data))\n",
    "plt.figure(figsize=(12,6))\n",
    "plt.imshow(wordcloud)\n",
    "plt.axis(\"off\")\n",
    "plt.show()"
   ]
  },
  {
   "cell_type": "markdown",
   "metadata": {},
   "source": [
    "## 정규표현식"
   ]
  },
  {
   "cell_type": "markdown",
   "metadata": {},
   "source": [
    "https://wikidocs.net/21703"
   ]
  },
  {
   "cell_type": "markdown",
   "metadata": {},
   "source": [
    "https://regexper.com/ 정규표현식 도식화"
   ]
  },
  {
   "cell_type": "markdown",
   "metadata": {},
   "source": [
    "https://regexr.com/ 바로 확인"
   ]
  },
  {
   "cell_type": "markdown",
   "metadata": {},
   "source": [
    "#### . 기호 : 한 개의 임의의 문자를 나타냄(\\n 제외)\n",
    "- a.c -> akz, azc, avc, a5c, a!c는 모두 a.c 정규 표현식과 매치됨"
   ]
  },
  {
   "cell_type": "code",
   "execution_count": 39,
   "metadata": {},
   "outputs": [
    {
     "data": {
      "text/plain": [
       "<_sre.SRE_Match object; span=(0, 3), match='a3c'>"
      ]
     },
     "execution_count": 39,
     "metadata": {},
     "output_type": "execute_result"
    }
   ],
   "source": [
    "import re\n",
    "r = re.compile(\"a.c\")\n",
    "r.search(\"a3c\")"
   ]
  },
  {
   "cell_type": "code",
   "execution_count": 40,
   "metadata": {},
   "outputs": [],
   "source": [
    "r.search(\"ac\") # 아무런 결과도 출력되지 않는다."
   ]
  },
  {
   "cell_type": "markdown",
   "metadata": {},
   "source": [
    "#### ?기호 : ?앞의 문자가 존재하거나 존재하지 않는 경우\n",
    "- ab?c -> abc, ac 모두 매치 가능"
   ]
  },
  {
   "cell_type": "code",
   "execution_count": 41,
   "metadata": {},
   "outputs": [],
   "source": [
    "r = re.compile('ab?c')\n",
    "r.search('abbc') # 아무런 결과도 출력되지 않는다."
   ]
  },
  {
   "cell_type": "code",
   "execution_count": 42,
   "metadata": {},
   "outputs": [
    {
     "data": {
      "text/plain": [
       "<_sre.SRE_Match object; span=(0, 2), match='ac'>"
      ]
     },
     "execution_count": 42,
     "metadata": {},
     "output_type": "execute_result"
    }
   ],
   "source": [
    "r.search('ac')"
   ]
  },
  {
   "cell_type": "code",
   "execution_count": 43,
   "metadata": {},
   "outputs": [
    {
     "data": {
      "text/plain": [
       "<_sre.SRE_Match object; span=(0, 3), match='abc'>"
      ]
     },
     "execution_count": 43,
     "metadata": {},
     "output_type": "execute_result"
    }
   ],
   "source": [
    "r.search('abc')"
   ]
  },
  {
   "cell_type": "markdown",
   "metadata": {},
   "source": [
    "#### *기호 : *앞의 문자가 0개 이상인 경우\n",
    "- ab*c -> abc, ac, abbbc,abbbbbbbc 모두 매치 가능, b의 개수가 무수히 많아도 가능"
   ]
  },
  {
   "cell_type": "code",
   "execution_count": 44,
   "metadata": {},
   "outputs": [
    {
     "data": {
      "text/plain": [
       "<_sre.SRE_Match object; span=(0, 2), match='ac'>"
      ]
     },
     "execution_count": 44,
     "metadata": {},
     "output_type": "execute_result"
    }
   ],
   "source": [
    "r = re.compile('ab*c')\n",
    "r.search('ac')"
   ]
  },
  {
   "cell_type": "code",
   "execution_count": 45,
   "metadata": {},
   "outputs": [
    {
     "data": {
      "text/plain": [
       "<_sre.SRE_Match object; span=(0, 3), match='abc'>"
      ]
     },
     "execution_count": 45,
     "metadata": {},
     "output_type": "execute_result"
    }
   ],
   "source": [
    "r.search('abc')"
   ]
  },
  {
   "cell_type": "code",
   "execution_count": 46,
   "metadata": {},
   "outputs": [
    {
     "data": {
      "text/plain": [
       "<_sre.SRE_Match object; span=(0, 14), match='abbbbbbbbbbbbc'>"
      ]
     },
     "execution_count": 46,
     "metadata": {},
     "output_type": "execute_result"
    }
   ],
   "source": [
    "r.search('abbbbbbbbbbbbc')"
   ]
  },
  {
   "cell_type": "markdown",
   "metadata": {},
   "source": [
    "#### +기호 : +앞의 문자가 1개 이상인 경우\n",
    "- ab+c -> abc, abbbc 매치, ac는 매치되지 않음. a{1,}과 동일한 의미"
   ]
  },
  {
   "cell_type": "code",
   "execution_count": 47,
   "metadata": {},
   "outputs": [],
   "source": [
    "r = re.compile('ab+c')\n",
    "r.search('ac')"
   ]
  },
  {
   "cell_type": "code",
   "execution_count": 48,
   "metadata": {
    "scrolled": true
   },
   "outputs": [
    {
     "data": {
      "text/plain": [
       "<_sre.SRE_Match object; span=(0, 3), match='abc'>"
      ]
     },
     "execution_count": 48,
     "metadata": {},
     "output_type": "execute_result"
    }
   ],
   "source": [
    "r.search('abc')"
   ]
  },
  {
   "cell_type": "code",
   "execution_count": 49,
   "metadata": {},
   "outputs": [
    {
     "data": {
      "text/plain": [
       "<_sre.SRE_Match object; span=(0, 7), match='abbbbbc'>"
      ]
     },
     "execution_count": 49,
     "metadata": {},
     "output_type": "execute_result"
    }
   ],
   "source": [
    "r.search('abbbbbc')"
   ]
  },
  {
   "cell_type": "markdown",
   "metadata": {},
   "source": [
    "#### ^기호 : ^로 시작되는 글자를 지정\n",
    "- ^a -> a로 시작하는 문자열만 매치됨"
   ]
  },
  {
   "cell_type": "code",
   "execution_count": 50,
   "metadata": {},
   "outputs": [
    {
     "data": {
      "text/plain": [
       "<_sre.SRE_Match object; span=(0, 1), match='a'>"
      ]
     },
     "execution_count": 50,
     "metadata": {},
     "output_type": "execute_result"
    }
   ],
   "source": [
    "r = re.compile('^a')\n",
    "r.search('abcdefg')"
   ]
  },
  {
   "cell_type": "code",
   "execution_count": 51,
   "metadata": {},
   "outputs": [],
   "source": [
    "r.search('bce')"
   ]
  },
  {
   "cell_type": "markdown",
   "metadata": {},
   "source": [
    "#### {숫자} 기호 : 해당 문자를 숫자만큼 반복한 것을 나타냄\n",
    "- ab{2}c -> abbc에 매치"
   ]
  },
  {
   "cell_type": "code",
   "execution_count": 52,
   "metadata": {},
   "outputs": [],
   "source": [
    "r = re.compile(\"ab{2}c\")\n",
    "r.search('abc')"
   ]
  },
  {
   "cell_type": "code",
   "execution_count": 53,
   "metadata": {},
   "outputs": [
    {
     "data": {
      "text/plain": [
       "<_sre.SRE_Match object; span=(0, 4), match='abbc'>"
      ]
     },
     "execution_count": 53,
     "metadata": {},
     "output_type": "execute_result"
    }
   ],
   "source": [
    "r.search('abbc')"
   ]
  },
  {
   "cell_type": "code",
   "execution_count": 54,
   "metadata": {},
   "outputs": [],
   "source": [
    "r.search('abbbc')"
   ]
  },
  {
   "cell_type": "markdown",
   "metadata": {},
   "source": [
    "#### {숫자1, 숫자2} 기호 : 해당 문자를 숫자1 이상, 숫자2 이하만큼 반복함\n",
    "- ab{2,8}c -> a와 c 사이에 b가 2개 이상, 8개 이하인 문자열에 대해 매치"
   ]
  },
  {
   "cell_type": "code",
   "execution_count": 55,
   "metadata": {},
   "outputs": [],
   "source": [
    "r  = re.compile('ab{2,8}c')\n",
    "r.search('ac')"
   ]
  },
  {
   "cell_type": "code",
   "execution_count": 56,
   "metadata": {},
   "outputs": [],
   "source": [
    "r.search('abc')"
   ]
  },
  {
   "cell_type": "code",
   "execution_count": 57,
   "metadata": {},
   "outputs": [
    {
     "data": {
      "text/plain": [
       "<_sre.SRE_Match object; span=(0, 6), match='abbbbc'>"
      ]
     },
     "execution_count": 57,
     "metadata": {},
     "output_type": "execute_result"
    }
   ],
   "source": [
    "r.search('abbbbc')"
   ]
  },
  {
   "cell_type": "code",
   "execution_count": 58,
   "metadata": {},
   "outputs": [],
   "source": [
    "r.search('abbbbbbbbbc')"
   ]
  },
  {
   "cell_type": "markdown",
   "metadata": {},
   "source": [
    "#### {숫자,} 기호 : 해당 문자를 숫자만큼 반복함\n",
    "- ab{2,}c -> a와 c 사이에 b가 2개 이상인 문자열과 매치\n",
    "- b{0,} : b*와 동일한 의미\n",
    "- b{1,} : b+와 동일한 의미"
   ]
  },
  {
   "cell_type": "code",
   "execution_count": 59,
   "metadata": {},
   "outputs": [],
   "source": [
    "r = re.compile(\"a{2,}bc\")"
   ]
  },
  {
   "cell_type": "code",
   "execution_count": 60,
   "metadata": {},
   "outputs": [],
   "source": [
    "r.search('abc')"
   ]
  },
  {
   "cell_type": "code",
   "execution_count": 61,
   "metadata": {},
   "outputs": [
    {
     "data": {
      "text/plain": [
       "<_sre.SRE_Match object; span=(0, 4), match='aabc'>"
      ]
     },
     "execution_count": 61,
     "metadata": {},
     "output_type": "execute_result"
    }
   ],
   "source": [
    "r.search('aabc')"
   ]
  },
  {
   "cell_type": "code",
   "execution_count": 62,
   "metadata": {},
   "outputs": [
    {
     "data": {
      "text/plain": [
       "<_sre.SRE_Match object; span=(0, 7), match='aaaaabc'>"
      ]
     },
     "execution_count": 62,
     "metadata": {},
     "output_type": "execute_result"
    }
   ],
   "source": [
    "r.search('aaaaabc')"
   ]
  },
  {
   "cell_type": "markdown",
   "metadata": {},
   "source": [
    "#### [ ] 기호 : 문자들 중 한 개의 문자와 매치\n",
    "- [abc] : a or b or c가 들어가있는 문자열과 매치\n",
    "- [a-zA-Z] 알파벳 전부\n",
    "- [0-9] 숫자 전부"
   ]
  },
  {
   "cell_type": "code",
   "execution_count": 63,
   "metadata": {},
   "outputs": [],
   "source": [
    "r = re.compile('[abc]')\n",
    "r.search('zzz')"
   ]
  },
  {
   "cell_type": "code",
   "execution_count": 64,
   "metadata": {},
   "outputs": [
    {
     "data": {
      "text/plain": [
       "<_sre.SRE_Match object; span=(0, 1), match='a'>"
      ]
     },
     "execution_count": 64,
     "metadata": {},
     "output_type": "execute_result"
    }
   ],
   "source": [
    "r.search('aefg')"
   ]
  },
  {
   "cell_type": "code",
   "execution_count": 65,
   "metadata": {},
   "outputs": [
    {
     "data": {
      "text/plain": [
       "<_sre.SRE_Match object; span=(0, 1), match='b'>"
      ]
     },
     "execution_count": 65,
     "metadata": {},
     "output_type": "execute_result"
    }
   ],
   "source": [
    "r.search('baac')"
   ]
  },
  {
   "cell_type": "code",
   "execution_count": 66,
   "metadata": {},
   "outputs": [],
   "source": [
    "#소문자만 범위지정\n",
    "re.compile('[a-z]')\n",
    "r.search(\"ZZZ\")"
   ]
  },
  {
   "cell_type": "code",
   "execution_count": 67,
   "metadata": {},
   "outputs": [
    {
     "data": {
      "text/plain": [
       "<_sre.SRE_Match object; span=(0, 1), match='a'>"
      ]
     },
     "execution_count": 67,
     "metadata": {},
     "output_type": "execute_result"
    }
   ],
   "source": [
    "r.search('aBc')"
   ]
  },
  {
   "cell_type": "markdown",
   "metadata": {},
   "source": [
    "#### [ ^문자] 기호 : ^뒤에 붙은 문자들을 제외한 모든 문자를 매치하는 역할\n",
    "- [^abc] : a or b or c가 아닌, 다른 문자열이 들어가면 매치\n"
   ]
  },
  {
   "cell_type": "code",
   "execution_count": 68,
   "metadata": {},
   "outputs": [],
   "source": [
    "r = re.compile('[^abc]')\n",
    "r.search('ac')\n"
   ]
  },
  {
   "cell_type": "code",
   "execution_count": 69,
   "metadata": {},
   "outputs": [
    {
     "data": {
      "text/plain": [
       "<_sre.SRE_Match object; span=(0, 1), match='A'>"
      ]
     },
     "execution_count": 69,
     "metadata": {},
     "output_type": "execute_result"
    }
   ],
   "source": [
    "r.search('ABC')"
   ]
  },
  {
   "cell_type": "code",
   "execution_count": 70,
   "metadata": {},
   "outputs": [
    {
     "data": {
      "text/plain": [
       "<_sre.SRE_Match object; span=(1, 2), match='h'>"
      ]
     },
     "execution_count": 70,
     "metadata": {},
     "output_type": "execute_result"
    }
   ],
   "source": [
    "r.search('ah')"
   ]
  },
  {
   "cell_type": "markdown",
   "metadata": {},
   "source": [
    "- 역슬래쉬를 사용하여 자주 쓰이는 문자 규칙\n",
    "  - \\\\ : 역슬래쉬 문자 자체\n",
    "  - \\d : 모든 숫자 [0-9]\n",
    "  - \\D : 숫자를 제외한 모든 문자 [^0-9]\n",
    "  - \\s : 공백 [\\t\\n\\r\\f\\v]\n",
    "  - \\S : 공백을 제외한 문자. [^\\t\\n\\r\\f\\v]\n",
    "  - \\w : 문자 또는 숫자 [a-zA-Z0-9]\n",
    "  - \\W : 문자 또는 숫자가 아닌 문자 [^a-zA-Z0-9]"
   ]
  },
  {
   "cell_type": "markdown",
   "metadata": {},
   "source": [
    "### (1) re.match() 와 re.search()의 차이\n",
    "- search() :  정규 표현식 전체에 대해서 문자열이 매치하는지를 본다.\n",
    "- match() :  문자열의 첫 부분부터 정규 표현식과 매치하는지를 확인한다."
   ]
  },
  {
   "cell_type": "code",
   "execution_count": 71,
   "metadata": {},
   "outputs": [
    {
     "data": {
      "text/plain": [
       "<_sre.SRE_Match object; span=(3, 6), match='abc'>"
      ]
     },
     "execution_count": 71,
     "metadata": {},
     "output_type": "execute_result"
    }
   ],
   "source": [
    "r = re.compile(\"ab.\")\n",
    "r.search(\"kkkabc\")"
   ]
  },
  {
   "cell_type": "code",
   "execution_count": 72,
   "metadata": {},
   "outputs": [],
   "source": [
    "r.match(\"kkkabc\")"
   ]
  },
  {
   "cell_type": "code",
   "execution_count": 73,
   "metadata": {},
   "outputs": [
    {
     "data": {
      "text/plain": [
       "<_sre.SRE_Match object; span=(0, 3), match='abc'>"
      ]
     },
     "execution_count": 73,
     "metadata": {},
     "output_type": "execute_result"
    }
   ],
   "source": [
    "r.match(\"abckkk\")"
   ]
  },
  {
   "cell_type": "markdown",
   "metadata": {},
   "source": [
    "### (2) re.split()\n",
    "- 입력된 정규 표현식을 기준으로 문자열들을 분리하여 리스트로 리턴합니다."
   ]
  },
  {
   "cell_type": "code",
   "execution_count": 74,
   "metadata": {},
   "outputs": [
    {
     "data": {
      "text/plain": [
       "['사과', '딸기', '수박', '메론', '바나나']"
      ]
     },
     "execution_count": 74,
     "metadata": {},
     "output_type": "execute_result"
    }
   ],
   "source": [
    "text = \"사과 딸기 수박 메론 바나나\"\n",
    "re.split(\" \", text)"
   ]
  },
  {
   "cell_type": "code",
   "execution_count": 75,
   "metadata": {},
   "outputs": [
    {
     "data": {
      "text/plain": [
       "['사과', '딸기', '수박', '메론', '바나나']"
      ]
     },
     "execution_count": 75,
     "metadata": {},
     "output_type": "execute_result"
    }
   ],
   "source": [
    "text=\"사과'딸기'수박'메론'바나나\"\n",
    "re.split(\"'\", text)"
   ]
  },
  {
   "cell_type": "code",
   "execution_count": 76,
   "metadata": {},
   "outputs": [
    {
     "data": {
      "text/plain": [
       "['사과', '딸기', '수박', '메론', '바나나']"
      ]
     },
     "execution_count": 76,
     "metadata": {},
     "output_type": "execute_result"
    }
   ],
   "source": [
    "text=\"사과+딸기+수박+메론+바나나\"\n",
    "re.split(\"\\+\", text)"
   ]
  },
  {
   "cell_type": "markdown",
   "metadata": {},
   "source": [
    "### (3) re.findall()\n",
    " - 정규 표현식과 매치되는 모든 문자열들을 리스트로 리턴합니다. 단, 매치되는 문자열이 없다면 빈 리스트를 리턴합니다."
   ]
  },
  {
   "cell_type": "code",
   "execution_count": 77,
   "metadata": {},
   "outputs": [
    {
     "data": {
      "text/plain": [
       "['010', '1234', '1234', '30']"
      ]
     },
     "execution_count": 77,
     "metadata": {},
     "output_type": "execute_result"
    }
   ],
   "source": [
    "text=\"\"\"이름 : 김철수\n",
    "전화번호 : 010 - 1234 - 1234\n",
    "나이 : 30\n",
    "성별 : 남\"\"\"  \n",
    "re.findall(\"\\d+\", text)"
   ]
  },
  {
   "cell_type": "code",
   "execution_count": 78,
   "metadata": {},
   "outputs": [
    {
     "data": {
      "text/plain": [
       "[]"
      ]
     },
     "execution_count": 78,
     "metadata": {},
     "output_type": "execute_result"
    }
   ],
   "source": [
    "re.findall(\"\\d+\", \"문자열은 이렇다 숫자를 못찾지\") # 빈리스트 리턴"
   ]
  },
  {
   "cell_type": "markdown",
   "metadata": {},
   "source": [
    "### (4) re.sub()\n",
    "- sub() 함수는 정규 표현식 패턴과 일치하는 문자열을 찾아 다른 문자열로 대체할 수 있습니다.\n",
    "- 영어 문장에 각주 등과 같은 이유로 특수 문자가 섞여있을 때, 자연어 처리를 위해 특수 문자를 제거하고 싶다면 알파벳 외의 문자는 공백으로 처리하는 등의 사용 용도로 쓸 수 있습니다.\n",
    "- 보통 특수문자 제거시 사용"
   ]
  },
  {
   "cell_type": "code",
   "execution_count": 79,
   "metadata": {},
   "outputs": [
    {
     "data": {
      "text/plain": [
       "'Regular expression   A regular expression  regex or regexp     sometimes called a rational expression        is  in theoretical computer science and formal language theory  a sequence of characters that define a search pattern '"
      ]
     },
     "execution_count": 79,
     "metadata": {},
     "output_type": "execute_result"
    }
   ],
   "source": [
    "text=\"Regular expression : A regular expression, regex or regexp[1] (sometimes called a rational expression)[2][3] is, in theoretical computer science and formal language theory, a sequence of characters that define a search pattern.\"\n",
    "re.sub('[^a-zA-Z]',' ',text)"
   ]
  },
  {
   "cell_type": "code",
   "execution_count": 80,
   "metadata": {},
   "outputs": [
    {
     "name": "stdout",
     "output_type": "stream",
     "text": [
      " was wondering anyone out there could enlighten this car.\n"
     ]
    }
   ],
   "source": [
    "# 정규 표현식으로 불필요한 단어의 제거 실습\n",
    "text = \"I was wondering if anyone out there could enlighten me on this car.\"\n",
    "shortword = re.compile(r'\\W*\\b\\w{1,2}\\b')\n",
    "print(shortword.sub('', text))"
   ]
  },
  {
   "cell_type": "markdown",
   "metadata": {},
   "source": [
    "## 연습하기\n",
    "- 1. Konlpy의 법률안 중 하나를 이용해 형태소 분석을 하고(명사 추출, 형태소 추출, 품사 태깅 등) 정재한 후, 가장 많이 나오는 30개 단어를 이용해 시각화하여 분석해보자"
   ]
  },
  {
   "cell_type": "code",
   "execution_count": 6,
   "metadata": {},
   "outputs": [
    {
     "data": {
      "text/plain": [
       "['1809890.txt',\n",
       " '1809891.txt',\n",
       " '1809892.txt',\n",
       " '1809893.txt',\n",
       " '1809894.txt',\n",
       " '1809895.txt',\n",
       " '1809896.txt',\n",
       " '1809897.txt',\n",
       " '1809898.txt',\n",
       " '1809899.txt']"
      ]
     },
     "execution_count": 6,
     "metadata": {},
     "output_type": "execute_result"
    }
   ],
   "source": [
    "from konlpy.corpus import kobill # kobill : konlpy에 내장된 법률 읽어오는 함수\n",
    "files_ko = kobill.fileids() # kobill에는 team POPANG (pokr.kr)에 의해 취합된 의회정보들이 존재\n",
    "files_ko #kobill에 담긴 문서 확인"
   ]
  },
  {
   "cell_type": "code",
   "execution_count": 7,
   "metadata": {
    "scrolled": true
   },
   "outputs": [
    {
     "data": {
      "text/plain": [
       "'남녀고용평등과 일 ·가정 양립 지원에 관한 법률 \\n\\n일부개정법률안\\n\\n(정의화의원 대표발의 )\\n\\n 의 안\\n 번 호\\n\\n9893\\n\\n발의연월일 : 2010.  11.  12.  \\n\\n발  의  자 : 정의화․이명수․김을동 \\n\\n이사철․여상규․안규백\\n\\n황영철․박영아․김정훈\\n\\n김학송 의원(10인)\\n\\n제안이유 및 주요내용\\n\\n  현행법상 근로자가 육아휴직을 신청할 수 있는 경우는 만 6세 이하\\n\\n의 초등학교 취학 전 자녀를 양육하기 위한 경우임.\\n\\n  그런데 초등학교 1․2학년의 경우 이들을 돌보는데 세심한 주의가 \\n\\n필요함에도 불구하고 사회에서의 돌보는 제도가 부족하여 아동대상 \\n\\n성폭력 등 범죄에 노출되어있고, 이로 인해 여성 근로자들은 직장생활\\n\\n을 그만두고 있는 실정임. 또한 이는 여성 근로자들의 출산의욕을 저\\n\\n하시키는 계기가 되고 있음.\\n\\n  이에 자녀의 육아휴직 가능연령을 만 8세 이하로 상향조정하여 근\\n\\n로자의 일․가정 양립 지원을 도모하고 나아가 저출산 대책에도 기여\\n\\n하려는 것임(안 제19조제1항).\\n\\n- 1 -\\n\\n\\x0c법률  제        호\\n\\n남녀고용평등과 일 ·가정 양립 지원에 관한 법률 \\n\\n일부개정법률안\\n\\n남녀고용평등과 일·가정 양립 지원에 관한 법률 일부를 다음과 같이 \\n\\n개정한다.\\n\\n제19조제1항 본문 중 “만 6세 이하의 초등학교 취학 전”을 “만 8세 이\\n\\n하(취학 중인 경우에는 초등학교 2학년 이하를 말한다)의”로 한다.\\n\\n부      칙\\n\\n이 법은 공포한 날부터 시행한다.\\n\\n- 3 -\\n\\n\\x0c신 ·구조문대비표\\n\\n현      행\\n\\n개   정   안\\n\\n제19조(육아휴직) ① 사업주는 근\\n\\n제19조(육아휴직) ① -----------\\n\\n로자가 만 6세 이하의 초등학\\n\\n-------만 8세 이하(취학 중인 \\n\\n교 취학 전 자녀(입양한 자녀\\n\\n경우에는 초등학교 2학년 이하\\n\\n를 포함한다)를 양육하기 위하\\n\\n를 말한다)의-----------------\\n\\n여 휴직(이하 “육아휴직”이라 \\n\\n----------------------------\\n\\n한다)을 신청하는 경우에 이를 \\n\\n----------------------------\\n\\n허용하여야 한다. 다만, 대통령\\n\\n----------------------------\\n\\n령으로 정하는 경우에는 그러\\n\\n------------------. ---------\\n\\n하지 아니하다.\\n\\n----------------------------\\n\\n  ②  ∼ ⑤ (생  략)\\n\\n  ② ∼ ⑤ (현행과 같음)\\n\\n---------------.\\n\\n- 5 -\\n\\n\\x0c남녀고용평등과 일·가정 양립 지원에 관한 법률 일부개정법률안 \\n\\n등 비용추계서 미첨부사유서\\n\\n1.  재정수반요인\\n\\n개정안에서 ｢국가공무원법｣  제71조제2항제4호 중 국가공무원의 육아\\n\\n휴직 가능 자녀의 연령을 만6세 이하에서 만8세 이하로 하고, ｢지방공\\n\\n무원법｣ 제63조제2항제4호 중 지방공무원의 육아휴직 가능 자녀의 연\\n\\n령을 만6세 이하에서 만8세 이하로 하고, ｢교육공무원법｣ 제44조제1항\\n\\n제7조 중 교육공무원의 육아휴직 가능 자녀의 연령을 만6세 이하에서 \\n\\n만8세 이하로 하고, ｢남녀고용평등과 일․가정 양립지원에 관한 법률｣ \\n\\n제19조제1항 중 근로자 육아휴직 가능 자녀연령을 만6세 이하에서 만\\n\\n8세 이하로 조정함에 따라 추가 재정소요가 예상됨.\\n\\n2.  미첨부  근거  규정\\n｢의안의 비용추계에 관한 규칙｣ 제3조제1항 단서 중 제1호(예상되는 비용이 연평균  10억원 미만\\n이거나  한시적인  경비로서  총  30억원  미만인  경우)에  해당함.\\n\\n3.  미첨부  사유\\n\\n개정안에서 국가․지방․교육공무원 및 근로자가 육아휴직을 신청할 \\n\\n수 있는 자녀의 연령을 만6세 이하에서 만8세 이하로 상향조정함에 \\n\\n- 7 -\\n\\n\\x0c- 8 -\\n\\n따라 추가 재정소요가 예상된다. 동 법률 개정안이 2011년에 시행된다\\n\\n고 가정한 경우, 2010년 현재 자녀의 연령이 7세이고 육아휴직을 신청\\n\\n하지 않은 국가․지방․교육공무원 및 근로자가 대상이 된다.\\n\\n대상연령의 확대됨에 따라 육아휴직신청자의 수가 어느 정도 늘어날 \\n\\n것으로 예상된다. 이 경우 발생하는 비용은 현행법에 따르면 월50만원\\n\\n이나 현재 관련법령 개정이 추진되고 있으며, 이에 따라 2011년에는 \\n\\n육아휴직자가 지급받는 월급여액에 비례하여 육아휴직급여가 지급되\\n\\n기 때문에 법령개정을 가정하고 추계한다. 이러한 경우 육아휴직급여\\n\\n액은 육아휴직자가 지급받는 월급여의 40%에 해당한다. 육아휴직자가 \\n\\n발생한 경우 발생하는 비용은 대체인력 고용인건비와 육아휴직자가 \\n\\n받는 월급여액의 40%이다. 이와 대비하여 육아휴직자에게 지급하던 \\n\\n임금은 더 이상 발생하지 않는다. 따라서 실제 발생하는 순비용은 육\\n\\n아휴직자에게 지급하던 월 급여액과 연령 확대에 따라 발생하는 비용\\n\\n인 육아휴직자가 받던 월급여액의 40%와 대체인력 고용인건비의 차\\n\\n액인데 이 값이 0보다 크면 추가 재정소요는 발생하지 않는다고 볼 \\n\\n수 있다.\\n\\n추가비용 발생여부를 정확하게 알아보기 위하여 비용에 대한 수리모\\n\\n델을 만들고 이에 따라 비용발생 여부를 알아보기로 하자. 모델에 사\\n\\n용되는 변수를 다음과 같이 정의한다.\\n\\n발생비용 : N×p×X + N×육아휴직급여액 - N×P\\n\\n\\x0cN\\n\\nP\\n\\np\\n\\nX\\n\\n: 육아휴직대상자의 수\\n\\n: 육아휴직대상자의 월급여액\\n\\n: 육아휴직자가 발생한 경우 대체 고용할 확률\\n\\n: 대체 고용한 인력에게 지급하는 월급여액\\n\\n위의 수식에서 육아휴직급여액은 육아휴직자 월급여액의 40%까지 지\\n\\n급할 예정이므로 육아휴직급여액은 P×40%이다. 육아휴직자가 발생한 \\n\\n경우 대체 고용할 확률 p는 고용노동부의 육아휴직 관련 자료를 이용\\n\\n한다. 고용노동부에 따르면 2011년의 경우 육아휴직급여 대상자는 \\n\\n40,923명이며, 육아휴직에 따른 대체인력 고용 예상인원은 2,836명이\\n\\n다. 2007년부터 2011년까지의 현황을 정리하면 다음의 [표]와 같다.\\n\\n[표]  육아휴직급여  수급자의  수  및  대체인력  고용  현황:  2007~2011년\\n\\n(단위:  명,  % )\\n\\n2007\\n\\n2008\\n\\n2009\\n\\n2010\\n\\n2011\\n\\n평균\\n\\n육아휴직급여  수급자(A)\\n\\n21,185\\n\\n29,145\\n\\n35,400\\n\\n41,291\\n\\n43,899\\n\\n34,184\\n\\n대체인력  채용(B)\\n\\n796\\n\\n1,658\\n\\n1,957\\n\\n2,396\\n\\n2,836\\n\\n1,929\\n\\n비  율(B/A)\\n\\n3.8\\n\\n5.7\\n\\n5.5\\n\\n5.8\\n\\n6.5\\n\\n5.6\\n\\n자료: 고용노동부  자료를  바탕으로  국회예산정책처  작성\\n\\n위의 [표]의 자료에 따라 육아휴직자가 발생한 경우 대체 고용할 확률 \\n\\np의 값은 5.6%라고 가정한다. 그리고 비용이 발생한다고 가정하여 위\\n\\n의 수식을 다시 작성하면 다음의 수식과 같다.\\n\\n- 9 -\\n\\n\\x0c- 10 -\\n\\nN×p×X + N×육아휴직급여액 - N×P > 0\\n\\nN×5.6%×X + N×P×40% - N×P > 0\\n\\n0.056×X > 0.6P\\n\\nX > 10.7×P\\n\\n(1)\\n\\n(2)\\n\\n(3)\\n\\n(5)\\n\\n위의 수식에 육아휴직자가 받는 월 급여액을 대입하여 대체고용인력\\n\\n자에게 지급하는 월 급여액을 추정하여 보자. 육아휴직자가 월 200만\\n\\n원을 받는다고 가정하면, 대체고용인력자에게 육아휴직자가 받는 월 \\n\\n급여액의 10.7배에 달하는 월 21,428,571원 이상을 지급해야 추가 비용\\n\\n이 발생한다. 대체고용인력자에게 육아휴직자보다 더 많은 월급여액을 \\n\\n주지는 않을 것이고 그리고 10여배 이상 월급을 주지도 않을 것이기 \\n\\n때문에 추가 비용이 발생한다고 보기 힘들다. 위의 수식에서 대체인력 \\n\\n고용확률 p를 20%로 가정하더라도(이 경우 X > 3×P) 200만원 받는 \\n\\n육아휴직자 대체인력에게 월 600만원 이상을 지급해야 추가 비용이 \\n\\n발생한다.\\n\\n행정안전부의 통계자료(행정안전부 통계연감)에서는 지방공무원의 육\\n\\n아휴직 현황자료를 보여주고 있다. 여기서 육아휴직자가 발생한 경우 \\n\\n대체인력을 주로 임용대기자 또는 일용직을 활용하는 것으로 보인다. \\n\\n따라서 공무원의 경우에도 [표]에서 보여주는 일반기업체의 대체인력 \\n\\n고용확률과 차이는 크지 않을 것으로 보인다.\\n\\n이상의 논의를 바탕으로 육아휴직기간을 만6에서 만8세로 연장하더라\\n\\n\\x0c도 법률 개정에 따른 추가 비용은 발생하지 않을 것으로 예상된다.\\n\\n4.  작성자\\n\\n국회예산정책처 법안비용추계1팀\\n\\n팀      장   정 문 종\\n\\n예산분석관   김 태 완\\n\\n(02-788-4649, tanzania@assembly.go.kr)\\n\\n- 11 -\\n\\n\\x0c'"
      ]
     },
     "execution_count": 7,
     "metadata": {},
     "output_type": "execute_result"
    }
   ],
   "source": [
    "doc_ko = kobill.open('1809893.txt').read()\n",
    "doc_ko"
   ]
  },
  {
   "cell_type": "code",
   "execution_count": 15,
   "metadata": {},
   "outputs": [
    {
     "data": {
      "image/png": "[encoded data removed]",
      "text/plain": [
       "<Figure size 432x288 with 1 Axes>"
      ]
     },
     "metadata": {
      "needs_background": "light"
     },
     "output_type": "display_data"
    }
   ],
   "source": [
    "#Okt -- 명사분석\n",
    "okt = Okt()\n",
    "nouns = okt.nouns(doc_ko)\n",
    "#명사 -> 가장 많이 나오는 30개\n",
    "nouns = nltk.Text(nouns)\n",
    "nouns.plot(30)"
   ]
  },
  {
   "cell_type": "code",
   "execution_count": 13,
   "metadata": {},
   "outputs": [],
   "source": [
    "#명사 정제\n",
    "stopwords = ['경우', '만', '이하', '액','세', '이', '의', '위', '월', '관', '것', '호', '수','안','항','중','표']\n",
    "nouns = [i for i in nouns if i not in stopwords]\n",
    "nouns = nltk.Text(nouns)"
   ]
  },
  {
   "cell_type": "code",
   "execution_count": 14,
   "metadata": {},
   "outputs": [
    {
     "data": {
      "image/png": "[encoded data removed]",
      "text/plain": [
       "<Figure size 432x288 with 1 Axes>"
      ]
     },
     "metadata": {
      "needs_background": "light"
     },
     "output_type": "display_data"
    }
   ],
   "source": [
    "import matplotlib.pyplot as plt\n",
    "%matplotlib inline\n",
    "\n",
    "import platform\n",
    "path = 'c:/Windows/Fonts/malgun.ttf'\n",
    "from matplotlib import font_manager, rc\n",
    "\n",
    "font_name = font_manager.FontProperties(fname=path).get_name()\n",
    "rc('font', family = font_name)\n",
    "nouns.plot(30)"
   ]
  },
  {
   "cell_type": "code",
   "execution_count": 40,
   "metadata": {},
   "outputs": [
    {
     "data": {
      "image/png": "[encoded data removed]",
      "text/plain": [
       "<Figure size 432x288 with 1 Axes>"
      ]
     },
     "metadata": {
      "needs_background": "light"
     },
     "output_type": "display_data"
    }
   ],
   "source": [
    "#형태소 추출\n",
    "morphs = okt.morphs(doc_ko)\n",
    "morphs = nltk.Text(morphs)\n",
    "morphs.plot(30)"
   ]
  },
  {
   "cell_type": "code",
   "execution_count": 41,
   "metadata": {},
   "outputs": [
    {
     "data": {
      "text/plain": [
       "<Text: 남녀 고용 평등 과 일 · 가정 양립...>"
      ]
     },
     "execution_count": 41,
     "metadata": {},
     "output_type": "execute_result"
    }
   ],
   "source": [
    "morphs"
   ]
  },
  {
   "cell_type": "code",
   "execution_count": 53,
   "metadata": {},
   "outputs": [
    {
     "data": {
      "image/png": "[encoded data removed]",
      "text/plain": [
       "<Figure size 432x288 with 1 Axes>"
      ]
     },
     "metadata": {
      "needs_background": "light"
     },
     "output_type": "display_data"
    }
   ],
   "source": [
    "stopwords = ['에', '\\n\\n','의','.','을','자','(',')','이','x','세','를','여','은','과','제','만','-','가','한','1','2','p','×','․','액','․',',','3','4','5','6','7','8','9',':','P','N']\n",
    "morphs = [i for i in morphs if i not in stopwords]\n",
    "morphs=nltk.Text(morphs)\n",
    "morphs.plot(30)"
   ]
  },
  {
   "cell_type": "code",
   "execution_count": 36,
   "metadata": {},
   "outputs": [
    {
     "data": {
      "text/plain": [
       "FreqDist({'육아휴직': 41, '경우': 19, '발생': 19, '고용': 18, '이하': 18, '비용': 17, '한다': 13, '가정': 12, '법률': 11, ',': 11, ...})"
      ]
     },
     "execution_count": 36,
     "metadata": {},
     "output_type": "execute_result"
    }
   ],
   "source": [
    "morphs.vocab()"
   ]
  },
  {
   "cell_type": "code",
   "execution_count": 191,
   "metadata": {},
   "outputs": [
    {
     "data": {
      "text/plain": [
       "[('남녀', 'Noun'),\n",
       " ('고용', 'Noun'),\n",
       " ('평등', 'Noun'),\n",
       " ('과', 'Josa'),\n",
       " ('일', 'Noun'),\n",
       " ('·', 'Punctuation'),\n",
       " ('가정', 'Noun'),\n",
       " ('양립', 'Noun'),\n",
       " ('지원', 'Noun'),\n",
       " ('에', 'Josa'),\n",
       " ('관', 'Noun'),\n",
       " ('한', 'Josa'),\n",
       " ('법률', 'Noun'),\n",
       " ('일부', 'Noun'),\n",
       " ('개정', 'Noun'),\n",
       " ('법률', 'Noun'),\n",
       " ('안', 'Noun'),\n",
       " ('\\n\\n', 'Foreign'),\n",
       " ('(', 'Punctuation'),\n",
       " ('정의화', 'Noun'),\n",
       " ('의원', 'Noun'),\n",
       " ('대표', 'Noun'),\n",
       " ('발의', 'Noun'),\n",
       " (')', 'Punctuation'),\n",
       " ('\\n\\n ', 'Foreign'),\n",
       " ('의', 'Noun'),\n",
       " ('안', 'Noun'),\n",
       " ('\\n ', 'Foreign'),\n",
       " ('번', 'Noun'),\n",
       " ('호', 'Noun'),\n",
       " ('\\n\\n', 'Foreign'),\n",
       " ('9893', 'Number'),\n",
       " ('\\n\\n', 'Foreign'),\n",
       " ('발의', 'Noun'),\n",
       " ('연월일', 'Noun'),\n",
       " (':', 'Punctuation'),\n",
       " ('2010', 'Number'),\n",
       " ('.', 'Punctuation'),\n",
       " ('11', 'Number'),\n",
       " ('.', 'Punctuation'),\n",
       " ('12', 'Number'),\n",
       " ('.', 'Punctuation'),\n",
       " ('발', 'Noun'),\n",
       " ('의', 'Noun'),\n",
       " ('자', 'Noun'),\n",
       " (':', 'Punctuation'),\n",
       " ('정의화', 'Noun'),\n",
       " ('․', 'Foreign'),\n",
       " ('이명수', 'Noun'),\n",
       " ('․', 'Foreign'),\n",
       " ('김을동', 'Noun'),\n",
       " ('이사철', 'Noun'),\n",
       " ('․', 'Foreign'),\n",
       " ('여상규', 'Noun'),\n",
       " ('․', 'Foreign'),\n",
       " ('안규백', 'Noun'),\n",
       " ('\\n\\n', 'Foreign'),\n",
       " ('황영철', 'Noun'),\n",
       " ('․', 'Foreign'),\n",
       " ('박영아', 'Noun'),\n",
       " ('․', 'Foreign'),\n",
       " ('김정훈', 'Noun'),\n",
       " ('\\n\\n', 'Foreign'),\n",
       " ('김학송', 'Noun'),\n",
       " ('의원', 'Noun'),\n",
       " ('(', 'Punctuation'),\n",
       " ('10', 'Number'),\n",
       " ('인', 'Noun'),\n",
       " (')', 'Punctuation'),\n",
       " ('\\n\\n', 'Foreign'),\n",
       " ('제안', 'Noun'),\n",
       " ('이유', 'Noun'),\n",
       " ('및', 'Noun'),\n",
       " ('주요', 'Modifier'),\n",
       " ('내용', 'Noun'),\n",
       " ('\\n\\n  ', 'Foreign'),\n",
       " ('현행법', 'Noun'),\n",
       " ('상', 'Suffix'),\n",
       " ('근로자', 'Noun'),\n",
       " ('가', 'Josa'),\n",
       " ('육아휴직', 'Noun'),\n",
       " ('을', 'Josa'),\n",
       " ('신청', 'Noun'),\n",
       " ('할', 'Verb'),\n",
       " ('수', 'Noun'),\n",
       " ('있는', 'Adjective'),\n",
       " ('경우', 'Noun'),\n",
       " ('는', 'Josa'),\n",
       " ('만', 'Noun'),\n",
       " ('6', 'Number'),\n",
       " ('세', 'Noun'),\n",
       " ('이하', 'Noun'),\n",
       " ('\\n\\n', 'Foreign'),\n",
       " ('의', 'Noun'),\n",
       " ('초등학교', 'Noun'),\n",
       " ('취학', 'Noun'),\n",
       " ('전', 'Noun'),\n",
       " ('자녀', 'Noun'),\n",
       " ('를', 'Josa'),\n",
       " ('양육', 'Noun'),\n",
       " ('하기', 'Verb'),\n",
       " ('위', 'Noun'),\n",
       " ('한', 'Josa'),\n",
       " ('경우', 'Noun'),\n",
       " ('임', 'Noun'),\n",
       " ('.', 'Punctuation'),\n",
       " ('\\n\\n  ', 'Foreign'),\n",
       " ('그런데', 'Conjunction'),\n",
       " ('초등학교', 'Noun'),\n",
       " ('1', 'Number'),\n",
       " ('․', 'Foreign'),\n",
       " ('2', 'Number'),\n",
       " ('학년', 'Noun'),\n",
       " ('의', 'Josa'),\n",
       " ('경우', 'Noun'),\n",
       " ('이', 'Noun'),\n",
       " ('들', 'Suffix'),\n",
       " ('을', 'Josa'),\n",
       " ('돌보는데', 'Verb'),\n",
       " ('세심', 'Noun'),\n",
       " ('한', 'Josa'),\n",
       " ('주의', 'Noun'),\n",
       " ('가', 'Josa'),\n",
       " ('필요함에도', 'Adjective'),\n",
       " ('불구', 'Noun'),\n",
       " ('하고', 'Josa'),\n",
       " ('사회', 'Noun'),\n",
       " ('에서의', 'Josa'),\n",
       " ('돌보는', 'Verb'),\n",
       " ('제도', 'Noun'),\n",
       " ('가', 'Josa'),\n",
       " ('부족하여', 'Adjective'),\n",
       " ('아동', 'Noun'),\n",
       " ('대상', 'Noun'),\n",
       " ('성폭력', 'Noun'),\n",
       " ('등', 'Noun'),\n",
       " ('범죄', 'Noun'),\n",
       " ('에', 'Josa'),\n",
       " ('노출', 'Noun'),\n",
       " ('되어있고', 'Verb'),\n",
       " (',', 'Punctuation'),\n",
       " ('이로', 'Noun'),\n",
       " ('인해', 'Adjective'),\n",
       " ('여성', 'Noun'),\n",
       " ('근로자', 'Noun'),\n",
       " ('들', 'Suffix'),\n",
       " ('은', 'Josa'),\n",
       " ('직장', 'Noun'),\n",
       " ('생활', 'Noun'),\n",
       " ('\\n\\n', 'Foreign'),\n",
       " ('을', 'Josa'),\n",
       " ('그만두고', 'Verb'),\n",
       " ('있는', 'Adjective'),\n",
       " ('실정', 'Noun'),\n",
       " ('임', 'Noun'),\n",
       " ('.', 'Punctuation'),\n",
       " ('또한', 'Noun'),\n",
       " ('이는', 'Verb'),\n",
       " ('여성', 'Noun'),\n",
       " ('근로자', 'Noun'),\n",
       " ('들', 'Suffix'),\n",
       " ('의', 'Josa'),\n",
       " ('출산', 'Noun'),\n",
       " ('의욕', 'Noun'),\n",
       " ('을', 'Josa'),\n",
       " ('저', 'Noun'),\n",
       " ('\\n\\n', 'Foreign'),\n",
       " ('하', 'Exclamation'),\n",
       " ('시키는', 'Verb'),\n",
       " ('계기', 'Noun'),\n",
       " ('가', 'Josa'),\n",
       " ('되고', 'Verb'),\n",
       " ('있음', 'Adjective'),\n",
       " ('.', 'Punctuation'),\n",
       " ('\\n\\n  ', 'Foreign'),\n",
       " ('이', 'Noun'),\n",
       " ('에', 'Josa'),\n",
       " ('자녀', 'Noun'),\n",
       " ('의', 'Josa'),\n",
       " ('육아휴직', 'Noun'),\n",
       " ('가능', 'Noun'),\n",
       " ('연령', 'Noun'),\n",
       " ('을', 'Josa'),\n",
       " ('만', 'Noun'),\n",
       " ('8', 'Number'),\n",
       " ('세', 'Noun'),\n",
       " ('이하', 'Noun'),\n",
       " ('로', 'Josa'),\n",
       " ('상향', 'Noun'),\n",
       " ('조정', 'Noun'),\n",
       " ('하', 'Suffix'),\n",
       " ('여', 'Josa'),\n",
       " ('근', 'Modifier'),\n",
       " ('\\n\\n', 'Foreign'),\n",
       " ('로자', 'Noun'),\n",
       " ('의', 'Josa'),\n",
       " ('일', 'Noun'),\n",
       " ('․', 'Foreign'),\n",
       " ('가정', 'Noun'),\n",
       " ('양립', 'Noun'),\n",
       " ('지원', 'Noun'),\n",
       " ('을', 'Josa'),\n",
       " ('도모', 'Noun'),\n",
       " ('하고', 'Josa'),\n",
       " ('나아가', 'Verb'),\n",
       " ('저출산', 'Noun'),\n",
       " ('대책', 'Noun'),\n",
       " ('에도', 'Josa'),\n",
       " ('기여', 'Noun'),\n",
       " ('\\n\\n', 'Foreign'),\n",
       " ('하려는', 'Verb'),\n",
       " ('것임', 'Noun'),\n",
       " ('(', 'Punctuation'),\n",
       " ('안', 'Noun'),\n",
       " ('제', 'Noun'),\n",
       " ('19조', 'Number'),\n",
       " ('제', 'Foreign'),\n",
       " ('1', 'Number'),\n",
       " ('항', 'Noun'),\n",
       " (').', 'Punctuation'),\n",
       " ('\\n\\n', 'Foreign'),\n",
       " ('-', 'Punctuation'),\n",
       " ('1', 'Number'),\n",
       " ('-', 'Punctuation'),\n",
       " ('\\n\\n\\x0c', 'Foreign'),\n",
       " ('법률', 'Noun'),\n",
       " ('제', 'Noun'),\n",
       " ('호', 'Noun'),\n",
       " ('\\n\\n', 'Foreign'),\n",
       " ('남녀', 'Noun'),\n",
       " ('고용', 'Noun'),\n",
       " ('평등', 'Noun'),\n",
       " ('과', 'Josa'),\n",
       " ('일', 'Noun'),\n",
       " ('·', 'Punctuation'),\n",
       " ('가정', 'Noun'),\n",
       " ('양립', 'Noun'),\n",
       " ('지원', 'Noun'),\n",
       " ('에', 'Josa'),\n",
       " ('관', 'Noun'),\n",
       " ('한', 'Josa'),\n",
       " ('법률', 'Noun'),\n",
       " ('일부', 'Noun'),\n",
       " ('개정', 'Noun'),\n",
       " ('법률', 'Noun'),\n",
       " ('안', 'Noun'),\n",
       " ('\\n\\n', 'Foreign'),\n",
       " ('남녀', 'Noun'),\n",
       " ('고용', 'Noun'),\n",
       " ('평등', 'Noun'),\n",
       " ('과', 'Josa'),\n",
       " ('일', 'Noun'),\n",
       " ('·', 'Punctuation'),\n",
       " ('가정', 'Noun'),\n",
       " ('양립', 'Noun'),\n",
       " ('지원', 'Noun'),\n",
       " ('에', 'Josa'),\n",
       " ('관', 'Noun'),\n",
       " ('한', 'Josa'),\n",
       " ('법률', 'Noun'),\n",
       " ('일부', 'Noun'),\n",
       " ('를', 'Josa'),\n",
       " ('다음', 'Noun'),\n",
       " ('과', 'Josa'),\n",
       " ('같이', 'Adverb'),\n",
       " ('개정', 'Noun'),\n",
       " ('한다', 'Verb'),\n",
       " ('.', 'Punctuation'),\n",
       " ('\\n\\n', 'Foreign'),\n",
       " ('제', 'Noun'),\n",
       " ('19조', 'Number'),\n",
       " ('제', 'Foreign'),\n",
       " ('1', 'Number'),\n",
       " ('항', 'Noun'),\n",
       " ('본문', 'Noun'),\n",
       " ('중', 'Noun'),\n",
       " ('“', 'Foreign'),\n",
       " ('만', 'Noun'),\n",
       " ('6', 'Number'),\n",
       " ('세', 'Noun'),\n",
       " ('이하', 'Noun'),\n",
       " ('의', 'Josa'),\n",
       " ('초등학교', 'Noun'),\n",
       " ('취학', 'Noun'),\n",
       " ('전', 'Noun'),\n",
       " ('”', 'Foreign'),\n",
       " ('을', 'Josa'),\n",
       " ('“', 'Foreign'),\n",
       " ('만', 'Noun'),\n",
       " ('8', 'Number'),\n",
       " ('세', 'Noun'),\n",
       " ('이', 'Noun'),\n",
       " ('\\n\\n', 'Foreign'),\n",
       " ('하', 'Exclamation'),\n",
       " ('(', 'Punctuation'),\n",
       " ('취학', 'Noun'),\n",
       " ('중인', 'Noun'),\n",
       " ('경우', 'Noun'),\n",
       " ('에는', 'Josa'),\n",
       " ('초등학교', 'Noun'),\n",
       " ('2', 'Number'),\n",
       " ('학년', 'Noun'),\n",
       " ('이하', 'Noun'),\n",
       " ('를', 'Josa'),\n",
       " ('말', 'Noun'),\n",
       " ('한다', 'Verb'),\n",
       " (')', 'Punctuation'),\n",
       " ('의', 'Noun'),\n",
       " ('”', 'Foreign'),\n",
       " ('로', 'Noun'),\n",
       " ('한다', 'Verb'),\n",
       " ('.', 'Punctuation'),\n",
       " ('\\n\\n', 'Foreign'),\n",
       " ('부', 'Noun'),\n",
       " ('칙', 'Noun'),\n",
       " ('\\n\\n', 'Foreign'),\n",
       " ('이', 'Noun'),\n",
       " ('법', 'Noun'),\n",
       " ('은', 'Josa'),\n",
       " ('공포', 'Noun'),\n",
       " ('한', 'Josa'),\n",
       " ('날', 'Noun'),\n",
       " ('부터', 'Josa'),\n",
       " ('시행', 'Noun'),\n",
       " ('한다', 'Verb'),\n",
       " ('.', 'Punctuation'),\n",
       " ('\\n\\n', 'Foreign'),\n",
       " ('-', 'Punctuation'),\n",
       " ('3', 'Number'),\n",
       " ('-', 'Punctuation'),\n",
       " ('\\n\\n\\x0c', 'Foreign'),\n",
       " ('신', 'Noun'),\n",
       " ('·', 'Punctuation'),\n",
       " ('구조', 'Noun'),\n",
       " ('문대비', 'Noun'),\n",
       " ('표', 'Noun'),\n",
       " ('\\n\\n', 'Foreign'),\n",
       " ('현', 'Noun'),\n",
       " ('행', 'Noun'),\n",
       " ('\\n\\n', 'Foreign'),\n",
       " ('개', 'Noun'),\n",
       " ('정', 'Noun'),\n",
       " ('안', 'Noun'),\n",
       " ('\\n\\n', 'Foreign'),\n",
       " ('제', 'Noun'),\n",
       " ('19조', 'Number'),\n",
       " ('(', 'Punctuation'),\n",
       " ('육아휴직', 'Noun'),\n",
       " (')', 'Punctuation'),\n",
       " ('①', 'Foreign'),\n",
       " ('사', 'Modifier'),\n",
       " ('업주', 'Noun'),\n",
       " ('는', 'Josa'),\n",
       " ('근', 'Modifier'),\n",
       " ('\\n\\n', 'Foreign'),\n",
       " ('제', 'Noun'),\n",
       " ('19조', 'Number'),\n",
       " ('(', 'Punctuation'),\n",
       " ('육아휴직', 'Noun'),\n",
       " (')', 'Punctuation'),\n",
       " ('①', 'Foreign'),\n",
       " ('-----------', 'Punctuation'),\n",
       " ('\\n\\n', 'Foreign'),\n",
       " ('로자', 'Noun'),\n",
       " ('가', 'Josa'),\n",
       " ('만', 'Noun'),\n",
       " ('6', 'Number'),\n",
       " ('세', 'Noun'),\n",
       " ('이하', 'Noun'),\n",
       " ('의', 'Josa'),\n",
       " ('초등학', 'Noun'),\n",
       " ('\\n\\n', 'Foreign'),\n",
       " ('-------', 'Punctuation'),\n",
       " ('만', 'Noun'),\n",
       " ('8', 'Number'),\n",
       " ('세', 'Noun'),\n",
       " ('이하', 'Noun'),\n",
       " ('(', 'Punctuation'),\n",
       " ('취학', 'Noun'),\n",
       " ('중인', 'Noun'),\n",
       " ('교', 'Noun'),\n",
       " ('취학', 'Noun'),\n",
       " ('전', 'Noun'),\n",
       " ('자녀', 'Noun'),\n",
       " ('(', 'Punctuation'),\n",
       " ('입양', 'Noun'),\n",
       " ('한', 'Josa'),\n",
       " ('자녀', 'Noun'),\n",
       " ('\\n\\n', 'Foreign'),\n",
       " ('경우', 'Noun'),\n",
       " ('에는', 'Josa'),\n",
       " ('초등학교', 'Noun'),\n",
       " ('2', 'Number'),\n",
       " ('학년', 'Noun'),\n",
       " ('이하', 'Noun'),\n",
       " ('\\n\\n', 'Foreign'),\n",
       " ('를', 'Noun'),\n",
       " ('포함', 'Noun'),\n",
       " ('한다', 'Verb'),\n",
       " (')', 'Punctuation'),\n",
       " ('를', 'Noun'),\n",
       " ('양육', 'Noun'),\n",
       " ('하기', 'Verb'),\n",
       " ('위', 'Noun'),\n",
       " ('하', 'Suffix'),\n",
       " ('\\n\\n', 'Foreign'),\n",
       " ('를', 'Noun'),\n",
       " ('말', 'Noun'),\n",
       " ('한다', 'Verb'),\n",
       " (')', 'Punctuation'),\n",
       " ('의', 'Noun'),\n",
       " ('-----------------', 'Punctuation'),\n",
       " ('\\n\\n', 'Foreign'),\n",
       " ('여', 'Noun'),\n",
       " ('휴직', 'Noun'),\n",
       " ('(', 'Punctuation'),\n",
       " ('이하', 'Noun'),\n",
       " ('“', 'Foreign'),\n",
       " ('육아휴직', 'Noun'),\n",
       " ('”', 'Foreign'),\n",
       " ('이라', 'Verb'),\n",
       " ('----------------------------', 'Punctuation'),\n",
       " ('\\n\\n', 'Foreign'),\n",
       " ('한다', 'Verb'),\n",
       " (')', 'Punctuation'),\n",
       " ('을', 'Josa'),\n",
       " ('신청', 'Noun'),\n",
       " ('하는', 'Verb'),\n",
       " ('경우', 'Noun'),\n",
       " ('에', 'Josa'),\n",
       " ('이를', 'Verb'),\n",
       " ('----------------------------', 'Punctuation'),\n",
       " ('\\n\\n', 'Foreign'),\n",
       " ('허용', 'Noun'),\n",
       " ('하여야', 'Verb'),\n",
       " ('한다', 'Verb'),\n",
       " ('.', 'Punctuation'),\n",
       " ('다만', 'Noun'),\n",
       " (',', 'Punctuation'),\n",
       " ('대통령', 'Noun'),\n",
       " ('\\n\\n', 'Foreign'),\n",
       " ('----------------------------', 'Punctuation'),\n",
       " ('\\n\\n', 'Foreign'),\n",
       " ('령', 'Noun'),\n",
       " ('으로', 'Josa'),\n",
       " ('정', 'Noun'),\n",
       " ('하는', 'Verb'),\n",
       " ('경우', 'Noun'),\n",
       " ('에는', 'Josa'),\n",
       " ('그러', 'Adjective'),\n",
       " ('\\n\\n', 'Foreign'),\n",
       " ('------------------.', 'Punctuation'),\n",
       " ('---------', 'Punctuation'),\n",
       " ('\\n\\n', 'Foreign'),\n",
       " ('하지', 'Verb'),\n",
       " ('아니하다', 'Adjective'),\n",
       " ('.', 'Punctuation'),\n",
       " ('\\n\\n', 'Foreign'),\n",
       " ('----------------------------', 'Punctuation'),\n",
       " ('\\n\\n  ', 'Foreign'),\n",
       " ('②', 'Foreign'),\n",
       " ('∼', 'Foreign'),\n",
       " ('⑤', 'Foreign'),\n",
       " ('(', 'Punctuation'),\n",
       " ('생', 'Noun'),\n",
       " ('략', 'Noun'),\n",
       " (')', 'Punctuation'),\n",
       " ('\\n\\n  ', 'Foreign'),\n",
       " ('②', 'Foreign'),\n",
       " ('∼', 'Foreign'),\n",
       " ('⑤', 'Foreign'),\n",
       " ('(', 'Punctuation'),\n",
       " ('현행', 'Noun'),\n",
       " ('과', 'Josa'),\n",
       " ('같음', 'Adjective'),\n",
       " (')', 'Punctuation'),\n",
       " ('\\n\\n', 'Foreign'),\n",
       " ('---------------.', 'Punctuation'),\n",
       " ('\\n\\n', 'Foreign'),\n",
       " ('-', 'Punctuation'),\n",
       " ('5', 'Number'),\n",
       " ('-', 'Punctuation'),\n",
       " ('\\n\\n\\x0c', 'Foreign'),\n",
       " ('남녀', 'Noun'),\n",
       " ('고용', 'Noun'),\n",
       " ('평등', 'Noun'),\n",
       " ('과', 'Josa'),\n",
       " ('일', 'Noun'),\n",
       " ('·', 'Punctuation'),\n",
       " ('가정', 'Noun'),\n",
       " ('양립', 'Noun'),\n",
       " ('지원', 'Noun'),\n",
       " ('에', 'Josa'),\n",
       " ('관', 'Noun'),\n",
       " ('한', 'Josa'),\n",
       " ('법률', 'Noun'),\n",
       " ('일부', 'Noun'),\n",
       " ('개정', 'Noun'),\n",
       " ('법률', 'Noun'),\n",
       " ('안', 'Noun'),\n",
       " ('등', 'Noun'),\n",
       " ('비용', 'Noun'),\n",
       " ('추계', 'Noun'),\n",
       " ('서', 'Josa'),\n",
       " ('미', 'Adjective'),\n",
       " ('첨부', 'Noun'),\n",
       " ('사유', 'Noun'),\n",
       " ('서', 'Josa'),\n",
       " ('\\n\\n', 'Foreign'),\n",
       " ('1', 'Number'),\n",
       " ('.', 'Punctuation'),\n",
       " ('재정', 'Noun'),\n",
       " ('수', 'Modifier'),\n",
       " ('반', 'Modifier'),\n",
       " ('요인', 'Noun'),\n",
       " ('\\n\\n', 'Foreign'),\n",
       " ('개정안', 'Noun'),\n",
       " ('에서', 'Josa'),\n",
       " ('｢', 'Foreign'),\n",
       " ('국가공무원', 'Noun'),\n",
       " ('법', 'Noun'),\n",
       " ('｣', 'Foreign'),\n",
       " ('제', 'Noun'),\n",
       " ('71조', 'Number'),\n",
       " ('제', 'Foreign'),\n",
       " ('2', 'Number'),\n",
       " ('항제', 'Noun'),\n",
       " ('4', 'Number'),\n",
       " ('호', 'Noun'),\n",
       " ('중', 'Noun'),\n",
       " ('국가공무원', 'Noun'),\n",
       " ('의', 'Josa'),\n",
       " ('육아', 'Noun'),\n",
       " ('\\n\\n', 'Foreign'),\n",
       " ('휴직', 'Noun'),\n",
       " ('가능', 'Noun'),\n",
       " ('자녀', 'Noun'),\n",
       " ('의', 'Josa'),\n",
       " ('연령', 'Noun'),\n",
       " ('을', 'Josa'),\n",
       " ('만', 'Noun'),\n",
       " ('6', 'Number'),\n",
       " ('세', 'Noun'),\n",
       " ('이하', 'Noun'),\n",
       " ('에서', 'Josa'),\n",
       " ('만', 'Noun'),\n",
       " ('8', 'Number'),\n",
       " ('세', 'Noun'),\n",
       " ('이하', 'Noun'),\n",
       " ('로', 'Josa'),\n",
       " ('하고', 'Verb'),\n",
       " (',', 'Punctuation'),\n",
       " ('｢', 'Foreign'),\n",
       " ('지', 'Modifier'),\n",
       " ('방공', 'Noun'),\n",
       " ('\\n\\n', 'Foreign'),\n",
       " ('무', 'Noun'),\n",
       " ('원', 'Modifier'),\n",
       " ('법', 'Noun'),\n",
       " ('｣', 'Foreign'),\n",
       " ('제', 'Noun'),\n",
       " ('63조', 'Number'),\n",
       " ('제', 'Foreign'),\n",
       " ('2', 'Number'),\n",
       " ('항제', 'Noun'),\n",
       " ('4', 'Number'),\n",
       " ('호', 'Noun'),\n",
       " ('중', 'Noun'),\n",
       " ('지방', 'Noun'),\n",
       " ('공무원', 'Noun'),\n",
       " ('의', 'Josa'),\n",
       " ('육아휴직', 'Noun'),\n",
       " ('가능', 'Noun'),\n",
       " ('자녀', 'Noun'),\n",
       " ('의', 'Josa'),\n",
       " ('연', 'Noun'),\n",
       " ('\\n\\n', 'Foreign'),\n",
       " ('령', 'Noun'),\n",
       " ('을', 'Josa'),\n",
       " ('만', 'Noun'),\n",
       " ('6', 'Number'),\n",
       " ('세', 'Noun'),\n",
       " ('이하', 'Noun'),\n",
       " ('에서', 'Josa'),\n",
       " ('만', 'Noun'),\n",
       " ('8', 'Number'),\n",
       " ('세', 'Noun'),\n",
       " ('이하', 'Noun'),\n",
       " ('로', 'Josa'),\n",
       " ('하고', 'Verb'),\n",
       " (',', 'Punctuation'),\n",
       " ('｢', 'Foreign'),\n",
       " ('교육', 'Noun'),\n",
       " ('공무원', 'Noun'),\n",
       " ('법', 'Noun'),\n",
       " ('｣', 'Foreign'),\n",
       " ('제', 'Noun'),\n",
       " ('44조', 'Number'),\n",
       " ('제', 'Foreign'),\n",
       " ('1', 'Number'),\n",
       " ('항', 'Noun'),\n",
       " ('\\n\\n', 'Foreign'),\n",
       " ('제', 'Noun'),\n",
       " ('7조', 'Number'),\n",
       " ('중', 'Noun'),\n",
       " ('교육', 'Noun'),\n",
       " ('공무원', 'Noun'),\n",
       " ('의', 'Josa'),\n",
       " ('육아휴직', 'Noun'),\n",
       " ('가능', 'Noun'),\n",
       " ('자녀', 'Noun'),\n",
       " ('의', 'Josa'),\n",
       " ('연령', 'Noun'),\n",
       " ('을', 'Josa'),\n",
       " ('만', 'Noun'),\n",
       " ('6', 'Number'),\n",
       " ('세', 'Noun'),\n",
       " ('이하', 'Noun'),\n",
       " ('에서', 'Josa'),\n",
       " ('만', 'Noun'),\n",
       " ('8', 'Number'),\n",
       " ('세', 'Noun'),\n",
       " ('이하', 'Noun'),\n",
       " ('로', 'Josa'),\n",
       " ('하고', 'Verb'),\n",
       " (',', 'Punctuation'),\n",
       " ('｢', 'Foreign'),\n",
       " ('남녀', 'Noun'),\n",
       " ('고용', 'Noun'),\n",
       " ('평등', 'Noun'),\n",
       " ('과', 'Josa'),\n",
       " ('일', 'Noun'),\n",
       " ('․', 'Foreign'),\n",
       " ('가정', 'Noun'),\n",
       " ('양립', 'Noun'),\n",
       " ('지원', 'Noun'),\n",
       " ('에', 'Josa'),\n",
       " ('관', 'Noun'),\n",
       " ('한', 'Josa'),\n",
       " ('법률', 'Noun'),\n",
       " ('｣', 'Foreign'),\n",
       " ('제', 'Noun'),\n",
       " ('19조', 'Number'),\n",
       " ('제', 'Foreign'),\n",
       " ('1', 'Number'),\n",
       " ('항', 'Noun'),\n",
       " ('중', 'Noun'),\n",
       " ('근로자', 'Noun'),\n",
       " ('육아휴직', 'Noun'),\n",
       " ('가능', 'Noun'),\n",
       " ('자녀', 'Noun'),\n",
       " ('연령', 'Noun'),\n",
       " ('을', 'Josa'),\n",
       " ('만', 'Noun'),\n",
       " ('6', 'Number'),\n",
       " ('세', 'Noun'),\n",
       " ('이하', 'Noun'),\n",
       " ('에서', 'Josa'),\n",
       " ('만', 'Noun'),\n",
       " ('\\n\\n', 'Foreign'),\n",
       " ('8', 'Number'),\n",
       " ('세', 'Noun'),\n",
       " ('이하', 'Noun'),\n",
       " ('로', 'Josa'),\n",
       " ('조정', 'Noun'),\n",
       " ('함', 'Noun'),\n",
       " ('에', 'Josa'),\n",
       " ('따라', 'Verb'),\n",
       " ('추가', 'Noun'),\n",
       " ('재정', 'Noun'),\n",
       " ('소', 'Modifier'),\n",
       " ('요가', 'Noun'),\n",
       " ('예상', 'Noun'),\n",
       " ('됨', 'Verb'),\n",
       " ('.', 'Punctuation'),\n",
       " ('\\n\\n', 'Foreign'),\n",
       " ('2', 'Number'),\n",
       " ('.', 'Punctuation'),\n",
       " ('미', 'Adjective'),\n",
       " ('첨부', 'Noun'),\n",
       " ('근거', 'Noun'),\n",
       " ('규정', 'Noun'),\n",
       " ('\\n', 'Foreign'),\n",
       " ('｢', 'Foreign'),\n",
       " ('의안', 'Noun'),\n",
       " ('의', 'Josa'),\n",
       " ('비용', 'Noun'),\n",
       " ('추계', 'Noun'),\n",
       " ('에', 'Josa'),\n",
       " ('관', 'Noun'),\n",
       " ('한', 'Josa'),\n",
       " ('규칙', 'Noun'),\n",
       " ('｣', 'Foreign'),\n",
       " ('제', 'Noun'),\n",
       " ('3조', 'Number'),\n",
       " ('제', 'Foreign'),\n",
       " ('1', 'Number'),\n",
       " ('항', 'Noun'),\n",
       " ('단서', 'Noun'),\n",
       " ('중', 'Noun'),\n",
       " ('제', 'Noun'),\n",
       " ('1', 'Number'),\n",
       " ('호', 'Noun'),\n",
       " ('(', 'Punctuation'),\n",
       " ('예상', 'Noun'),\n",
       " ('되는', 'Verb'),\n",
       " ('비용', 'Noun'),\n",
       " ('이', 'Josa'),\n",
       " ('연', 'Modifier'),\n",
       " ('평균', 'Noun'),\n",
       " ('10억원', 'Number'),\n",
       " ('미만', 'Noun'),\n",
       " ('\\n', 'Foreign'),\n",
       " ('이', 'Determiner'),\n",
       " ('거나', 'Noun'),\n",
       " ('한시', 'Noun'),\n",
       " ('적', 'Suffix'),\n",
       " ('인', 'Josa'),\n",
       " ('경비', 'Noun'),\n",
       " ('로서', 'Noun'),\n",
       " ('총', 'Noun'),\n",
       " ('30억원', 'Number'),\n",
       " ('미만', 'Noun'),\n",
       " ('인', 'Josa'),\n",
       " ('경우', 'Noun'),\n",
       " (')', 'Punctuation'),\n",
       " ('에', 'Josa'),\n",
       " ('해당', 'Noun'),\n",
       " ('함', 'Noun'),\n",
       " ('.', 'Punctuation'),\n",
       " ('\\n\\n', 'Foreign'),\n",
       " ('3', 'Number'),\n",
       " ('.', 'Punctuation'),\n",
       " ('미', 'Adjective'),\n",
       " ('첨부', 'Noun'),\n",
       " ('사유', 'Noun'),\n",
       " ('\\n\\n', 'Foreign'),\n",
       " ('개정안', 'Noun'),\n",
       " ('에서', 'Josa'),\n",
       " ('국가', 'Noun'),\n",
       " ('․', 'Foreign'),\n",
       " ('지방', 'Noun'),\n",
       " ('․', 'Foreign'),\n",
       " ('교육', 'Noun'),\n",
       " ('공무원', 'Noun'),\n",
       " ('및', 'Noun'),\n",
       " ('근로자', 'Noun'),\n",
       " ('가', 'Josa'),\n",
       " ('육아휴직', 'Noun'),\n",
       " ('을', 'Josa'),\n",
       " ('신청', 'Noun'),\n",
       " ('할', 'Verb'),\n",
       " ('수', 'Noun'),\n",
       " ('있는', 'Adjective'),\n",
       " ('자녀', 'Noun'),\n",
       " ('의', 'Josa'),\n",
       " ('연령', 'Noun'),\n",
       " ('을', 'Josa'),\n",
       " ('만', 'Noun'),\n",
       " ('6', 'Number'),\n",
       " ('세', 'Noun'),\n",
       " ('이하', 'Noun'),\n",
       " ('에서', 'Josa'),\n",
       " ('만', 'Noun'),\n",
       " ('8', 'Number'),\n",
       " ('세', 'Noun'),\n",
       " ('이하', 'Noun'),\n",
       " ('로', 'Josa'),\n",
       " ('상향', 'Noun'),\n",
       " ('조정', 'Noun'),\n",
       " ('함', 'Noun'),\n",
       " ('에', 'Josa'),\n",
       " ('-', 'Punctuation'),\n",
       " ('7', 'Number'),\n",
       " ('-', 'Punctuation'),\n",
       " ('\\n\\n\\x0c', 'Foreign'),\n",
       " ('-', 'Punctuation'),\n",
       " ('8', 'Number'),\n",
       " ('-', 'Punctuation'),\n",
       " ('\\n\\n', 'Foreign'),\n",
       " ('따라', 'Verb'),\n",
       " ('추가', 'Noun'),\n",
       " ('재정', 'Noun'),\n",
       " ('소', 'Modifier'),\n",
       " ('요가', 'Noun'),\n",
       " ('예상', 'Noun'),\n",
       " ('된다', 'Verb'),\n",
       " ('.', 'Punctuation'),\n",
       " ('동', 'Modifier'),\n",
       " ('법률', 'Noun'),\n",
       " ('개정안', 'Noun'),\n",
       " ('이', 'Josa'),\n",
       " ('2011년', 'Number'),\n",
       " ('에', 'Foreign'),\n",
       " ('시행', 'Noun'),\n",
       " ('된다', 'Verb'),\n",
       " ('\\n\\n', 'Foreign'),\n",
       " ('고', 'Noun'),\n",
       " ('가정', 'Noun'),\n",
       " ('한', 'Josa'),\n",
       " ('경우', 'Noun'),\n",
       " (',', 'Punctuation'),\n",
       " ('2010년', 'Number'),\n",
       " ('현재', 'Noun'),\n",
       " ('자녀', 'Noun'),\n",
       " ('의', 'Josa'),\n",
       " ('연령', 'Noun'),\n",
       " ('이', 'Josa'),\n",
       " ('7', 'Number'),\n",
       " ('세이', 'Noun'),\n",
       " ('고', 'Josa'),\n",
       " ('육아휴직', 'Noun'),\n",
       " ('을', 'Josa'),\n",
       " ('신청', 'Noun'),\n",
       " ('\\n\\n', 'Foreign'),\n",
       " ('하지', 'Verb'),\n",
       " ('않은', 'Verb'),\n",
       " ('국가', 'Noun'),\n",
       " ('․', 'Foreign'),\n",
       " ('지방', 'Noun'),\n",
       " ('․', 'Foreign'),\n",
       " ('교육', 'Noun'),\n",
       " ('공무원', 'Noun'),\n",
       " ('및', 'Noun'),\n",
       " ('근로자', 'Noun'),\n",
       " ('가', 'Josa'),\n",
       " ('대상', 'Noun'),\n",
       " ('이', 'Josa'),\n",
       " ('된다', 'Verb'),\n",
       " ('.', 'Punctuation'),\n",
       " ('\\n\\n', 'Foreign'),\n",
       " ('대상', 'Noun'),\n",
       " ('연령', 'Noun'),\n",
       " ('의', 'Josa'),\n",
       " ('확대', 'Noun'),\n",
       " ('됨에', 'Verb'),\n",
       " ('따라', 'Verb'),\n",
       " ('육아휴직', 'Noun'),\n",
       " ('신청', 'Noun'),\n",
       " ('자', 'Suffix'),\n",
       " ('의', 'Josa'),\n",
       " ('수가', 'Noun'),\n",
       " ('어느', 'Adverb'),\n",
       " ('정도', 'Noun'),\n",
       " ('늘어날', 'Verb'),\n",
       " ('것', 'Noun'),\n",
       " ('으로', 'Josa'),\n",
       " ('예상', 'Noun'),\n",
       " ('된다', 'Verb'),\n",
       " ('.', 'Punctuation'),\n",
       " ('이', 'Noun'),\n",
       " ('경우', 'Noun'),\n",
       " ('발생', 'Noun'),\n",
       " ('하는', 'Verb'),\n",
       " ('비용', 'Noun'),\n",
       " ('은', 'Josa'),\n",
       " ('현행법', 'Noun'),\n",
       " ('에', 'Josa'),\n",
       " ('따르면', 'Verb'),\n",
       " ('월', 'Noun'),\n",
       " ('50만원', 'Number'),\n",
       " ('\\n\\n', 'Foreign'),\n",
       " ('이나', 'Noun'),\n",
       " ('현재', 'Noun'),\n",
       " ('관련', 'Noun'),\n",
       " ('법령', 'Noun'),\n",
       " ('개정', 'Noun'),\n",
       " ('이', 'Josa'),\n",
       " ('추진', 'Noun'),\n",
       " ('되고', 'Verb'),\n",
       " ('있으며', 'Adjective'),\n",
       " (',', 'Punctuation'),\n",
       " ('이', 'Noun'),\n",
       " ('에', 'Josa'),\n",
       " ('따라', 'Verb'),\n",
       " ('2011년', 'Number'),\n",
       " ('에는', 'Foreign'),\n",
       " ('육아휴직', 'Noun'),\n",
       " ('자', 'Suffix'),\n",
       " ('가', 'Josa'),\n",
       " ('지급', 'Noun'),\n",
       " ('받는', 'Verb'),\n",
       " ('월급', 'Noun'),\n",
       " ('여', 'Josa'),\n",
       " ('액', 'Noun'),\n",
       " ('에', 'Josa'),\n",
       " ('비례', 'Noun'),\n",
       " ('하여', 'Verb'),\n",
       " ('육아휴직', 'Noun'),\n",
       " ('급', 'Suffix'),\n",
       " ('여가', 'Noun'),\n",
       " ('지급', 'Noun'),\n",
       " ('되', 'Verb'),\n",
       " ('\\n\\n', 'Foreign'),\n",
       " ('기', 'Noun'),\n",
       " ('때문', 'Noun'),\n",
       " ('에', 'Josa'),\n",
       " ('법령', 'Noun'),\n",
       " ('개정', 'Noun'),\n",
       " ('을', 'Josa'),\n",
       " ('가정', 'Noun'),\n",
       " ('하고', 'Josa'),\n",
       " ('추계', 'Noun'),\n",
       " ('한', 'Josa'),\n",
       " ('다', 'Adverb'),\n",
       " ('.', 'Punctuation'),\n",
       " ('이러한', 'Adjective'),\n",
       " ('경우', 'Noun'),\n",
       " ('육아휴직', 'Noun'),\n",
       " ('급여', 'Noun'),\n",
       " ('\\n\\n', 'Foreign'),\n",
       " ('액', 'Noun'),\n",
       " ('은', 'Josa'),\n",
       " ('육아휴직', 'Noun'),\n",
       " ('자', 'Suffix'),\n",
       " ('가', 'Josa'),\n",
       " ('지급', 'Noun'),\n",
       " ('받는', 'Verb'),\n",
       " ('월급', 'Noun'),\n",
       " ('여의', 'Noun'),\n",
       " ('40%', 'Number'),\n",
       " ('에', 'Josa'),\n",
       " ('해당', 'Noun'),\n",
       " ('한', 'Josa'),\n",
       " ('다', 'Adverb'),\n",
       " ('.', 'Punctuation'),\n",
       " ('육아휴직', 'Noun'),\n",
       " ('자', 'Suffix'),\n",
       " ('가', 'Josa'),\n",
       " ('발생', 'Noun'),\n",
       " ('한', 'Josa'),\n",
       " ('경우', 'Noun'),\n",
       " ('발생', 'Noun'),\n",
       " ('하는', 'Verb'),\n",
       " ('비용', 'Noun'),\n",
       " ('은', 'Josa'),\n",
       " ('대', 'Modifier'),\n",
       " ('체인', 'Noun'),\n",
       " ('력', 'Suffix'),\n",
       " ('고용', 'Noun'),\n",
       " ('인건비', 'Noun'),\n",
       " ('와', 'Josa'),\n",
       " ('육아휴직', 'Noun'),\n",
       " ('자', 'Suffix'),\n",
       " ('가', 'Josa'),\n",
       " ('받는', 'Verb'),\n",
       " ('월급', 'Noun'),\n",
       " ('여', 'Josa'),\n",
       " ('액', 'Noun'),\n",
       " ('의', 'Josa'),\n",
       " ('40%', 'Number'),\n",
       " ('이다', 'Josa'),\n",
       " ('.', 'Punctuation'),\n",
       " ('이', 'Noun'),\n",
       " ('와', 'Josa'),\n",
       " ('대비', 'Noun'),\n",
       " ('하여', 'Verb'),\n",
       " ('육아휴직', 'Noun'),\n",
       " ('자', 'Suffix'),\n",
       " ('에게', 'Josa'),\n",
       " ('지급', 'Noun'),\n",
       " ('하던', 'Verb'),\n",
       " ('임금', 'Noun'),\n",
       " ('은', 'Josa'),\n",
       " ('더', 'Noun'),\n",
       " ('이상', 'Noun'),\n",
       " ('발생', 'Noun'),\n",
       " ('하지', 'Verb'),\n",
       " ('않는다', 'Verb'),\n",
       " ('.', 'Punctuation'),\n",
       " ('따라서', 'Noun'),\n",
       " ('실제', 'Noun'),\n",
       " ('발생', 'Noun'),\n",
       " ('하는', 'Verb'),\n",
       " ('순', 'Modifier'),\n",
       " ('비용', 'Noun'),\n",
       " ('은', 'Josa'),\n",
       " ('육', 'Noun'),\n",
       " ('\\n\\n', 'Foreign'),\n",
       " ('아', 'Exclamation'),\n",
       " ('휴직', 'Noun'),\n",
       " ('자', 'Suffix'),\n",
       " ('에게', 'Josa'),\n",
       " ('지급', 'Noun'),\n",
       " ('하던', 'Verb'),\n",
       " ('월', 'Noun'),\n",
       " ('급여', 'Noun'),\n",
       " ('액', 'Noun'),\n",
       " ('과', 'Josa'),\n",
       " ('연령', 'Noun'),\n",
       " ('확대', 'Noun'),\n",
       " ('에', 'Josa'),\n",
       " ('따라', 'Verb'),\n",
       " ('발생', 'Noun'),\n",
       " ('하는', 'Verb'),\n",
       " ('비용', 'Noun'),\n",
       " ('\\n\\n', 'Foreign'),\n",
       " ('인', 'Noun'),\n",
       " ('육아휴직', 'Noun'),\n",
       " ('자', 'Suffix'),\n",
       " ...]"
      ]
     },
     "execution_count": 191,
     "metadata": {},
     "output_type": "execute_result"
    }
   ],
   "source": [
    "#품사 태깅\n",
    "pos1 = okt.pos(doc_ko)\n",
    "pos1"
   ]
  },
  {
   "cell_type": "markdown",
   "metadata": {},
   "source": [
    "- 2. 휴대폰 번호와 전화번호를 모두 추출하는 정규식을 작성하고 리턴받아보자."
   ]
  },
  {
   "cell_type": "markdown",
   "metadata": {},
   "source": [
    "'\\d{2,3}-?\\d{4}-?\\d{4}'도 가능"
   ]
  },
  {
   "cell_type": "code",
   "execution_count": 60,
   "metadata": {},
   "outputs": [
    {
     "data": {
      "text/plain": [
       "['010-1234-5678', '0211335577']"
      ]
     },
     "execution_count": 60,
     "metadata": {},
     "output_type": "execute_result"
    }
   ],
   "source": [
    "text = \"제 휴대폰 번호는 010-1234-5678이고, 전화번호는 0211335577입니다.\"\n",
    "r = re.compile('[0-9]{1,}-?[0-9]{1,}-?[0-9]{1,}')\n",
    "re.findall(r, text)"
   ]
  },
  {
   "cell_type": "code",
   "execution_count": 61,
   "metadata": {},
   "outputs": [
    {
     "data": {
      "text/plain": [
       "'제 휴대폰 번호는 ***-****-****이고, 전화번호는 **********입니다.'"
      ]
     },
     "execution_count": 61,
     "metadata": {},
     "output_type": "execute_result"
    }
   ],
   "source": [
    "re.sub(re.compile('[0-9]'),'*',text)"
   ]
  },
  {
   "cell_type": "markdown",
   "metadata": {},
   "source": [
    "- 3. 휴대폰 번호와 전화번호를 모두 추출하는 정규식을 작성하고 리턴받아보자."
   ]
  },
  {
   "cell_type": "markdown",
   "metadata": {},
   "source": [
    "'\\d{2,3}\\W?\\d{4}\\W?\\d{4}' 도 가능"
   ]
  },
  {
   "cell_type": "code",
   "execution_count": 62,
   "metadata": {},
   "outputs": [
    {
     "data": {
      "text/plain": [
       "['010-1234-5678', '0211335577', '02.1133.5599']"
      ]
     },
     "execution_count": 62,
     "metadata": {},
     "output_type": "execute_result"
    }
   ],
   "source": [
    "text = \"제 휴대폰 번호는 010-1234-5678이고, 전화번호는 0211335577과 02.1133.5599입니다.\"\n",
    "r = re.compile('[0-9]{1,}[-.]?[0-9]{1,}[-.]?[0-9]{1,}')\n",
    "re.findall(r, text)"
   ]
  },
  {
   "cell_type": "code",
   "execution_count": 59,
   "metadata": {},
   "outputs": [
    {
     "data": {
      "text/plain": [
       "'제 휴대폰 번호는 ***-****-****이고, 전화번호는 **********과 **.****.****입니다.'"
      ]
     },
     "execution_count": 59,
     "metadata": {},
     "output_type": "execute_result"
    }
   ],
   "source": [
    "re.sub(re.compile('[0-9]'),'*',text)"
   ]
  }
 ],
 "metadata": {
  "kernelspec": {
   "display_name": "Python 3",
   "language": "python",
   "name": "python3"
  },
  "language_info": {
   "codemirror_mode": {
    "name": "ipython",
    "version": 3
   },
   "file_extension": ".py",
   "mimetype": "text/x-python",
   "name": "python",
   "nbconvert_exporter": "python",
   "pygments_lexer": "ipython3",
   "version": "3.6.8"
  }
 },
 "nbformat": 4,
 "nbformat_minor": 2
}
